{
 "cells": [
  {
   "cell_type": "markdown",
   "id": "eb6bd099-152b-442f-bf50-0ef893684279",
   "metadata": {},
   "source": [
    "# Reverse Vowels of a String\n",
    "- 문자열 s가 주어지면 문자열의 모든 모음만 반전하여 반환\n",
    "- 모음은 a, e, i, o, u이고 소문자와 대문자 모두 한 번 이상 나타날 수 있음\n",
    "- 1 <= s.length <= 3 * 10^5"
   ]
  },
  {
   "cell_type": "code",
   "execution_count": 72,
   "id": "eb44f780-bdac-4a85-a0be-5e93ceda7cef",
   "metadata": {},
   "outputs": [],
   "source": [
    "# Pointer\n",
    "def reverseVowels(s: str) -> str:\n",
    "    vowels = [\"a\", \"e\", \"i\", \"o\", \"u\", \"A\", \"E\", \"I\", \"O\", \"U\"]\n",
    "    answer_list = list(s)\n",
    "    \n",
    "    forward = 0\n",
    "    backward = len(answer_list) - 1\n",
    "    i = forward\n",
    "    is_forward = True\n",
    "\n",
    "    while(forward < backward):\n",
    "        if is_forward and answer_list[i] in vowels:\n",
    "            forward = i\n",
    "            is_forward = False\n",
    "            i = backward\n",
    "        elif not is_forward and answer_list[i] in vowels:\n",
    "            tmp = answer_list[i]\n",
    "            answer_list[i] = answer_list[forward]\n",
    "            answer_list[forward] = tmp\n",
    "            backward = i - 1\n",
    "            i = forward + 1\n",
    "            is_forward = True\n",
    "        elif is_forward:\n",
    "            forward += 1\n",
    "            i += 1\n",
    "        elif not is_forward:\n",
    "            backward -= 1\n",
    "            i -= 1\n",
    "\n",
    "    return \"\".join(answer_list)"
   ]
  },
  {
   "cell_type": "code",
   "execution_count": 73,
   "id": "bba439e0-69ce-4604-92f4-5a01d611e896",
   "metadata": {},
   "outputs": [],
   "source": [
    "test_sets = [\"hello\", \"leetcode\", \"abc\", \"aeiou\", \"a\", \"hEllo\"]\n",
    "answers = [\"holle\", \"leotcede\", \"abc\", \"uoiea\", \"a\", \"hollE\"]\n",
    "\n",
    "for i, s in enumerate(test_sets):\n",
    "    assert answers[i] == reverseVowels(s)"
   ]
  },
  {
   "cell_type": "markdown",
   "id": "389cf146-5676-4bc8-b8b2-af3c905b1bb0",
   "metadata": {},
   "source": [
    "## 코드 개선하기\n",
    "- pointer 다루는 방식이 다소 복잡하게 구현되어 있음, 좀 더 깔끔하게 작성 가능"
   ]
  },
  {
   "cell_type": "code",
   "execution_count": 74,
   "id": "ec4fc359-15c4-4815-b68b-8ff6b86fd208",
   "metadata": {},
   "outputs": [],
   "source": [
    "def reverseVowels_pointer_improve(s: str) -> str:\n",
    "    vowels = [\"a\", \"e\", \"i\", \"o\", \"u\", \"A\", \"E\", \"I\", \"O\", \"U\"]\n",
    "    answer_list = list(s)\n",
    "    \n",
    "    start = 0\n",
    "    end = len(answer_list) - 1\n",
    "\n",
    "    while(start < end):\n",
    "        while start < end and not answer_list[start] in vowels:\n",
    "            start += 1\n",
    "        while start < end and not answer_list[end] in vowels:\n",
    "            end -= 1\n",
    "\n",
    "        tmp = answer_list[end]\n",
    "        answer_list[end] = answer_list[start]\n",
    "        answer_list[start] = tmp\n",
    "\n",
    "        start += 1\n",
    "        end -= 1\n",
    "\n",
    "    return \"\".join(answer_list)"
   ]
  },
  {
   "cell_type": "code",
   "execution_count": 75,
   "id": "e740457e-e271-4aa2-ab0c-68dedb3770b7",
   "metadata": {},
   "outputs": [],
   "source": [
    "for i, s in enumerate(test_sets):\n",
    "    assert answers[i] == reverseVowels_pointer_improve(s)"
   ]
  },
  {
   "cell_type": "markdown",
   "id": "3f30e1ce-58b1-4c1b-be3e-a3a56c88bd1a",
   "metadata": {},
   "source": [
    "## 다른 방식으로 풀어보기\n",
    "- Stack 활용한 방식"
   ]
  },
  {
   "cell_type": "code",
   "execution_count": 76,
   "id": "d1ff7b7a-124d-4247-a73e-60766a7148b8",
   "metadata": {},
   "outputs": [],
   "source": [
    "def reverseVowels_stack(s: str) -> str:\n",
    "    vowels = [\"a\", \"e\", \"i\", \"o\", \"u\", \"A\", \"E\", \"I\", \"O\", \"U\"]\n",
    "\n",
    "    stack = []\n",
    "    answer_list = list(s)\n",
    "    for element in answer_list:\n",
    "        if element in vowels:\n",
    "            stack.append(element)\n",
    "    for i, element in enumerate(answer_list):\n",
    "        if element in vowels:\n",
    "            answer_list[i] = stack.pop()\n",
    "\n",
    "    return \"\".join(answer_list)"
   ]
  },
  {
   "cell_type": "code",
   "execution_count": 77,
   "id": "72446786-db08-490b-b331-ee61c7ecf082",
   "metadata": {},
   "outputs": [],
   "source": [
    "for i, s in enumerate(test_sets):\n",
    "    assert answers[i] == reverseVowels_stack(s)"
   ]
  },
  {
   "cell_type": "markdown",
   "id": "f2e8a431-f2a6-4bbb-9f46-d37c5709b4f7",
   "metadata": {},
   "source": [
    "## 솔루션\n",
    "- 에디터 설명은 유료여서 확인은 못했고, 사람들이 올린 보편적인 솔루션은 내가 푼 두가지 방식"
   ]
  }
 ],
 "metadata": {
  "kernelspec": {
   "display_name": "Python 3 (ipykernel)",
   "language": "python",
   "name": "python3"
  },
  "language_info": {
   "codemirror_mode": {
    "name": "ipython",
    "version": 3
   },
   "file_extension": ".py",
   "mimetype": "text/x-python",
   "name": "python",
   "nbconvert_exporter": "python",
   "pygments_lexer": "ipython3",
   "version": "3.10.9"
  }
 },
 "nbformat": 4,
 "nbformat_minor": 5
}

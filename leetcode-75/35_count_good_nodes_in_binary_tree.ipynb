{
 "cells": [
  {
   "cell_type": "markdown",
   "id": "8126e4e6-51cc-45e4-9662-eee6b076c4bc",
   "metadata": {},
   "source": [
    "# Count Good Nodes in Binary Tree\n",
    "- 이진 트리 루트가 주어졌을 때 루트에서 X까지의 경로에 X보다 큰 값을 가진 노드가 없는 경우 트리의 노드 X를 좋은 노드라고 합니다.\n",
    "- 이진 트리에서 좋은 노드의 수를 반환합니다.\n",
    "- The number of nodes in the binary tree is in the range [1, 10^5].\n",
    "- Each node's value is between [-10^4, 10^4]."
   ]
  },
  {
   "cell_type": "code",
   "execution_count": 6,
   "id": "ec0ed228-6e12-4802-b925-b1a06d6532b7",
   "metadata": {},
   "outputs": [],
   "source": [
    "class TreeNode:\n",
    "    def __init__(self, val=0, left=None, right=None):\n",
    "        self.val = val\n",
    "        self.left = left\n",
    "        self.right = right\n",
    "\n",
    "\n",
    "def goodNodes(root: TreeNode) -> int:\n",
    "    count = []\n",
    "    \n",
    "    def dfs(node: Optional[TreeNode], max_value: int):\n",
    "        if not node:\n",
    "            return\n",
    "        \n",
    "        if node.val >= max_value:\n",
    "            count.append(1)\n",
    "            max_value = node.val\n",
    "\n",
    "        dfs(node.left, max_value)\n",
    "        dfs(node.right, max_value)\n",
    "\n",
    "    dfs(root, float(-inf))\n",
    "    \n",
    "    return len(count)"
   ]
  },
  {
   "cell_type": "markdown",
   "id": "3b3964b4-1dbc-44bb-8081-432598760159",
   "metadata": {},
   "source": [
    "## 개선\n",
    "- count 라는 객체는 사실 갯수를 세는데만 사용되기에 크게 의미는 없는 내용인데 최대 O(n)만큼이 사용될 수 있기 때문에 비효율적"
   ]
  },
  {
   "cell_type": "code",
   "execution_count": 7,
   "id": "9f71d7a5-2812-4dc4-b1f5-aed9c80add91",
   "metadata": {},
   "outputs": [],
   "source": [
    "def goodNodes_improve(root: TreeNode) -> int:    \n",
    "    def dfs(node: Optional[TreeNode], max_value: int):\n",
    "        if not node:\n",
    "            return 0\n",
    "\n",
    "        tmp = 0\n",
    "        \n",
    "        if node.val >= max_value:\n",
    "            tmp += 1\n",
    "            max_value = node.val\n",
    "\n",
    "        left_count = dfs(node.left, max_value)\n",
    "        right_count = dfs(node.right, max_value)\n",
    "\n",
    "        return left_count + right_count + tmp\n",
    "\n",
    "    return dfs(root, float(-inf))"
   ]
  },
  {
   "cell_type": "markdown",
   "id": "23a402fd-b283-4712-a560-30e6c0456f61",
   "metadata": {},
   "source": [
    "## 솔루션\n",
    "- 개선 답과 동일"
   ]
  },
  {
   "cell_type": "code",
   "execution_count": null,
   "id": "256a574c-f6bf-4a10-91a8-557b62da2220",
   "metadata": {},
   "outputs": [],
   "source": []
  }
 ],
 "metadata": {
  "kernelspec": {
   "display_name": "Python 3 (ipykernel)",
   "language": "python",
   "name": "python3"
  },
  "language_info": {
   "codemirror_mode": {
    "name": "ipython",
    "version": 3
   },
   "file_extension": ".py",
   "mimetype": "text/x-python",
   "name": "python",
   "nbconvert_exporter": "python",
   "pygments_lexer": "ipython3",
   "version": "3.10.9"
  }
 },
 "nbformat": 4,
 "nbformat_minor": 5
}

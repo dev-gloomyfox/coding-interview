{
 "cells": [
  {
   "cell_type": "markdown",
   "id": "b2fbbcf5-1403-4562-accc-8e3654d16fd6",
   "metadata": {},
   "source": [
    "# Search in a Binary Search Tree\n",
    "- 이진 검색 트리(BST)의 루트와 정수값이 주어짐\n",
    "- BST에서 노드의 값이 val과 같은 노드를 찾아 그 노드를 루트로 하는 하위 트리를 반환\n",
    "- 그러한 노드가 존재하지 않으면 null을 반환\n",
    "- The number of nodes in the tree is in the range [1, 5000].\n",
    "- 1 <= Node.val <= 10^7\n",
    "- root is a binary search tree.\n",
    "- 1 <= val <= 10^7"
   ]
  },
  {
   "cell_type": "code",
   "execution_count": 2,
   "id": "aa92b905-ab38-42d9-889b-e8c1b03d80d3",
   "metadata": {},
   "outputs": [],
   "source": [
    "from typing import Optional\n",
    "\n",
    "\n",
    "class TreeNode:\n",
    "    def __init__(self, val=0, left=None, right=None):\n",
    "        self.val = val\n",
    "        self.left = left\n",
    "        self.right = right\n",
    "\n",
    "\n",
    "def searchBST(root: Optional[TreeNode], val: int) -> Optional[TreeNode]:\n",
    "    if not root:\n",
    "        return None\n",
    "    if root.val == val:\n",
    "        return root\n",
    "    if root.val < val:\n",
    "        return searchBST(root.right, val)\n",
    "    if root.val > val:\n",
    "        return searchBST(root.left, val)"
   ]
  },
  {
   "cell_type": "code",
   "execution_count": 6,
   "id": "57f069f4-388c-4a21-bb7b-1231bc42964f",
   "metadata": {},
   "outputs": [],
   "source": [
    "test_sets = [\n",
    "    (\n",
    "        TreeNode(\n",
    "            val=4,\n",
    "            left=TreeNode(\n",
    "                val=2,\n",
    "                left=TreeNode(\n",
    "                    val=1\n",
    "                ),\n",
    "                right=TreeNode(\n",
    "                    val=3\n",
    "                )\n",
    "            ),\n",
    "            right=TreeNode(\n",
    "                val=7\n",
    "            )\n",
    "        ), \n",
    "        2\n",
    "    )\n",
    "]\n",
    "expects = [\n",
    "    test_sets[0][0].left\n",
    "]\n",
    "\n",
    "for i, (root, val) in enumerate(test_sets):\n",
    "    assert expects[i] == searchBST(root, val)"
   ]
  },
  {
   "cell_type": "markdown",
   "id": "f0373978-d215-47dd-b3d7-5ea2a1c7e89f",
   "metadata": {},
   "source": [
    "## 솔루션\n",
    "- 정답과 동일"
   ]
  },
  {
   "cell_type": "code",
   "execution_count": null,
   "id": "c7b3a5c9-8912-48c8-9237-f5cf2e124438",
   "metadata": {},
   "outputs": [],
   "source": []
  }
 ],
 "metadata": {
  "kernelspec": {
   "display_name": "Python 3 (ipykernel)",
   "language": "python",
   "name": "python3"
  },
  "language_info": {
   "codemirror_mode": {
    "name": "ipython",
    "version": 3
   },
   "file_extension": ".py",
   "mimetype": "text/x-python",
   "name": "python",
   "nbconvert_exporter": "python",
   "pygments_lexer": "ipython3",
   "version": "3.10.9"
  }
 },
 "nbformat": 4,
 "nbformat_minor": 5
}

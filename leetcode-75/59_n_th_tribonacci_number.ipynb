{
 "cells": [
  {
   "cell_type": "markdown",
   "id": "93cc750d-b49f-4d3f-8cb2-c38d7ef5c622",
   "metadata": {},
   "source": [
    "# N-th Tribonacci Number\n",
    "- 트리보나치 수열 Tn은 다음과 같이 정의\n",
    "- n >= 0일 때 T0 = 0, T1 = 1, T2 = 1, Tn+3 = Tn + Tn+1 + Tn+2\n",
    "- n이 주어지면 Tn의 값을 반환\n",
    "- 0 <= n <= 37\n",
    "- answer <= 2^31 - 1."
   ]
  },
  {
   "cell_type": "code",
   "execution_count": 3,
   "id": "79e4d7f2-d612-4df1-b2aa-1bd147c5d44c",
   "metadata": {},
   "outputs": [],
   "source": [
    "def tribonacci(n: int) -> int:\n",
    "    if n == 0:\n",
    "        return 0\n",
    "    if n == 1:\n",
    "        return 1\n",
    "    if n == 2:\n",
    "        return 1\n",
    "    \n",
    "    return tribonacci(n - 1) + tribonacci(n - 2) + tribonacci(n - 3)"
   ]
  },
  {
   "cell_type": "code",
   "execution_count": 5,
   "id": "c6b97801-f202-454e-a297-6d4a9b71782c",
   "metadata": {},
   "outputs": [],
   "source": [
    "test_sets = [4, 25]\n",
    "expects = [4, 1389537]\n",
    "\n",
    "for i, test_set in enumerate(test_sets):\n",
    "    assert expects[i] == tribonacci(test_set)"
   ]
  },
  {
   "cell_type": "markdown",
   "id": "db4d4221-d14a-4f4a-b999-06a602575eda",
   "metadata": {},
   "source": [
    "## 개선\n",
    "- 내려갈 때마다 계산이 쌓이게 되는 형태이기 때문에 dp로 개선이 가능"
   ]
  },
  {
   "cell_type": "code",
   "execution_count": 20,
   "id": "7d9608dc-9e39-47a8-b437-7e0b663d3376",
   "metadata": {},
   "outputs": [],
   "source": [
    "def tribonacci_improve(n: int) -> int:\n",
    "    mapper = {\n",
    "        0: 0,\n",
    "        1: 1,\n",
    "        2: 1\n",
    "    }\n",
    "    def execute(i: int) -> int:\n",
    "        if mapper.get(i, None) is not None:\n",
    "            return mapper[i]\n",
    "\n",
    "        answer = execute(i - 1) + execute(i - 2) + execute(i - 3)\n",
    "        mapper[i] = answer\n",
    "        return answer\n",
    "    return execute(n)"
   ]
  },
  {
   "cell_type": "code",
   "execution_count": 21,
   "id": "a5f52695-eb8f-45da-914d-d7a3d48812d7",
   "metadata": {},
   "outputs": [],
   "source": [
    "test_sets = [4, 25]\n",
    "expects = [4, 1389537]\n",
    "\n",
    "for i, test_set in enumerate(test_sets):\n",
    "    assert expects[i] == tribonacci_improve(test_set)"
   ]
  },
  {
   "cell_type": "markdown",
   "id": "d1c197e8-08ce-4d82-b5ca-ade114297e40",
   "metadata": {},
   "source": [
    "## 솔루션\n",
    "- 개선 답과 동일"
   ]
  },
  {
   "cell_type": "code",
   "execution_count": null,
   "id": "e862b9ef-7286-4d1f-b71f-6f62de049430",
   "metadata": {},
   "outputs": [],
   "source": []
  }
 ],
 "metadata": {
  "kernelspec": {
   "display_name": "Python 3 (ipykernel)",
   "language": "python",
   "name": "python3"
  },
  "language_info": {
   "codemirror_mode": {
    "name": "ipython",
    "version": 3
   },
   "file_extension": ".py",
   "mimetype": "text/x-python",
   "name": "python",
   "nbconvert_exporter": "python",
   "pygments_lexer": "ipython3",
   "version": "3.10.9"
  }
 },
 "nbformat": 4,
 "nbformat_minor": 5
}

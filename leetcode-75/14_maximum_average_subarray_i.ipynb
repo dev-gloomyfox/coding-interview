{
 "cells": [
  {
   "cell_type": "markdown",
   "id": "aaef0842-41ae-4b85-9172-dc2d0a22d5e9",
   "metadata": {},
   "source": [
    "# Maximum Average Subarray I\n",
    "- 정수 배열 n개 원소를 가진 nums가 주어지고 정수 k가 주어짐\n",
    "- 최대 평균값을 갖는 길이가 k와 같은 연속된 하위 배열을 찾아 이 값을 반환, 계산 오차가 10^-5 미만인 모든 답이 허용\n",
    "- n == nums.length\n",
    "- 1 <= k <= n <= 10^5\n",
    "- -10^4 <= nums[i] <= 10^4"
   ]
  },
  {
   "cell_type": "code",
   "execution_count": 25,
   "id": "46a674e2-fa3a-4e0b-9bc9-8028adff4bad",
   "metadata": {},
   "outputs": [],
   "source": [
    "def findMaxAverage(nums: list[int], k: int) -> float:\n",
    "    answer = float(\"-inf\")\n",
    "    for i in range(len(nums) - k + 1):\n",
    "        tmp = 0\n",
    "        for j in range(i, i + k):\n",
    "            tmp += nums[j]\n",
    "        tmp = tmp / k\n",
    "        answer = tmp if tmp > answer else answer\n",
    "    return answer"
   ]
  },
  {
   "cell_type": "code",
   "execution_count": 26,
   "id": "d56b5b4c-bc12-4371-807f-fcc49f5ae41c",
   "metadata": {},
   "outputs": [],
   "source": [
    "test_sets = [([1, 12, -5, -6, 50, 3], 4), ([5], 1)]\n",
    "expects = [12.75000, 5.0000]\n",
    "\n",
    "for i, (nums, k) in enumerate(test_sets):\n",
    "    assert abs(expects[i] - findMaxAverage(nums, k)) <= 1e-5"
   ]
  },
  {
   "cell_type": "markdown",
   "id": "5b86c2ba-8ce8-4b21-91ca-f932b456da91",
   "metadata": {},
   "source": [
    "## 개선\n",
    "- 위 코드는 시간 제한에 걸림, 속도 개선 필요\n",
    "- 기존 값들을 매번 다시 계산할 필요는 없음, 처음 위치에서 바뀌는 값만 보면됨"
   ]
  },
  {
   "cell_type": "code",
   "execution_count": 28,
   "id": "2089d3bd-5e33-4646-b4f6-35c6d5b4b157",
   "metadata": {},
   "outputs": [],
   "source": [
    "def findMaxAverage_improve(nums: list[int], k: int) -> float:\n",
    "    value = 0\n",
    "    for i in range(k):\n",
    "        value += nums[i]\n",
    "    sum = value\n",
    "    for i in range(1, len(nums) - k + 1):\n",
    "        value -= nums[i - 1]\n",
    "        value += nums[i + k - 1]\n",
    "        sum = max(value, sum)\n",
    "    return sum / k"
   ]
  },
  {
   "cell_type": "code",
   "execution_count": 29,
   "id": "d1b23b7e-6e6b-4fb2-a799-f0a18ba21dcb",
   "metadata": {},
   "outputs": [],
   "source": [
    "test_sets = [([1, 12, -5, -6, 50, 3], 4), ([5], 1)]\n",
    "expects = [12.75000, 5.0000]\n",
    "\n",
    "for i, (nums, k) in enumerate(test_sets):\n",
    "    assert abs(expects[i] - findMaxAverage_improve(nums, k)) <= 1e-5"
   ]
  },
  {
   "cell_type": "markdown",
   "id": "d8ad7555-de60-43e0-a171-daa7899aa39a",
   "metadata": {},
   "source": [
    "## 솔루션\n",
    "- 정답과 동일"
   ]
  }
 ],
 "metadata": {
  "kernelspec": {
   "display_name": "Python 3 (ipykernel)",
   "language": "python",
   "name": "python3"
  },
  "language_info": {
   "codemirror_mode": {
    "name": "ipython",
    "version": 3
   },
   "file_extension": ".py",
   "mimetype": "text/x-python",
   "name": "python",
   "nbconvert_exporter": "python",
   "pygments_lexer": "ipython3",
   "version": "3.10.9"
  }
 },
 "nbformat": 4,
 "nbformat_minor": 5
}

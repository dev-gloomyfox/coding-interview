{
 "cells": [
  {
   "cell_type": "markdown",
   "id": "28e7fc03-0665-4785-b08a-a6e1e186464e",
   "metadata": {},
   "source": [
    "# Container With Most Water\n",
    "- 길이 n의 정수 배열 height가 주어지고, n번째 선의 두 끝점이 (i, 0)과 (i, height[i])가 되도록 수직선이 n개 그려져 있는 상황\n",
    "- x축과 함께 사각형을 형성하는 두 개의 선을 찾아 용기에 가장 많은 물이 들어 있는 것을 구함\n",
    "- 가장 많은 물을 저장할 수 있는 양을 반환\n",
    "- n == height.length\n",
    "- 2 <= n <= 10^5\n",
    "- 0 <= height[i] <= 10^4"
   ]
  },
  {
   "cell_type": "code",
   "execution_count": 5,
   "id": "a0f9efc8-725a-4e06-872c-f4e4a5dd3d24",
   "metadata": {},
   "outputs": [],
   "source": [
    "def maxArea(height: list[int]) -> int:\n",
    "    area = 0\n",
    "    for i in range(len(height)):\n",
    "        x = 0\n",
    "        for j in range(i + 1, len(height)):\n",
    "            x += 1\n",
    "            area = x * min(height[i], height[j]) if x * min(height[i], height[j]) > area else area\n",
    "    return area"
   ]
  },
  {
   "cell_type": "code",
   "execution_count": 13,
   "id": "4fe0a555-1976-4cc0-a5af-c9721ff45b31",
   "metadata": {},
   "outputs": [],
   "source": [
    "test_sets = [[1, 8, 6, 2, 5, 4, 8, 3, 7], [1, 1]]\n",
    "expects = [49, 1]\n",
    "\n",
    "for i, test_set in enumerate(test_sets):\n",
    "    assert expects[i] == maxArea(test_set)"
   ]
  },
  {
   "cell_type": "markdown",
   "id": "304337aa-ed77-4891-bd46-2dff1172f16f",
   "metadata": {},
   "source": [
    "## 개선\n",
    "- 위 방식으로 풀었을 때 O(n^2)으로 시간 초과에 걸리기에 더 빠른 방식 탐색 필요\n",
    "- x축을 최대 값에서 시작, 즉 양 끝 점을 잡음\n",
    "- 더 짧은 쪽이 이동해야 값이 커질 가능성이 있음, y축 값 중 더 짧은 쪽을 이동"
   ]
  },
  {
   "cell_type": "code",
   "execution_count": 11,
   "id": "213c6a60-7326-4a01-9f8c-bc6ef8834f7e",
   "metadata": {},
   "outputs": [],
   "source": [
    "def maxArea_improve(height: list[int]) -> int:\n",
    "    start = 0\n",
    "    end = len(height) - 1\n",
    "    \n",
    "    area = 0\n",
    "    \n",
    "    while start < end:\n",
    "        if height[start] > height[end]:\n",
    "            tmp = height[end] * (end - start)\n",
    "            end -= 1\n",
    "        else:\n",
    "            tmp = height[start] * (end - start)\n",
    "            start += 1\n",
    "        if tmp > area:\n",
    "            area = tmp\n",
    "    \n",
    "    return area"
   ]
  },
  {
   "cell_type": "code",
   "execution_count": 14,
   "id": "0e97a76e-bdde-459d-9171-cddfa0f6c18b",
   "metadata": {},
   "outputs": [],
   "source": [
    "test_sets = [[1, 8, 6, 2, 5, 4, 8, 3, 7], [1, 1]]\n",
    "expects = [49, 1]\n",
    "\n",
    "for i, test_set in enumerate(test_sets):\n",
    "    assert expects[i] == maxArea_improve(test_set)"
   ]
  },
  {
   "cell_type": "markdown",
   "id": "55f81cb9-8509-49c9-a29b-301e3dcf28ee",
   "metadata": {},
   "source": [
    "## 솔루션\n",
    "- 정답과 동일"
   ]
  }
 ],
 "metadata": {
  "kernelspec": {
   "display_name": "Python 3 (ipykernel)",
   "language": "python",
   "name": "python3"
  },
  "language_info": {
   "codemirror_mode": {
    "name": "ipython",
    "version": 3
   },
   "file_extension": ".py",
   "mimetype": "text/x-python",
   "name": "python",
   "nbconvert_exporter": "python",
   "pygments_lexer": "ipython3",
   "version": "3.10.9"
  }
 },
 "nbformat": 4,
 "nbformat_minor": 5
}

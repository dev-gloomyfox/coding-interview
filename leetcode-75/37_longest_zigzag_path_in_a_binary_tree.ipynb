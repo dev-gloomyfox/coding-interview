{
 "cells": [
  {
   "cell_type": "markdown",
   "id": "d3e6b17d-31a6-4b16-b541-d31eebb0a416",
   "metadata": {},
   "source": [
    "# Longest ZigZag Path in a Binary Tree\n",
    "- 이진 트리의 루트가 주어집니다.\n",
    "- 이진 트리의 지그재그 경로는 다음과 같이 정의됩니다:\n",
    "  - 이진 트리에서 아무 노드와 방향(오른쪽 또는 왼쪽)을 선택합니다.\n",
    "  - 현재 방향이 오른쪽이면 현재 노드의 오른쪽 자식으로 이동하고, 그렇지 않으면 왼쪽 자식으로 이동합니다.\n",
    "  - 오른쪽에서 왼쪽으로 또는 왼쪽에서 오른쪽으로 방향을 변경합니다.\n",
    "  - 트리에서 움직일 수 없을 때까지 두 번째와 세 번째 단계를 반복합니다.\n",
    "  - 지그재그 길이는 방문한 노드 수 - 1로 정의됩니다(단일 노드의 길이는 0).\n",
    "- 해당 트리에 포함된 가장 긴 지그재그 경로를 반환합니다.\n",
    "- The number of nodes in the tree is in the range [1, 5 * 10^4].\n",
    "- 1 <= Node.val <= 100"
   ]
  },
  {
   "cell_type": "code",
   "execution_count": 2,
   "id": "9fe351b6-0cb9-4409-b4db-314d36d2a635",
   "metadata": {},
   "outputs": [],
   "source": [
    "from typing import Optional\n",
    "\n",
    "\n",
    "class TreeNode:\n",
    "    def __init__(self, val=0, left=None, right=None):\n",
    "        self.val = val\n",
    "        self.left = left\n",
    "        self.right = right\n",
    "\n",
    "\n",
    "def longestZigZag(root: Optional[TreeNode]) -> int:\n",
    "    \"\"\"\n",
    "    이진 트리에서 DFS를 하면서 지그재그 경로 최대 값 파악\n",
    "    0. root는 반드시 있기 때문에 null 체크는 필요 없는 상황\n",
    "    1. Root에서 시작, 왼쪽으로 보내보고 오른쪽으로 보내보면서 스텝 수 파악\n",
    "    2-1. 오른쪽(또는 왼쪽)으로 갔는데, 다음에 왼쪽(또는 오른쪽) 값이 있다면 경로 수를 하나 증가시키고 왼쪽(또는 오른쪽) 방향 탐색 지속\n",
    "    2-2. 오른쪽(또는 왼쪽)으로 갔는데, 다음에 오른쪽(또는 왼쪽) 값이 있다면 경로 수를 초기화 시키고 오른쪽(또는 왼쪽) 방향 탐색 지속\n",
    "    3. 2단계에서 각 경로의 길이 값들을 한 곳에 모은 후 가장 큰 값을 반환\n",
    "    \"\"\"\n",
    "    counts = []\n",
    "    def dfs(node: Optional[TreeNode], is_left: bool, count: int):\n",
    "        if not node:\n",
    "            counts.append(count)\n",
    "            return\n",
    "            \n",
    "        if is_left:\n",
    "            dfs(node.right, False, count + 1)  # 전에 left였다면 right는 기존 경로 길이에 하나를 추가하면서 다음을 진행\n",
    "            counts.append(count)\n",
    "            dfs(node.left, True, 0)  # 전에 left였다면 left는 값을 초기화하고 현재까지의 값을 저장한 후 다음을 진행\n",
    "        else:\n",
    "            dfs(node.left, True, count + 1)  # 전에 right였다면 left는 기존 경로 길이에 하나를 추가하면서 다음을 진행\n",
    "            counts.append(count)\n",
    "            dfs(node.right, False, 0)  # 전에 right였다면 right는 값을 초기화하고 현재까지의 값을 저장한 후 다음을 진행\n",
    "\n",
    "    dfs(root.left, True, 0)\n",
    "    dfs(root.right, False, 0)\n",
    "\n",
    "    return max(counts)"
   ]
  },
  {
   "cell_type": "markdown",
   "id": "6e4a30d7-f64c-42e1-992b-9b30154821d1",
   "metadata": {},
   "source": [
    "## 개선\n",
    "- counts는 최악의 경우 노드 수만큼 발생할 수 있는데 공간을 더 줄일 수 있을 것 같음\n",
    "- 한 방향에서 최대 경로 값을 쥐고 있다가 현재 값과 비교를 하면 상수 공간만 사용할 수 있을 듯"
   ]
  },
  {
   "cell_type": "code",
   "execution_count": 5,
   "id": "9230aaf6-e615-4ca3-a199-799d1da443fb",
   "metadata": {},
   "outputs": [],
   "source": [
    "def longestZigZag_improve(root: Optional[TreeNode]) -> int:\n",
    "    def dfs(node: Optional[TreeNode], is_left: bool, count: int, maximum: int) -> int:\n",
    "        if not node:\n",
    "            return max(count, maximum)\n",
    "\n",
    "        maximum = count\n",
    "        if is_left:\n",
    "            right_path_maximum = dfs(node.right, False, count + 1, maximum)\n",
    "            left_path_maximum = dfs(node.left, True, 0, maximum)\n",
    "        else:\n",
    "            left_path_maximum = dfs(node.left, True, count + 1, maximum)\n",
    "            right_path_maximum = dfs(node.right, False, 0, maximum)\n",
    "        return max(right_path_maximum, left_path_maximum)\n",
    "\n",
    "    left = dfs(root.left, True, 0, 0)\n",
    "    right = dfs(root.right, False, 0, 0)\n",
    "\n",
    "    return max(left, right)"
   ]
  },
  {
   "cell_type": "markdown",
   "id": "ff70a615-4230-411a-a72c-36c94d4c1e2e",
   "metadata": {},
   "source": [
    "## 솔루션\n",
    "- 개선 답과 동일"
   ]
  },
  {
   "cell_type": "code",
   "execution_count": null,
   "id": "222ac030-0fc9-4760-973b-2b20c6530f12",
   "metadata": {},
   "outputs": [],
   "source": []
  }
 ],
 "metadata": {
  "kernelspec": {
   "display_name": "Python 3 (ipykernel)",
   "language": "python",
   "name": "python3"
  },
  "language_info": {
   "codemirror_mode": {
    "name": "ipython",
    "version": 3
   },
   "file_extension": ".py",
   "mimetype": "text/x-python",
   "name": "python",
   "nbconvert_exporter": "python",
   "pygments_lexer": "ipython3",
   "version": "3.10.9"
  }
 },
 "nbformat": 4,
 "nbformat_minor": 5
}

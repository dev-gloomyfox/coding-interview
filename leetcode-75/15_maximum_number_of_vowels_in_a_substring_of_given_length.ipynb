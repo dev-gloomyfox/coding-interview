{
 "cells": [
  {
   "cell_type": "markdown",
   "id": "e835642b-9a6a-4c0b-8951-1fbdb072d39c",
   "metadata": {},
   "source": [
    "# Maximum Number of Vowels in a Substring of Given Length\n",
    "- 문자열 s와 정수 k가 주어졌을 때, 길이가 k인 s의 부분 문자열에서 모음 글자의 최대 개수를 반환\n",
    "- 1 <= s.length <= 10^5\n",
    "- s는 영문소문자\n",
    "- 1 <= k <= s.length"
   ]
  },
  {
   "cell_type": "code",
   "execution_count": 12,
   "id": "c650790d-2f53-49a7-817d-98698139baba",
   "metadata": {},
   "outputs": [],
   "source": [
    "def maxVowels(s: str, k: int) -> int:\n",
    "    vowels = [\"a\", \"e\", \"i\", \"o\", \"u\"]\n",
    "    current = 0\n",
    "    for i in range(k):\n",
    "        if s[i] in vowels:\n",
    "            current += 1\n",
    "    count = current\n",
    "    if count == k:\n",
    "        return count\n",
    "    index = 0\n",
    "    for i in range(k, len(s)):\n",
    "        if s[index] in vowels:\n",
    "            if s[i] not in vowels:\n",
    "                current -= 1\n",
    "        else:\n",
    "            if s[i] in vowels:\n",
    "                current += 1\n",
    "        index += 1\n",
    "        count = max(count, current)\n",
    "        if count == k:\n",
    "            return count\n",
    "    return count"
   ]
  },
  {
   "cell_type": "code",
   "execution_count": 14,
   "id": "9f875dc0-cdc0-43cd-a054-202b2c7ce0d6",
   "metadata": {},
   "outputs": [],
   "source": [
    "test_sets = [(\"abciiidef\", 3), (\"aeiou\", 2), (\"leetcode\", 3)]\n",
    "expects = [3, 2, 2]\n",
    "\n",
    "for i, (s, k) in enumerate(test_sets):\n",
    "    assert expects[i] == maxVowels(s, k)"
   ]
  },
  {
   "cell_type": "markdown",
   "id": "a52ee51f-d759-40eb-8363-f5317abb40bf",
   "metadata": {},
   "source": [
    "## 개선\n",
    "- 코드를 좀 더 단순하게 만들기"
   ]
  },
  {
   "cell_type": "code",
   "execution_count": 27,
   "id": "334a849c-906e-41a7-8b4c-18fbe21fe96c",
   "metadata": {},
   "outputs": [],
   "source": [
    "def maxVowels_improve(s: str, k: int) -> int:\n",
    "    vowels = [\"a\", \"e\", \"i\", \"o\", \"u\"]\n",
    "    \n",
    "    current = 0\n",
    "    for i in range(k):\n",
    "        if s[i] in vowels:\n",
    "            current += 1\n",
    "\n",
    "    if current == k:\n",
    "        return current\n",
    "    \n",
    "    count = current\n",
    "    for i in range(k, len(s)):\n",
    "        if s[i - k] in vowels:\n",
    "            current -= 1\n",
    "        if s[i] in vowels:\n",
    "            current += 1\n",
    "            \n",
    "        if current == k:\n",
    "            return current\n",
    "            \n",
    "        count = max(count, current)\n",
    "        \n",
    "    return count"
   ]
  },
  {
   "cell_type": "code",
   "execution_count": 28,
   "id": "c45979c6-35e3-4a28-86d6-d1f5ed1882cb",
   "metadata": {},
   "outputs": [],
   "source": [
    "test_sets = [(\"abciiidef\", 3), (\"aeiou\", 2), (\"leetcode\", 3)]\n",
    "expects = [3, 2, 2]\n",
    "\n",
    "for i, (s, k) in enumerate(test_sets):\n",
    "    assert expects[i] == maxVowels_improve(s, k)"
   ]
  },
  {
   "cell_type": "markdown",
   "id": "43f4a5d4-fc79-41ac-9326-bb475c1896b1",
   "metadata": {},
   "source": [
    "## 솔루션\n",
    "- 정답과 동일"
   ]
  },
  {
   "cell_type": "code",
   "execution_count": null,
   "id": "500b5cf5-1c64-4a5d-a045-27f5ddbdae2c",
   "metadata": {},
   "outputs": [],
   "source": []
  }
 ],
 "metadata": {
  "kernelspec": {
   "display_name": "Python 3 (ipykernel)",
   "language": "python",
   "name": "python3"
  },
  "language_info": {
   "codemirror_mode": {
    "name": "ipython",
    "version": 3
   },
   "file_extension": ".py",
   "mimetype": "text/x-python",
   "name": "python",
   "nbconvert_exporter": "python",
   "pygments_lexer": "ipython3",
   "version": "3.10.9"
  }
 },
 "nbformat": 4,
 "nbformat_minor": 5
}

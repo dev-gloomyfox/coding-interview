{
 "cells": [
  {
   "cell_type": "markdown",
   "id": "8d5ccb2f-a024-4d9f-8127-186c2a8a960a",
   "metadata": {},
   "source": [
    "# Greatest Common Divisor of Strings\n",
    "- 두 가지 문자열이 주어졌을 때, 그 두 문자열을 모두 나눌 수 있는 가장 큰 값을 구하라\n",
    "- 문자열 크기는 1~1000\n",
    "- 문자는 영어 대문자로 제한"
   ]
  },
  {
   "cell_type": "code",
   "execution_count": 46,
   "id": "39b64867-51a9-4ac3-9b96-7d9208e083e7",
   "metadata": {},
   "outputs": [],
   "source": [
    "def gcdOfStrings(str1: str, str2: str) -> str:\n",
    "    short, long = (str1, str2) if len(str1) < len(str2) else (str2, str1)\n",
    "    if check_division(long, short):\n",
    "        return short\n",
    "\n",
    "    for i in reversed(range(1, len(short) - 1)):  # short가 1보다 크다고 했으니 별도 처리 X\n",
    "        divisor = short[0:i]\n",
    "        if check_division(short, divisor) and check_division(long, divisor):\n",
    "            return divisor\n",
    "    \n",
    "    return \"\"\n",
    "\n",
    "def check_division(target: str, element: str) -> bool:\n",
    "    if len(target) % len(element) != 0:\n",
    "        return False\n",
    "    count = int(len(target) / len(element))\n",
    "    return element * count == target"
   ]
  },
  {
   "cell_type": "code",
   "execution_count": 47,
   "id": "11f152b5-7217-4a1f-ab11-046b1622c390",
   "metadata": {},
   "outputs": [],
   "source": [
    "test_tuples = [(\"ABCABC\", \"ABC\"), (\"ABABAB\", \"ABAB\"), (\"LEET\", \"CODE\")]\n",
    "test_answers = [\"ABC\", \"AB\", \"\"]\n",
    "\n",
    "for i, (str1, str2) in enumerate(test_tuples):\n",
    "    assert test_answers[i] == gcdOfStrings(str1, str2)"
   ]
  },
  {
   "cell_type": "markdown",
   "id": "ce20141b-890a-40f0-98d8-7af5d574d96f",
   "metadata": {},
   "source": [
    "## 개선하기\n",
    "```\n",
    "def gcdOfStrings(str1: str, str2: str) -> str:\n",
    "    short, long = (str1, str2) if len(str1) < len(str2) else (str2, str1)\n",
    "    if check_division(long, short):\n",
    "        return short\n",
    "    ...\n",
    "```\n",
    "에서 `if check_division(long, short):` 부분은 for문에 통합 가능할 듯, 큰 인덱스부터 시작하니 좀 더 코드를 간결하게 만들 수 있음"
   ]
  },
  {
   "cell_type": "code",
   "execution_count": 48,
   "id": "c0ed6c59-3121-41bc-9d64-450f6da5edea",
   "metadata": {},
   "outputs": [],
   "source": [
    "def gcdOfStrings(str1: str, str2: str) -> str:\n",
    "    short, long = (str1, str2) if len(str1) < len(str2) else (str2, str1)\n",
    "    for i in reversed(range(1, len(short) + 1)):\n",
    "        divisor = short[:i]\n",
    "        if check_division(short, divisor) and check_division(long, divisor):\n",
    "            return divisor\n",
    "    \n",
    "    return \"\""
   ]
  },
  {
   "cell_type": "code",
   "execution_count": 49,
   "id": "6ae9df37-fe87-4e42-8575-4e8f654dc704",
   "metadata": {},
   "outputs": [],
   "source": [
    "for i, (str1, str2) in enumerate(test_tuples):\n",
    "    assert test_answers[i] == gcdOfStrings(str1, str2)"
   ]
  },
  {
   "cell_type": "markdown",
   "id": "a116993b-6238-420c-83ad-0ff38e213165",
   "metadata": {},
   "source": [
    "## 결론\n",
    "- 초기 작성 코드는 요구 사항 내에선 돌아갈 수 있으나 코드적으로보면 일부 잘못된 부분이 있었음\n",
    "- `reversed(range(1, len(short) - 1))`은 `short` 길이가 `4`라고 가정할 때 `[2, 1]`만 표시\n",
    "- 이유는 `range(1, 3)`이라고 했을 때 `[1, 2]`이고 이를 뒤집으면 `[2, 1]`이기 때문에 안하고 넘어가는 케이스가 있음\n",
    "- 다만 나누어떨어지는가를 보는 문제이기 때문에 큰 문제는 없었고, 전체를 보는 것은 위의 if문에서 작업하기에 케이스 자체에선 문제가 없었음"
   ]
  },
  {
   "cell_type": "markdown",
   "id": "266f97e2-ed7a-455f-87d0-a1074e532dd2",
   "metadata": {},
   "source": [
    "# 솔루션\n",
    "Brute Force\n",
    "```\n",
    "class Solution:\n",
    "    def gcdOfStrings(self, str1: str, str2: str) -> str:\n",
    "        len1, len2 = len(str1), len(str2)\n",
    "        \n",
    "        def valid(k):\n",
    "            if len1 % k or len2 % k: \n",
    "                return False\n",
    "            n1, n2 = len1 // k, len2 // k\n",
    "            base = str1[:k]\n",
    "            return str1 == n1 * base and str2 == n2 * base \n",
    "        \n",
    "        for i in range(min(len1, len2), 0, -1):\n",
    "            if valid(i):\n",
    "                return str1[:i]\n",
    "        return \"\"\n",
    "```\n",
    "복잡도\n",
    "- Time: O(min(m, n)*(m + n) -> 문자열을 특정 횟수만큼 곱하는 시간 (m + n)\n",
    "- Space: O(min(m, n))\n",
    "\n",
    "Greatest Common Divisor\n",
    "```\n",
    "\n",
    "class Solution:\n",
    "    def gcdOfStrings(self, str1: str, str2: str) -> str:\n",
    "        # Check if they have non-zero GCD string.\n",
    "        if str1 + str2 != str2 + str1:\n",
    "            return \"\"\n",
    "\n",
    "        # Get the GCD of the two lengths.\n",
    "        max_length = gcd(len(str1), len(str2))\n",
    "        return str1[:max_length]\n",
    "```\n",
    "복잡도\n",
    "- Time: O(m + n)\n",
    "- Space: O(m + n)"
   ]
  },
  {
   "cell_type": "markdown",
   "id": "8770c701-2642-45cc-bfd1-b11161614416",
   "metadata": {},
   "source": [
    "## 후기\n",
    "- 내 풀이는 Brute Force 방식\n",
    "- GCD 방식은 생각을 못했었음: Time 면에서 더 나은 점이 있음\n",
    "\n",
    "### GCD 방식\n",
    "- 두 문자열 모두 동일한 분할의 배수를 포함하기 때문에 순서 관계없이 연결이 일관적이어야 함: str1 + str2 = str2 + str1\n",
    "- 문자열 순서를 바꿔서 합쳐서 동일하다면 GCD가 존재한다는 뜻\n",
    "- 분할의 배수를 포함한 문자이기 때문에, 문자열 길이의 GCD가 GCD 문자열 길이\n",
    "- 앞 에서 두 문자열을 나누는 세그먼트가 존재한다는 것을 증명하고 시작하기 때문에 GCD 알고리즘을 이용 가능"
   ]
  },
  {
   "cell_type": "markdown",
   "id": "7828a1fe-e160-430a-ad8a-9a740a01f0ad",
   "metadata": {},
   "source": [
    "#### 유클리드 호제법(GCD\n",
    "- A = 0이면 GCD(0, B)이므로 GCD(A, B) = B\n",
    "- B = 0이면 GCD(A, 0)이므로 GCD(A, B) = A\n",
    "- A를 A = B * Q + R의 형식으로 기입\n",
    "  - GCD(A, B) = GCD(B, A - B)\n",
    "    - A - B = C를 가정\n",
    "      - GCD(A, B)가 C를 나누어 떨어지게 함\n",
    "        - 정수 X에 대해 X * GCD(A, B) = A\n",
    "        - 정수 Y에 대해 Y * GCD(A, B) = B\n",
    "        - X * GCD(A, B) - Y * GCD(A, B) = C\n",
    "        - (X - Y) * GCD(A, B) = C\n",
    "        - 따라서 GCD(A, B)는 C를 나누어 떨어지게 함\n",
    "      - GCD(B, C)가 A를 나누어 떨어지게 함\n",
    "        - 정수 M에 대해 M * GCD(B, C) = B\n",
    "        - 정수 N에 대해 N * GCD(B, C) = C\n",
    "        - B + C = A\n",
    "        - M * GCD(B, C) + N * GCD(B, C) = A\n",
    "        - (M + N) * GCD(B, C) = A\n",
    "      - GCD(A, B) = GCD(A, A - B)\n",
    "        - GCD(A, B)는 B를 나누어 떨어지게 하고, C를 나누어 떨어지게 함\n",
    "      - GCD(B, C)는 B와 C의 최대 공약수이므로 GCD(A, B)는 GCD(B, C)보다 작거나 같아야 함\n",
    "  - 항목간 순서는 관계없으므로 GCD(A, B) = GCD(A - B, B)\n",
    "  - GCD(A, B) = GCD(A - B, B) = GCD(A - 2B, B) = ... = GCD(A - Q * B, B)\n",
    "  - A = B * Q + R 이므로 A - Q * B = R\n",
    "- 위 내용을 따르면, 항목간 순서가 관계가 없으므로 GCD(A, B) = GCD(B, R)"
   ]
  },
  {
   "cell_type": "markdown",
   "id": "2468a114-82b8-4740-a555-1d31f4a77f9b",
   "metadata": {},
   "source": [
    "##### 재귀식"
   ]
  },
  {
   "cell_type": "code",
   "execution_count": 75,
   "id": "b3a470c4-bdf7-44c4-b9e5-fe6f65205023",
   "metadata": {},
   "outputs": [],
   "source": [
    "def recursive_gcd(x: int, y: int) -> int:\n",
    "    if y == 0:\n",
    "        return x\n",
    "    return recursive_gcd(y, x % y)"
   ]
  },
  {
   "cell_type": "code",
   "execution_count": 76,
   "id": "dda062ac-5e7c-4cec-b24c-1b1297314cea",
   "metadata": {},
   "outputs": [],
   "source": [
    "test_gcd_tuples = [(2, 7), (3, 9), (9, 81), (5, 25), (1, 4)]\n",
    "gcd_answers = [1, 3, 9, 5, 1]\n",
    "\n",
    "for i, (x, y) in enumerate(test_gcd_tuples):\n",
    "    assert gcd_answers[i] == recursive_gcd(x, y)"
   ]
  },
  {
   "cell_type": "markdown",
   "id": "ceb3c552-ad0b-442f-826e-9077f0016bde",
   "metadata": {},
   "source": [
    "##### 반복문"
   ]
  },
  {
   "cell_type": "code",
   "execution_count": 81,
   "id": "826a3e27-2778-4ad3-9a0f-66b7c5511663",
   "metadata": {},
   "outputs": [],
   "source": [
    "def iteration_gcd(x: int, y: int) -> int:\n",
    "    while y != 0:\n",
    "        n = x % y\n",
    "        x = y\n",
    "        y = n\n",
    "    return x "
   ]
  },
  {
   "cell_type": "code",
   "execution_count": 82,
   "id": "784e02f3-1131-44c8-a54c-73dd7990b18b",
   "metadata": {},
   "outputs": [],
   "source": [
    "for i, (x, y) in enumerate(test_gcd_tuples):\n",
    "    assert gcd_answers[i] == iteration_gcd(x, y)"
   ]
  },
  {
   "cell_type": "markdown",
   "id": "01b74368-e70d-445a-8ff8-9a96f5b2263b",
   "metadata": {},
   "source": [
    "### 더 알아보기\n",
    "- binary gcd\n",
    "- Complexity"
   ]
  }
 ],
 "metadata": {
  "kernelspec": {
   "display_name": "Python 3 (ipykernel)",
   "language": "python",
   "name": "python3"
  },
  "language_info": {
   "codemirror_mode": {
    "name": "ipython",
    "version": 3
   },
   "file_extension": ".py",
   "mimetype": "text/x-python",
   "name": "python",
   "nbconvert_exporter": "python",
   "pygments_lexer": "ipython3",
   "version": "3.10.9"
  }
 },
 "nbformat": 4,
 "nbformat_minor": 5
}

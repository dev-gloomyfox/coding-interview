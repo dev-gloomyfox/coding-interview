{
 "cells": [
  {
   "cell_type": "markdown",
   "id": "8374bd44-0f66-4ee4-9c50-e5363bd30abd",
   "metadata": {},
   "source": [
    "# Product of Array Except Self\n",
    "- 정수 배열이 주어졌을 때 인덱스에 해당하는 것을 제외한 나머지를 모두 곱한 것과 같은 내용을 담은 배열을 반환\n",
    "- 2 <= nums.length <= 10^5\n",
    "- -30 <= nums[i] <= 30\n",
    "- 나눗셈 연산을 사용하지 않고 O(n) 시간에 해결 필요\n",
    "- O(1) 공간 복잡도로 문제를 해결할 수 있는지(정답 배열은 공간 분석에 사용되지 않음)"
   ]
  },
  {
   "cell_type": "code",
   "execution_count": 8,
   "id": "bbc20d43-2478-4d3f-9698-02a809575848",
   "metadata": {},
   "outputs": [],
   "source": [
    "def productExceptSelf(nums: list[int]) -> list[int]:\n",
    "    # 나눗셈을 사용하면 전체를 곱한 후 한 번 순회하면서 나눠주면 되고, 0만 예외 처리\n",
    "    zero_count = 0\n",
    "    product = 1\n",
    "    for num in nums:\n",
    "        if num == 0:\n",
    "            zero_count += 1\n",
    "            continue\n",
    "        product *= num\n",
    "\n",
    "    answer = []\n",
    "    \n",
    "    for num in nums:\n",
    "        if zero_count > 1 or (zero_count > 0 and num != 0):\n",
    "            answer.append(0)\n",
    "        elif zero_count == 1 and num == 0:\n",
    "            answer.append(product)\n",
    "        else:\n",
    "            answer.append(product/num)\n",
    "    return answer"
   ]
  },
  {
   "cell_type": "code",
   "execution_count": 13,
   "id": "b8b74186-0cc5-46ad-a9f1-da04d7920e23",
   "metadata": {},
   "outputs": [],
   "source": [
    "test_sets = [[1, 2, 3, 4], [-1, 1, 0, -3, 3], [0, 0, 1, 2, 3]]\n",
    "expects = [[24, 12, 8, 6], [0, 0, 9, 0, 0], [0, 0, 0, 0, 0]]\n",
    "\n",
    "for i, test_set in enumerate(test_sets):\n",
    "    assert expects[i] == productExceptSelf(test_set)"
   ]
  },
  {
   "cell_type": "markdown",
   "id": "b584c935-8b2c-4a5f-a3bc-5623681059fc",
   "metadata": {},
   "source": [
    "## 개선\n",
    "- 위 방식은 조건 중 하나인 나눗셈을 사용하지 않는다는 것은 만족하지 못함"
   ]
  },
  {
   "cell_type": "code",
   "execution_count": 37,
   "id": "b65e2597-4eb7-4d86-9685-9959a180012b",
   "metadata": {},
   "outputs": [],
   "source": [
    "def productExceptSelf_improve(nums: list[int]) -> list[int]:\n",
    "    # 앞의 수의 모든 곱 * 뒤의 수의 모든 곱 = 해당 인덱스를 제외한 곱\n",
    "    prefix = [1 for _ in range(len(nums))]  # i 앞의 모든 수의 곱, 즉 prefix[i] = prefix[i - 1] * nums[i - 1]\n",
    "    suffix = [1 for _ in range(len(nums))]  # i 뒤의 모든 수의 곱, 즉 suffix[i] = suffix[i + 1] * nums[i + 1]\n",
    "\n",
    "    for i in range(1, len(nums)):\n",
    "        prefix[i] = prefix[i - 1] * nums[i - 1]\n",
    "    for i in reversed(range(0, len(nums) - 1)):\n",
    "        suffix[i] = suffix[i + 1] * nums[i + 1]\n",
    "\n",
    "    answer = []\n",
    "    for i in range(len(nums)):\n",
    "        answer.append(prefix[i] * suffix[i])\n",
    "\n",
    "    return answer"
   ]
  },
  {
   "cell_type": "code",
   "execution_count": 38,
   "id": "3fea1953-2868-4d5c-b0b0-693391308143",
   "metadata": {},
   "outputs": [],
   "source": [
    "for i, test_set in enumerate(test_sets):\n",
    "    assert expects[i] == productExceptSelf_improve(test_set)"
   ]
  },
  {
   "cell_type": "code",
   "execution_count": 39,
   "id": "af3ec80b-f0d0-4ff5-8c62-74b324fcc4ad",
   "metadata": {},
   "outputs": [],
   "source": [
    "def productExceptSelf_improve_more(nums: list[int]) -> list[int]:\n",
    "    answer = [1 for _ in range(len(nums))]\n",
    "    current = 1\n",
    "    # i 앞의 모든 요소의 곱을 먼저 구하고\n",
    "    for i, num in enumerate(nums):\n",
    "        answer[i] *= current\n",
    "        current *= num\n",
    "    current = 1\n",
    "    # i 뒤의 모든 요소의 곱은 구하면서 직접 곱해주면 공간을 별도로 작성 X\n",
    "    for i in reversed(range(len(nums))):\n",
    "        answer[i] *= current\n",
    "        current *= nums[i]\n",
    "    return answer"
   ]
  },
  {
   "cell_type": "code",
   "execution_count": 40,
   "id": "bd64591b-32c3-4a69-ae9b-d7747b344f70",
   "metadata": {},
   "outputs": [],
   "source": [
    "for i, test_set in enumerate(test_sets):\n",
    "    assert expects[i] == productExceptSelf_improve_more(test_set)"
   ]
  },
  {
   "cell_type": "markdown",
   "id": "b52d92e6-f3ab-4731-bbfa-4e3972d77762",
   "metadata": {},
   "source": [
    "## 솔루션\n",
    "- 위 방식과 동일"
   ]
  }
 ],
 "metadata": {
  "kernelspec": {
   "display_name": "Python 3 (ipykernel)",
   "language": "python",
   "name": "python3"
  },
  "language_info": {
   "codemirror_mode": {
    "name": "ipython",
    "version": 3
   },
   "file_extension": ".py",
   "mimetype": "text/x-python",
   "name": "python",
   "nbconvert_exporter": "python",
   "pygments_lexer": "ipython3",
   "version": "3.10.9"
  }
 },
 "nbformat": 4,
 "nbformat_minor": 5
}

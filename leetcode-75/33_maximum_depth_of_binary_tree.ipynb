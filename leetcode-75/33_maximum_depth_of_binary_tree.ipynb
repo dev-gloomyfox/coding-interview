{
 "cells": [
  {
   "cell_type": "markdown",
   "id": "ea4f9d52-fdb9-4443-95ec-cda07a41c249",
   "metadata": {},
   "source": [
    "# Maximum Depth of Binary Tree\n",
    "- 이진 트리의 루트가 주어지면 최대 깊이를 반환\n",
    "- 이진 트리의 최대 깊이는 루트 노드에서 가장 먼 리프 노드까지 가장 긴 경로를 따라 있는 노드의 수\n",
    "- 노드의 수 범위: 0 ~ 104\n",
    "- 100 <= Node.val <= 100"
   ]
  },
  {
   "cell_type": "code",
   "execution_count": 4,
   "id": "0e4fb5b1-b996-49bf-abca-d3f9bcaa1a77",
   "metadata": {},
   "outputs": [],
   "source": [
    "from typing import Optional\n",
    "\n",
    "class TreeNode:\n",
    "    def __init__(self, val=0, left=None, right=None):\n",
    "        self.val = val\n",
    "        self.left = left\n",
    "        self.right = right\n",
    "\n",
    "\n",
    "def maxDepth(root: Optional[TreeNode]) -> int:\n",
    "    if root is None:\n",
    "        return 0\n",
    "    \n",
    "    left_depth = maxDepth(root.left)\n",
    "    right_depth = maxDepth(root.right)\n",
    "\n",
    "    return max(left_depth, right_depth) + 1"
   ]
  },
  {
   "cell_type": "code",
   "execution_count": 5,
   "id": "69c39abe-6cf5-4807-85d2-4b1cf459af3c",
   "metadata": {},
   "outputs": [],
   "source": [
    "test_sets = [\n",
    "    TreeNode(\n",
    "        val=3,\n",
    "        left=TreeNode(\n",
    "            val=9\n",
    "        ),\n",
    "        right=TreeNode(\n",
    "            val=20,\n",
    "            left=TreeNode(\n",
    "                val=15\n",
    "            ),\n",
    "            right=TreeNode(\n",
    "                val=7\n",
    "            )\n",
    "        )\n",
    "    ),\n",
    "    TreeNode(\n",
    "        val=1,\n",
    "        right=TreeNode(\n",
    "            val=2\n",
    "        )\n",
    "    )\n",
    "]\n",
    "expects = [3, 2]\n",
    "\n",
    "for i, test_set in enumerate(test_sets):\n",
    "    assert expects[i] == maxDepth(test_set)"
   ]
  },
  {
   "cell_type": "markdown",
   "id": "8d8a205a-25e1-4271-89ad-0d4c0e6928e6",
   "metadata": {},
   "source": [
    "## 솔루션\n",
    "- 정답과 동일"
   ]
  },
  {
   "cell_type": "code",
   "execution_count": null,
   "id": "6aca25bd-7788-4611-a7d8-e43882ee4ec5",
   "metadata": {},
   "outputs": [],
   "source": []
  }
 ],
 "metadata": {
  "kernelspec": {
   "display_name": "Python 3 (ipykernel)",
   "language": "python",
   "name": "python3"
  },
  "language_info": {
   "codemirror_mode": {
    "name": "ipython",
    "version": 3
   },
   "file_extension": ".py",
   "mimetype": "text/x-python",
   "name": "python",
   "nbconvert_exporter": "python",
   "pygments_lexer": "ipython3",
   "version": "3.10.9"
  }
 },
 "nbformat": 4,
 "nbformat_minor": 5
}

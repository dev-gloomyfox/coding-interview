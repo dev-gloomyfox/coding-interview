{
 "cells": [
  {
   "cell_type": "markdown",
   "id": "289270e5-dfd4-41d1-b65b-d33d5dcec5ff",
   "metadata": {},
   "source": [
    "# Longest Subarray of 1's After Deleting One Element\n",
    "- 이진 배열의 숫자가 주어지면 이 배열에서 하나의 요소를 삭제\n",
    "- 결과 배열에서 1만 포함하는 비어있지 않은 가장 긴 하위 배열의 크기를 반환\n",
    "- 그러한 하위 배열이 없으면 0을 반환\n",
    "- 1 <= nums.length <= 10^5\n",
    "- nums[i]는 0 또는 1"
   ]
  },
  {
   "cell_type": "code",
   "execution_count": 6,
   "id": "7becd248-9a5f-4062-bdcd-8177b285058f",
   "metadata": {},
   "outputs": [],
   "source": [
    "def longestSubarray(nums: list[int]) -> int:\n",
    "    # 가장 단순한 방법은 배열을 순회하면서 마주친 요소를 지운 후 연속된 1을 세기\n",
    "    count = 0\n",
    "    for i in range(len(nums)):\n",
    "        tmp = nums.copy()\n",
    "        tmp.pop(i)\n",
    "        current = 0\n",
    "        max_value = 0\n",
    "        for j in range(len(tmp)):\n",
    "            if tmp[j] == 0:\n",
    "                max_value = max(current, max_value)\n",
    "                current = 0\n",
    "            else:\n",
    "                current += 1\n",
    "        max_value = max(current, max_value)\n",
    "        count = max(count, max_value)\n",
    "    return count"
   ]
  },
  {
   "cell_type": "code",
   "execution_count": 9,
   "id": "42b8dc99-4832-47d0-ba97-8a79810c7eb0",
   "metadata": {},
   "outputs": [],
   "source": [
    "test_sets = [[1, 1, 0, 1], [0, 1, 1, 1, 0, 1, 1, 0, 1], [1, 1, 1], [0, 0]]\n",
    "expects = [3, 5, 2, 0]\n",
    "\n",
    "for i, test_set in enumerate(test_sets):\n",
    "    assert expects[i] == longestSubarray(test_set)"
   ]
  },
  {
   "cell_type": "markdown",
   "id": "452416fb-5107-4480-b2c3-37bb1fef3eb6",
   "metadata": {},
   "source": [
    "## 개선\n",
    "- 위 코드는 시간 O(n^2), 공간 O(n)으로 비효율적\n",
    "- 제출 시 시간 제한에도 걸리기에 개선 필요\n",
    "- 윈도우 내에 0이 하나만 들어갈 수 있음을 이용해서 유동 윈도우를 만드는 방식으로 가면 되지 않을까?\n",
    "- 최대 값만 기억하면 되기에 중간에 인덱스를 끌어오는 과정도 생략 가능"
   ]
  },
  {
   "cell_type": "code",
   "execution_count": 30,
   "id": "25ed4acb-034e-4992-b8fb-7c9dbde8356e",
   "metadata": {},
   "outputs": [],
   "source": [
    "def longestSubarray_improve(nums: list[int]) -> int:\n",
    "    left = 0\n",
    "    k = 1\n",
    "    count = 0\n",
    "    for i in range(len(nums)):\n",
    "        if nums[i] == 0:\n",
    "            k -= 1\n",
    "        while k < 0:\n",
    "            if nums[left] == 0:\n",
    "                k += 1\n",
    "            left += 1\n",
    "            count = max(count, i - left)\n",
    "    return max(count, i - left)"
   ]
  },
  {
   "cell_type": "code",
   "execution_count": 33,
   "id": "dca13348-9430-4c2c-b231-a326fbb1c2ed",
   "metadata": {},
   "outputs": [],
   "source": [
    "test_sets = [[1, 1, 0, 1], [0, 1, 1, 1, 0, 1, 1, 0, 1], [1, 1, 1], [0, 0]]\n",
    "expects = [3, 5, 2, 0]\n",
    "\n",
    "for i, test_set in enumerate(test_sets):\n",
    "    assert expects[i] == longestSubarray_improve(test_set)"
   ]
  },
  {
   "cell_type": "markdown",
   "id": "dafe50f9-884a-4273-8f94-681f3e987224",
   "metadata": {},
   "source": [
    "## 개선 2\n",
    "- 최대 값만 기억하면 되기에 중간에 인덱스를 끌어오는 과정도 생략 가능, 한 원소에 최대 2번 방문하던 부분을 1번으로 축소 가능"
   ]
  },
  {
   "cell_type": "code",
   "execution_count": 34,
   "id": "4d9a40e0-5ca8-418a-8049-5c6c23de9ce3",
   "metadata": {},
   "outputs": [],
   "source": [
    "def longestSubarray_improve_2(nums: list[int]) -> int:\n",
    "    left = 0\n",
    "    k = 1\n",
    "    for i in range(len(nums)):\n",
    "        if nums[i] == 0:\n",
    "            k -= 1\n",
    "        if k < 0:\n",
    "            if nums[left] == 0:\n",
    "                k += 1\n",
    "            left += 1\n",
    "    return i - left"
   ]
  },
  {
   "cell_type": "code",
   "execution_count": 35,
   "id": "f655b853-4aa4-4574-ab7f-47cad777c3b7",
   "metadata": {},
   "outputs": [],
   "source": [
    "test_sets = [[1, 1, 0, 1], [0, 1, 1, 1, 0, 1, 1, 0, 1], [1, 1, 1], [0, 0]]\n",
    "expects = [3, 5, 2, 0]\n",
    "\n",
    "for i, test_set in enumerate(test_sets):\n",
    "    assert expects[i] == longestSubarray_improve_2(test_set)"
   ]
  },
  {
   "cell_type": "markdown",
   "id": "e8957367-2d7d-4cc3-bfd1-be2ff00c4a8b",
   "metadata": {},
   "source": [
    "## 다른 방법으로 풀어보기\n",
    "- i번째 인덱스 전/후로에 1이 몇 개나 이어지는지 저장해서 구해볼 수 있을 듯\n",
    "- 다만 해당 방식은 big-O 연산으로는 시간 복잡도는 동일하나 배열을 3번 돌아봐야 한다는 점, 공간 복잡도가 O(n)이라는 점이 있어 최적해는 아님"
   ]
  },
  {
   "cell_type": "code",
   "execution_count": 55,
   "id": "02f0828a-01a1-406c-8043-c329e620c195",
   "metadata": {},
   "outputs": [],
   "source": [
    "def longestSubarray_another_approch(nums: list[int]) -> int:\n",
    "    count = 0\n",
    "    \n",
    "    pre = [0] * len(nums)\n",
    "    pre[0] = nums[0]\n",
    "    post = [0] * len(nums)\n",
    "    post[len(nums) - 1] = nums[len(nums) - 1]\n",
    "\n",
    "    for i in range(1, len(nums)):\n",
    "        if nums[i] == 1:\n",
    "            pre[i] = pre[i - 1] + 1\n",
    "    \n",
    "    for i in reversed(range(len(nums) - 1)):\n",
    "        if nums[i] == 1:\n",
    "            post[i] = post[i + 1] + 1\n",
    "\n",
    "    for i in range(len(nums)):\n",
    "        pre_sum = pre[i - 1] if i != 0 else 0\n",
    "        post_sum = post[i + 1] if i != len(nums) - 1 else 0\n",
    "        count = max(count, pre_sum + post_sum)\n",
    "\n",
    "    return count"
   ]
  },
  {
   "cell_type": "code",
   "execution_count": 56,
   "id": "d7f98e8a-4a54-4b3e-ad2a-5e8d765c15b3",
   "metadata": {},
   "outputs": [
    {
     "name": "stdout",
     "output_type": "stream",
     "text": [
      "3\n",
      "5\n",
      "2\n",
      "0\n"
     ]
    }
   ],
   "source": [
    "test_sets = [[1, 1, 0, 1], [0, 1, 1, 1, 0, 1, 1, 0, 1], [1, 1, 1], [0, 0]]\n",
    "expects = [3, 5, 2, 0]\n",
    "\n",
    "for i, test_set in enumerate(test_sets):\n",
    "    print(longestSubarray_another_approch(test_set))"
   ]
  },
  {
   "cell_type": "code",
   "execution_count": null,
   "id": "6a5c7688-87ab-497c-99c4-aac3f3ce69c1",
   "metadata": {},
   "outputs": [],
   "source": []
  }
 ],
 "metadata": {
  "kernelspec": {
   "display_name": "Python 3 (ipykernel)",
   "language": "python",
   "name": "python3"
  },
  "language_info": {
   "codemirror_mode": {
    "name": "ipython",
    "version": 3
   },
   "file_extension": ".py",
   "mimetype": "text/x-python",
   "name": "python",
   "nbconvert_exporter": "python",
   "pygments_lexer": "ipython3",
   "version": "3.10.9"
  }
 },
 "nbformat": 4,
 "nbformat_minor": 5
}

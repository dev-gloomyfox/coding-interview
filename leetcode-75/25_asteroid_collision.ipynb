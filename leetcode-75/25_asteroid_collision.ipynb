{
 "cells": [
  {
   "cell_type": "markdown",
   "id": "d5dc15c5-c368-44fa-a8d0-29262be688a7",
   "metadata": {},
   "source": [
    "# Asteroid Collision\n",
    "- 소행성을 나타내는 정수로 이루어진 배열 asteroids\n",
    "- 각 소행성의 절대값은 크기를 나타내고 부호는 방향(양수는 오른쪽, 음수는 왼쪽)\n",
    "- 각 소행성은 같은 속도로 이동\n",
    "- 모든 충돌 후 소행성들의 상태 찾기\n",
    "- 두 소행성이 만나면 더 작은 소행성이 폭발\n",
    "- 두 소행성의 크기가 같으면 둘 다 폭발, 같은 방향으로 움직이는 두 소행성은 절대 만나지 않음\n",
    "- 2 <= asteroids.length <= 10^4\n",
    "- -1000 <= asteroids[i] <= 1000\n",
    "- asteroids[i] != 0"
   ]
  },
  {
   "cell_type": "code",
   "execution_count": 20,
   "id": "d9b329d1-e5cd-4139-8f42-044047fbaba7",
   "metadata": {},
   "outputs": [],
   "source": [
    "def asteroidCollision(asteroids: list[int]) -> list[int]:\n",
    "    stack = []\n",
    "\n",
    "    def is_negative(element: int) -> bool:\n",
    "        return element < 0\n",
    "    \n",
    "    for asteroid in asteroids:\n",
    "        stack.append(asteroid)\n",
    "\n",
    "        while len(stack) > 1 and is_negative(stack[-1]) != is_negative(stack[-2]) and is_negative(stack[-1]) and not is_negative(stack[-2]):\n",
    "            current = stack.pop()\n",
    "            prev = stack.pop()\n",
    "            if abs(current) == abs(prev):\n",
    "                continue\n",
    "            elif abs(current) < abs(prev):\n",
    "                stack.append(prev)\n",
    "            else:\n",
    "                stack.append(current)\n",
    "        \n",
    "    return stack"
   ]
  },
  {
   "cell_type": "code",
   "execution_count": 22,
   "id": "1d33d8ba-d3bc-49dc-bc32-e1ebebbee8a7",
   "metadata": {},
   "outputs": [],
   "source": [
    "test_sets = [[5, 10, -5], [8, -8], [10, 2, -5], [-2,-1,1,2]]\n",
    "expects = [[5, 10], [], [10], [-2,-1,1,2]]\n",
    "\n",
    "for i, asteroids in enumerate(test_sets):\n",
    "    assert expects[i] == asteroidCollision(asteroids)"
   ]
  },
  {
   "cell_type": "markdown",
   "id": "75ab3a48-b901-4edb-9988-0c60d539d8f8",
   "metadata": {},
   "source": [
    "# 솔루션\n",
    "- 정답과 동일"
   ]
  },
  {
   "cell_type": "code",
   "execution_count": null,
   "id": "d00da2a7-e9c6-4183-b89d-708acd294f2f",
   "metadata": {},
   "outputs": [],
   "source": []
  }
 ],
 "metadata": {
  "kernelspec": {
   "display_name": "Python 3 (ipykernel)",
   "language": "python",
   "name": "python3"
  },
  "language_info": {
   "codemirror_mode": {
    "name": "ipython",
    "version": 3
   },
   "file_extension": ".py",
   "mimetype": "text/x-python",
   "name": "python",
   "nbconvert_exporter": "python",
   "pygments_lexer": "ipython3",
   "version": "3.10.9"
  }
 },
 "nbformat": 4,
 "nbformat_minor": 5
}

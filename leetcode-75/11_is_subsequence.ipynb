{
 "cells": [
  {
   "cell_type": "markdown",
   "id": "e3018b2c-d3ca-4eeb-8e1c-b205cea45924",
   "metadata": {},
   "source": [
    "# Is Subsequence\n",
    "- 두 문자열 s와 t가 주어졌을 때, s가 t의 subsequence면 참을 반환하고 그렇지 않으면 거짓을 반환\n",
    "- 문자열의 subsequence는 원래 문자열에서 나머지 문자의 상대적 위치를 방해하지 않고 일부 문자를 삭제하여 형성되는 새로운 문자열\n",
    "- \"ace\"는 \"abcde\"의 시퀀스이지만 \"aec\"는 그렇지 않음\n",
    "- 0 <= s.length <= 100, 0 <= t.length <= 10^4\n",
    "- s, t는 영문 소문자만을 포함"
   ]
  },
  {
   "cell_type": "code",
   "execution_count": 29,
   "id": "b813325d-a5db-4fb3-9fa6-e3402f31e0dd",
   "metadata": {},
   "outputs": [],
   "source": [
    "def isSubsequence(s: str, t: str) -> bool:\n",
    "    # 문자열 길이가 각 0일 때의 예외 처리\n",
    "    if len(s) == 0:\n",
    "        return True\n",
    "    \n",
    "    if len(t) == 0:\n",
    "        return False\n",
    "\n",
    "    # 문자열 길이가 0이 아니면, s가 t보다 같거나 작아야 subsequence 요건\n",
    "    if len(s) > len(t):\n",
    "        return False\n",
    "\n",
    "    count = 0\n",
    "    start = 0\n",
    "    for i in range(len(s)):\n",
    "        for j in range(start, len(t)):\n",
    "            start += 1\n",
    "            if s[i] == t[j]:\n",
    "                count += 1\n",
    "                break\n",
    "    \n",
    "    if count == len(s):\n",
    "        return True\n",
    "            \n",
    "    return False"
   ]
  },
  {
   "cell_type": "code",
   "execution_count": 30,
   "id": "810c947d-3069-44c3-bd06-5c73f2726ad7",
   "metadata": {},
   "outputs": [],
   "source": [
    "test_sets = [(\"abc\", \"ahbgdc\"), (\"axc\", \"ahbgdc\"), (\"\", \"abc\"), (\"abcd\", \"\"), (\"abc\", \"aabbcc\"), (\"ab\", \"baab\")]\n",
    "expects = [True, False, True, False, True, True]\n",
    "\n",
    "for i, (s, t) in enumerate(test_sets):\n",
    "    assert expects[i] == isSubsequence(s, t)"
   ]
  },
  {
   "cell_type": "markdown",
   "id": "0fd03a7d-119e-4c3e-98f8-1e04fa15ee79",
   "metadata": {},
   "source": [
    "## 개선 1\n",
    "- 예외 처리는 없어도 동작할 듯"
   ]
  },
  {
   "cell_type": "code",
   "execution_count": 43,
   "id": "aa1d135e-d2fd-4737-931d-d1082ce51ad0",
   "metadata": {},
   "outputs": [],
   "source": [
    "def isSubsequence_improve(s: str, t: str) -> bool:\n",
    "    count = 0\n",
    "    start = 0\n",
    "    for i in range(len(s)):\n",
    "        for j in range(start, len(t)):\n",
    "            start += 1\n",
    "            if s[i] == t[j]:\n",
    "                count += 1\n",
    "                break\n",
    "    \n",
    "    return count == len(s)"
   ]
  },
  {
   "cell_type": "code",
   "execution_count": 44,
   "id": "8854f0d6-f1fe-4d41-9f3a-fccf32b5d8c2",
   "metadata": {},
   "outputs": [],
   "source": [
    "test_sets = [(\"abc\", \"ahbgdc\"), (\"axc\", \"ahbgdc\"), (\"\", \"abc\"), (\"abcd\", \"\"), (\"abc\", \"aabbcc\"), (\"ab\", \"baab\")]\n",
    "expects = [True, False, True, False, True, True]\n",
    "\n",
    "for i, (s, t) in enumerate(test_sets):\n",
    "    assert expects[i] == isSubsequence_improve(s, t)"
   ]
  },
  {
   "cell_type": "markdown",
   "id": "bbc799ad-aa0c-430f-a4e5-06911db98674",
   "metadata": {},
   "source": [
    "## 개선 2\n",
    "- 좀 더 코드를 단순하게"
   ]
  },
  {
   "cell_type": "code",
   "execution_count": 45,
   "id": "55587b66-edfb-408c-9616-c3bfee385298",
   "metadata": {},
   "outputs": [],
   "source": [
    "def isSubsequence_improve_2(s: str, t: str) -> bool:\n",
    "    i = 0\n",
    "    j = 0\n",
    "    while i < len(s) and j < len(t):\n",
    "        if s[i] == t[j]:\n",
    "            i += 1\n",
    "            j += 1\n",
    "        else:\n",
    "            j += 1\n",
    "    return i == len(s)"
   ]
  },
  {
   "cell_type": "code",
   "execution_count": 46,
   "id": "fd0d2aaa-e9fa-4462-9f74-cc28f2ee34af",
   "metadata": {},
   "outputs": [],
   "source": [
    "test_sets = [(\"abc\", \"ahbgdc\"), (\"axc\", \"ahbgdc\"), (\"\", \"abc\"), (\"abcd\", \"\"), (\"abc\", \"aabbcc\"), (\"ab\", \"baab\")]\n",
    "expects = [True, False, True, False, True, True]\n",
    "\n",
    "for i, (s, t) in enumerate(test_sets):\n",
    "    assert expects[i] == isSubsequence_improve_2(s, t)"
   ]
  },
  {
   "cell_type": "markdown",
   "id": "b667e95d-6f50-4fe1-990a-60c887605cb2",
   "metadata": {},
   "source": [
    "## 솔루션\n",
    "- 위 답과 동일"
   ]
  }
 ],
 "metadata": {
  "kernelspec": {
   "display_name": "Python 3 (ipykernel)",
   "language": "python",
   "name": "python3"
  },
  "language_info": {
   "codemirror_mode": {
    "name": "ipython",
    "version": 3
   },
   "file_extension": ".py",
   "mimetype": "text/x-python",
   "name": "python",
   "nbconvert_exporter": "python",
   "pygments_lexer": "ipython3",
   "version": "3.10.9"
  }
 },
 "nbformat": 4,
 "nbformat_minor": 5
}

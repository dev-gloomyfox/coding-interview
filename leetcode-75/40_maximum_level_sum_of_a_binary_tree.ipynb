{
 "cells": [
  {
   "cell_type": "markdown",
   "id": "8d46a711-18fe-4e9a-a2bd-00b8d01e15d8",
   "metadata": {},
   "source": [
    "# Maximum Level Sum of a Binary Tree\n",
    "- 이진 트리의 루트가 주어지면 루트의 레벨은 1, 자식의 레벨은 2 식으로 진행\n",
    "- 레벨 x에 있는 모든 노드 값의 합이 최대가 되는 가장 작은 레벨 x를 반환\n",
    "- 노드의 수 1 ~ 10^4\n",
    "- -10^5 <= Node.val <= 10^5"
   ]
  },
  {
   "cell_type": "code",
   "execution_count": 8,
   "id": "8b3cf7cf-eb89-4f5a-8450-b18dbdb631bb",
   "metadata": {},
   "outputs": [],
   "source": [
    "from typing import Optional\n",
    "\n",
    "\n",
    "class TreeNode:\n",
    "    def __init__(self, val=0, left=None, right=None):\n",
    "        self.val = val\n",
    "        self.left = left\n",
    "        self.right = right\n",
    "\n",
    "\n",
    "def maxLevelSum(root: Optional[TreeNode]) -> int:\n",
    "    queue = []\n",
    "    queue.append(root)\n",
    "\n",
    "    level = 0\n",
    "    sum = float(\"-inf\")\n",
    "    result = 0\n",
    "\n",
    "    while(queue):\n",
    "        level += 1\n",
    "        tmp = 0\n",
    "        \n",
    "        for _ in range(len(queue)):\n",
    "            node = queue.pop(0)\n",
    "            tmp += node.val\n",
    "            if node.left is not None:\n",
    "                queue.append(node.left)\n",
    "            if node.right is not None:\n",
    "                queue.append(node.right)\n",
    "        \n",
    "        if tmp > sum:\n",
    "            sum = tmp\n",
    "            result = level\n",
    "        \n",
    "    return result"
   ]
  },
  {
   "cell_type": "code",
   "execution_count": 9,
   "id": "60950596-2b5e-4e08-81a3-0cdbf52cc5c2",
   "metadata": {},
   "outputs": [],
   "source": [
    "test_sets = [\n",
    "    TreeNode(\n",
    "        val=1,\n",
    "        left=TreeNode(\n",
    "            val=7,\n",
    "            left=TreeNode(\n",
    "                val=7\n",
    "            ),\n",
    "            right=TreeNode(\n",
    "                val=-8\n",
    "            )\n",
    "        ),\n",
    "        right=TreeNode(\n",
    "            val=0\n",
    "        )\n",
    "    )\n",
    "]\n",
    "expects = [2]\n",
    "\n",
    "for i, test_set in enumerate(test_sets):\n",
    "    assert expects[i] == maxLevelSum(test_set)"
   ]
  },
  {
   "cell_type": "markdown",
   "id": "f81cad90-7f00-463a-9d29-b72bcc610f35",
   "metadata": {},
   "source": [
    "## 솔루션\n",
    "- 정답과 동일"
   ]
  },
  {
   "cell_type": "code",
   "execution_count": null,
   "id": "b107bdac-ebab-46cb-970d-f28bb56b6167",
   "metadata": {},
   "outputs": [],
   "source": []
  }
 ],
 "metadata": {
  "kernelspec": {
   "display_name": "Python 3 (ipykernel)",
   "language": "python",
   "name": "python3"
  },
  "language_info": {
   "codemirror_mode": {
    "name": "ipython",
    "version": 3
   },
   "file_extension": ".py",
   "mimetype": "text/x-python",
   "name": "python",
   "nbconvert_exporter": "python",
   "pygments_lexer": "ipython3",
   "version": "3.10.9"
  }
 },
 "nbformat": 4,
 "nbformat_minor": 5
}

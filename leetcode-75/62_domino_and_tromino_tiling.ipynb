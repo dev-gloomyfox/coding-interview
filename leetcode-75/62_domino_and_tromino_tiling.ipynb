{
 "cells": [
  {
   "cell_type": "markdown",
   "id": "92fea78a-7b42-42a9-a6c6-407900ffc6f9",
   "metadata": {},
   "source": [
    "# Domino and Tromino Tiling\n",
    "- 타일에는 2 x 1 도미노 모양과 트로미노 모양의 두 가지 유형, 이러한 모양은 회전 가능\n",
    "- 정수 n이 주어졌을 때, 2 x n의 바둑판을 타일링하는 방법의 수를 반환\n",
    "- 답이 매우 클 수 있으므로 modulo 10^9 + 7을 반환\n",
    "- 타일링에서 모든 정사각형은 타일로 덮여 있어야 함, 두 타일링은 보드에 4방향으로 인접한 두 개의 셀이 있고 타일링 중 정확히 하나의 타일이 두 개의 사각형을 모두 차지하는 경우에만 서로 다름\n",
    "- 1 <= n <= 1000"
   ]
  },
  {
   "cell_type": "code",
   "execution_count": 3,
   "id": "cd2c71a1-5355-4c74-903f-e7bd7b7ce5b2",
   "metadata": {},
   "outputs": [],
   "source": [
    "def numTilings(n: int) -> int:\n",
    "    \"\"\"\n",
    "    6종류의 타일이 있다고 볼 수 있음\n",
    "    T1 - ㅁ T2 - ㅁ ㅁ T3 - ㅁ ㅁ T4 - ㅁ   T5 -   ㅁ  T6 - ㅁ ㅁ\n",
    "         ㅁ                ㅁ        ㅁ ㅁ      ㅁ ㅁ         ㅁ\n",
    "    그리드의 ith 열에 있음을 나타내는 인덱스 i로 표시하겠습니다. \n",
    "    각 열에서 위의 6개 타일 중 원하는 형태를 선택할 수 있습니다. \n",
    "    그러나 현재 선택은 이전 선택에 의해 제한됩니다. \n",
    "    예를 들어 이전에 T3을 선택했다면 그리드에 공백이 남기 때문에 그 뒤에 T4를 선택할 수 없습니다\n",
    "    1. T1이 배치된 경우 - i + 1 컬럼으로 이동\n",
    "    2. T2 배치된 경우 - T2는 아래쪽 갭 제거를 위해 다른 것과 조합한 페어로만 이동 가능, i + 2로 이동\n",
    "    3. T3가 배치된 경우 아래쪽에 한칸이 남게 되고 i + 2 이동 다만 i + 1에 빈 칸을 채워야함\n",
    "    4. T4 위쪽에 한칸이 남고 i + 2 이동 i + 1에 빈 칸을 채워야 함\n",
    "    5. T5, T6은 이전컬럼의 빈칸을 채울 때만 사용 가능, i-1 행의 빈칸을 채우면서 i + 1 이동\n",
    "    6. T2 역시 그전 빈칸을 채우면서 위치 시킬 수 있음 i-1 행의 빈칸을 채우면서 i+1만큼 이동하지만 i에 채워야하는 칸이 생김\n",
    "\n",
    "    - 이전 행에 빈 것이 있을 경우\n",
    "    ㄴ T1을 놓고 i+1로 이동 -> solve(i+1, previous_gap=False)\n",
    "    ㄴ T2 쌍을 놓고 i+2로 이동 -> solve(i+2, previous_gap=False)\n",
    "    ㄴ T3, T4를 놓고 i+2로 이동, i+1에 빈 칸이 있다고 표시 -> 2 * solve(i+2, previous_gap=True)\n",
    "\n",
    "    - 이전 행에 빈 것이 없을 경우\n",
    "    ㄴ T5 또는 T6를 위치 이전 빈 칸을 채움(둘 중 하나만 적합할 것), i+1 이동 -> solve(i+1, previous_gap=False)\n",
    "    ㄴ T2를 위치하고 i+1이동 i칸에 빈칸이 있다는것을 표시 -> solve(i+1, previous_gap=True)\n",
    "    \"\"\"\n",
    "    def solve(i: int, previous_gap: bool) -> int:\n",
    "            if i > n:\n",
    "                return 0\n",
    "            if i == n:\n",
    "                return not previous_gap\n",
    "            if previous_gap:\n",
    "                return solve(i + 1, False) + solve(i + 1, True)\n",
    "            return solve(i + 1, False) + solve(i + 2, False) + 2 * solve(i + 2, True)\n",
    "    \n",
    "    return solve(0, False) % 1_000_000_007"
   ]
  },
  {
   "cell_type": "code",
   "execution_count": 6,
   "id": "89582f1d-213b-4a75-a4c9-1fa2ef588fd9",
   "metadata": {},
   "outputs": [],
   "source": [
    "test_sets = [3, 1]\n",
    "expects = [5, 1]\n",
    "\n",
    "for i, test_set in enumerate(test_sets):\n",
    "    assert expects[i] == numTilings(test_set)"
   ]
  },
  {
   "cell_type": "markdown",
   "id": "f9d02042-ab28-4f29-89d7-9607bb32f6cf",
   "metadata": {},
   "source": [
    "## 개선\n",
    "- 현재 O(3^n)의 계산 시간 소요, dp를 통해서 개선\n",
    "- @cache 데코레이터를 이용해서 함수 캐싱"
   ]
  },
  {
   "cell_type": "code",
   "execution_count": 10,
   "id": "3ec168e9-6a86-4d5b-bfbd-0c3f1ac80945",
   "metadata": {},
   "outputs": [],
   "source": [
    "from functools import cache\n",
    "\n",
    "\n",
    "def numTilings_improve(n: int) -> int:\n",
    "    @cache\n",
    "    def solve(i: int, previous_gap: bool) -> int:\n",
    "        if i > n:\n",
    "            return 0\n",
    "        if i == n:\n",
    "            return not previous_gap\n",
    "        if previous_gap:\n",
    "            return solve(i + 1, False) + solve(i + 1, True)\n",
    "        return solve(i + 1, False) + solve(i + 2, False) + 2 * solve(i + 2, True)\n",
    "    return solve(0, False) % 1_000_000_007"
   ]
  },
  {
   "cell_type": "code",
   "execution_count": 11,
   "id": "dd8eeeb4-721c-4d83-bd06-c7ef095377c0",
   "metadata": {},
   "outputs": [],
   "source": [
    "test_sets = [3, 1]\n",
    "expects = [5, 1]\n",
    "\n",
    "for i, test_set in enumerate(test_sets):\n",
    "    assert expects[i] == numTilings_improve(test_set)"
   ]
  },
  {
   "cell_type": "markdown",
   "id": "50063609-eb80-4a8c-a68c-576d9e7609d6",
   "metadata": {},
   "source": [
    "## 개선2\n",
    "- cache 데코레이터를 모를 때는 별도의 공간 마련해서 DP 구현 가능"
   ]
  },
  {
   "cell_type": "code",
   "execution_count": 18,
   "id": "82a5df44-546f-421c-a7da-59882a80d5b5",
   "metadata": {},
   "outputs": [],
   "source": [
    "def numTilings_improve2(n: int) -> int:\n",
    "    dp = [[None, None] for _ in range(n)]\n",
    "    def solve(i: int, previous_gap: bool) -> int:\n",
    "        if i > n:\n",
    "            return 0\n",
    "        if i == n:\n",
    "            return not previous_gap\n",
    "        if dp[i][previous_gap]:\n",
    "            return dp[i][previous_gap]\n",
    "        if previous_gap:\n",
    "            dp[i][previous_gap] = (solve(i + 1, False) + solve(i + 1, True))\n",
    "            return dp[i][previous_gap]\n",
    "        dp[i][previous_gap] = solve(i + 1, False) + solve(i + 2, False) + 2 * solve(i + 2, True)\n",
    "        return dp[i][previous_gap]\n",
    "    return solve(0, False) % 1_000_000_007"
   ]
  },
  {
   "cell_type": "code",
   "execution_count": 19,
   "id": "d7713655-efca-4898-9691-d6b561c22876",
   "metadata": {},
   "outputs": [],
   "source": [
    "test_sets = [3, 1]\n",
    "expects = [5, 1]\n",
    "\n",
    "for i, test_set in enumerate(test_sets):\n",
    "    assert expects[i] == numTilings_improve2(test_set)"
   ]
  },
  {
   "cell_type": "markdown",
   "id": "5b7b77fc-26f9-46ba-8716-cd10b6de8d84",
   "metadata": {},
   "source": [
    "## 개선 3\n",
    "- 다른 방식으로 DP\n",
    "- dp[i][0] -> i번째 컬럼에 위치한 빈칸이 없는 경우의 개수\n",
    "  - T1 더하기: i - 1 전에 빈 칸이 없는 경우에 배치 가능 - dp[i-1][0]\n",
    "  - T2 더하기: i - 2 전에 빈 칸이 있는 경우 배치 가능 - dp[i-2][0]\n",
    "  - T5 또는 T6 더하기: i - 2 전에 빈 칸이 있는 경우 배치 가능, 두 가지 경우이므로 두 번 곱하기 - i - 2*dp[i-2][1]\n",
    "- dp[i][1] -> i번째 컬럼에 위치한 빈칸이 있는 경우의 개수\n",
    "  - T3/T4: i - 1 전에 빈 칸이 없는 경우 배치 가능, 핏한 경우가 한 가지이기 때문에 *2는 하지 않음 - dp[i-1][0]\n",
    "  - T2: i - 1 전에 빈 칸이 있는 경우 배치 가능, 핏한 경우가 한 가지이기 때문에 *2 는 하지 않음 - dp[i-1][1]"
   ]
  },
  {
   "cell_type": "code",
   "execution_count": 20,
   "id": "4bd83939-26c3-4162-ba72-24403614b659",
   "metadata": {},
   "outputs": [],
   "source": [
    "def numTilings_improve3(n: int) -> int:\n",
    "    dp = [[0, 0] for _ in range(n + 1)]\n",
    "    dp[0], dp[1] = [1, 1], [2, 2]\n",
    "    for i in range(2, n):\n",
    "        dp[i][0] = dp[i - 1][0] + dp[i - 2][0] + 2 * dp[i - 2][1]\n",
    "        dp[i][1] = dp[i - 1][0] + dp[i - 1][1]\n",
    "    return dp[n - 1][0] % 1_000_000_007"
   ]
  },
  {
   "cell_type": "code",
   "execution_count": 21,
   "id": "dc6d79b8-ba28-4283-ae77-aa3e166b00c2",
   "metadata": {},
   "outputs": [],
   "source": [
    "test_sets = [3, 1]\n",
    "expects = [5, 1]\n",
    "\n",
    "for i, test_set in enumerate(test_sets):\n",
    "    assert expects[i] == numTilings_improve3(test_set)"
   ]
  },
  {
   "cell_type": "markdown",
   "id": "ebcfe36f-013e-4e57-8c8f-af3588090e31",
   "metadata": {},
   "source": [
    "## 개선 4\n",
    "- 순차적으로 진행되며 i - 1, i - 2 값만 사용하기 때문에 임시 공간으로만 사용하면 공간복잡도 축소가 가능"
   ]
  },
  {
   "cell_type": "code",
   "execution_count": 22,
   "id": "fbec6697-98db-4d96-b637-82c22af35150",
   "metadata": {},
   "outputs": [],
   "source": [
    "def numTilings_improve4(n: int) -> int:\n",
    "    if n <= 2: return n\n",
    "    filled_prev, gap_prev, filled_prev2, gap_prev2 = 2,2,1,1\n",
    "    for i in range(2, n):\n",
    "        filled = filled_prev + filled_prev2 + 2 * gap_prev2\n",
    "        gap = filled_prev + gap_prev\n",
    "        \n",
    "        filled_prev2, filled_prev, gap_prev2, gap_prev = filled_prev, filled, gap_prev, gap\n",
    "    return filled_prev % 1_000_000_007"
   ]
  },
  {
   "cell_type": "code",
   "execution_count": 23,
   "id": "c6433b4d-5420-4102-b0c5-71ccfc9136ce",
   "metadata": {},
   "outputs": [],
   "source": [
    "test_sets = [3, 1]\n",
    "expects = [5, 1]\n",
    "\n",
    "for i, test_set in enumerate(test_sets):\n",
    "    assert expects[i] == numTilings_improve4(test_set)"
   ]
  },
  {
   "cell_type": "markdown",
   "id": "2e5c7c11-1c9e-42c8-9d30-633533a984eb",
   "metadata": {},
   "source": [
    "## 솔루션\n",
    "- 개선4와 동일"
   ]
  },
  {
   "cell_type": "code",
   "execution_count": null,
   "id": "37d400fb-3bdb-41ce-a494-1b6b68c25914",
   "metadata": {},
   "outputs": [],
   "source": []
  }
 ],
 "metadata": {
  "kernelspec": {
   "display_name": "Python 3 (ipykernel)",
   "language": "python",
   "name": "python3"
  },
  "language_info": {
   "codemirror_mode": {
    "name": "ipython",
    "version": 3
   },
   "file_extension": ".py",
   "mimetype": "text/x-python",
   "name": "python",
   "nbconvert_exporter": "python",
   "pygments_lexer": "ipython3",
   "version": "3.10.9"
  }
 },
 "nbformat": 4,
 "nbformat_minor": 5
}

{
 "cells": [
  {
   "cell_type": "markdown",
   "id": "71068cb0-7e12-4d3b-9366-40c3f3081ec1",
   "metadata": {},
   "source": [
    "# Lowest Common Ancestor of a Binary Tree\n",
    "- 이진 트리가 주어졌을 때, 트리에서 주어진 두 노드의 최하위 공통 조상(LCA)을 구합니다.\n",
    "- 위키백과에 나와 있는 LCA의 정의에 따르면 \"최하위 공통 조상은 두 노드 p와 q 사이에서 T에서 p와 q를 모두 자손으로 갖는 가장 낮은 노드로 정의됩니다(여기서 노드는 자신의 자손이 될 수 있음).\"\n",
    "- The number of nodes in the tree is in the range [2, 10^5].\n",
    "- 10^9 <= Node.val <= 10^9\n",
    "- All Node.val are unique.\n",
    "- p != q\n",
    "- p and q will exist in the tree."
   ]
  },
  {
   "cell_type": "code",
   "execution_count": 2,
   "id": "72e398fe-880f-46c7-9c0b-38ca2d8ade8d",
   "metadata": {},
   "outputs": [],
   "source": [
    "from typing import Optional\n",
    "\n",
    "\n",
    "class TreeNode:\n",
    "    def __init__(self, x):\n",
    "        self.val = x\n",
    "        self.left = None\n",
    "        self.right = None\n",
    "\n",
    "\n",
    "def lowestCommonAncestor(root: TreeNode, p: TreeNode, q: TreeNode) -> TreeNode:\n",
    "    \"\"\"\n",
    "    1. p 탐색: 탐색 경로 기록\n",
    "    2. q 탐색: 탐색 경로 기록\n",
    "    3. 경로끼리 앞에서 부터 비교하고 공통된 것을 덮어가면서 저장\n",
    "    \"\"\"\n",
    "    paths = {}\n",
    "    \n",
    "    def dfs(node: Optional[TreeNode], target: TreeNode, path: list[TreeNode]):\n",
    "        if not node:\n",
    "            return\n",
    "        \n",
    "        path_copy = path.copy()\n",
    "        path_copy.append(node)\n",
    "\n",
    "        if node == target:\n",
    "            paths[target] = path_copy\n",
    "            return\n",
    "        \n",
    "        dfs(node.left, target, path_copy)\n",
    "        dfs(node.right, target, path_copy)\n",
    "    \n",
    "    dfs(root, p, [])\n",
    "    dfs(root, q, [])\n",
    "\n",
    "    lowest_common_ancestor = root\n",
    "    \n",
    "    print(paths[p])\n",
    "    print(paths[q])\n",
    "\n",
    "    for i in range(len(paths[p])):\n",
    "        for j in range(len(paths[q])):\n",
    "            if paths[p][i] == paths[q][j]:\n",
    "                lowest_common_ancestor = paths[p][i]\n",
    "    \n",
    "    return lowest_common_ancestor"
   ]
  },
  {
   "cell_type": "markdown",
   "id": "26a7fb6f-eab3-4a00-8857-e4f9c4509162",
   "metadata": {},
   "source": [
    "## 개선\n",
    "- 시간 초과 발생, 호출 횟수를 줄여보자"
   ]
  },
  {
   "cell_type": "code",
   "execution_count": 3,
   "id": "888e346e-9bae-45aa-ab26-684622385dcf",
   "metadata": {},
   "outputs": [],
   "source": [
    "def lowestCommonAncestor_improve(root: TreeNode, p: TreeNode, q: TreeNode) -> TreeNode:\n",
    "    if not root or root == p or root == q:\n",
    "        return root\n",
    "\n",
    "    left = lowestCommonAncestor_improve(root.left, p, q)\n",
    "    right = lowestcommonAncestor_improve(root.right, p, q)\n",
    "\n",
    "    if left and right:\n",
    "        return root\n",
    "    return left or right"
   ]
  },
  {
   "cell_type": "markdown",
   "id": "c37b8b13-be27-4aad-8ef4-e0d7ac8835c3",
   "metadata": {},
   "source": [
    "## 솔루션\n",
    "- 개선 답과 동일"
   ]
  },
  {
   "cell_type": "code",
   "execution_count": null,
   "id": "34ea0de0-bcc5-4ee5-9e02-0b620193c9bc",
   "metadata": {},
   "outputs": [],
   "source": []
  }
 ],
 "metadata": {
  "kernelspec": {
   "display_name": "Python 3 (ipykernel)",
   "language": "python",
   "name": "python3"
  },
  "language_info": {
   "codemirror_mode": {
    "name": "ipython",
    "version": 3
   },
   "file_extension": ".py",
   "mimetype": "text/x-python",
   "name": "python",
   "nbconvert_exporter": "python",
   "pygments_lexer": "ipython3",
   "version": "3.10.9"
  }
 },
 "nbformat": 4,
 "nbformat_minor": 5
}

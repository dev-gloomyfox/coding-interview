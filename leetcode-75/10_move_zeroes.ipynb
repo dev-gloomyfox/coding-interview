{
 "cells": [
  {
   "cell_type": "markdown",
   "id": "98cfddbd-ae47-4da9-9cd0-f72a1920cb4c",
   "metadata": {},
   "source": [
    "# Move Zeroes\n",
    "- 배열 내 0이 아닌 요소의 상대적인 순서를 유지하면서 모든 0을 배열의 끝으로 이동\n",
    "- 배열의 복사본을 만들지 말 것\n",
    "- 1 <= nums.length <= 10^4\n",
    "- -2^31 <= nums[i] <= 2^31 - 1"
   ]
  },
  {
   "cell_type": "code",
   "execution_count": 21,
   "id": "3d8caf37-ada7-43c3-bf5a-f02bd0eb9ce1",
   "metadata": {},
   "outputs": [],
   "source": [
    "def moveZeroes(nums: list[int]) -> None:\n",
    "    start = 0\n",
    "    end = len(nums) - 1\n",
    "\n",
    "    while start < end:\n",
    "        if nums[start] == 0:\n",
    "            nums[start:end] = nums[start+1:end+1]\n",
    "            nums[end] = 0\n",
    "            end -= 1\n",
    "        else:\n",
    "            start += 1"
   ]
  },
  {
   "cell_type": "code",
   "execution_count": 22,
   "id": "3d29712b-715f-443f-8784-17860905268d",
   "metadata": {},
   "outputs": [],
   "source": [
    "test_sets = [[0, 1, 0, 3, 12], [0], [1, 2, 3, 4, 5]]\n",
    "expects = [[1, 3, 12, 0, 0], [0], [1, 2, 3, 4, 5]]\n",
    "\n",
    "for i, test_set in enumerate(test_sets):\n",
    "    moveZeroes(test_set)\n",
    "    assert expects[i] == test_set"
   ]
  },
  {
   "cell_type": "markdown",
   "id": "0ba61ced-4801-4b3e-889e-a6b425c68b8e",
   "metadata": {},
   "source": [
    "## 개선\n",
    "- 다른 방식으로 풀어서 배열을 앞으로 끌어오는 과정들을 제거 가능하지 않을까? 위 답은 배열 쓰기가 순차적으로 이뤄지면 O(n^2)\n",
    "- 마지막으로 등장한 0이 아닌 것의 가상의 위치를 기록, 기본 값은 0\n",
    "- 앞으로 순회하면서 0이 아닌 값이 나오면, 마지막으로 등장한 0이 아닌 것의 가상의 위치와 변경, 해당 인덱스 전에는 0이 아닌 값들만 있다는 것을 보장하기에 유효"
   ]
  },
  {
   "cell_type": "code",
   "execution_count": 23,
   "id": "86cdf1a6-d9ee-4c16-be97-bf807c29c640",
   "metadata": {},
   "outputs": [],
   "source": [
    "def moveZeroes_improve(nums: list[int]) -> None:\n",
    "    last = 0\n",
    "    for i in range(len(nums)):\n",
    "        if nums[i] != 0:\n",
    "            tmp = nums[i]\n",
    "            nums[i] = nums[last]\n",
    "            nums[last] = tmp\n",
    "            last += 1"
   ]
  },
  {
   "cell_type": "code",
   "execution_count": 24,
   "id": "f9b0e0a3-7e81-49fd-bd95-d9410cb0c906",
   "metadata": {},
   "outputs": [],
   "source": [
    "test_sets = [[0, 1, 0, 3, 12], [0], [1, 2, 3, 4, 5]]\n",
    "expects = [[1, 3, 12, 0, 0], [0], [1, 2, 3, 4, 5]]\n",
    "\n",
    "for i, test_set in enumerate(test_sets):\n",
    "    moveZeroes_improve(test_set)\n",
    "    assert expects[i] == test_set"
   ]
  },
  {
   "cell_type": "markdown",
   "id": "8b18e754-3fcc-44af-8dd3-3d467892cdc1",
   "metadata": {},
   "source": [
    "## 솔루션\n",
    "- 답과 동일"
   ]
  }
 ],
 "metadata": {
  "kernelspec": {
   "display_name": "Python 3 (ipykernel)",
   "language": "python",
   "name": "python3"
  },
  "language_info": {
   "codemirror_mode": {
    "name": "ipython",
    "version": 3
   },
   "file_extension": ".py",
   "mimetype": "text/x-python",
   "name": "python",
   "nbconvert_exporter": "python",
   "pygments_lexer": "ipython3",
   "version": "3.10.9"
  }
 },
 "nbformat": 4,
 "nbformat_minor": 5
}

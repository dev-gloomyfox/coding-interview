{
 "cells": [
  {
   "cell_type": "markdown",
   "id": "5aed211d-a7b1-4650-bd38-4c3f13684b59",
   "metadata": {},
   "source": [
    "# Reverse Words in a String\n",
    "- 단어 단위로 입력을 뒤집기\n",
    "- 단어는 공백이 아닌 문자의 연속으로 정의, 단어는 공백으로 하나 이상 구분\n",
    "- 입력에는 선행 또는 후행 공백이 포함되거나 두 단어 사이에 여러 개의 공백이 포함 가능하지만 반환에는 단어 사이 공백이 하나여야만 \n",
    "- 1 <= s.length <= 10^4\n",
    "- s는 영어 대소문자, 숫자, 공백문자로 구성\n",
    "- 적어도 하나의 문자가 있음\n",
    "- 문자열이 mutable이면 O(1)의 스페이스 공간으로 해결이 가능한지?"
   ]
  },
  {
   "cell_type": "code",
   "execution_count": 65,
   "id": "e8447227-8e3c-4383-aa55-e5d92408bc93",
   "metadata": {},
   "outputs": [],
   "source": [
    "def reverseWords(s: str) -> str:\n",
    "    return \" \".join(reversed([element for element in s.split(\" \") if element != \"\"]))"
   ]
  },
  {
   "cell_type": "code",
   "execution_count": 66,
   "id": "b6242bcc-4f34-4fa0-8d7a-6510af4ff77a",
   "metadata": {},
   "outputs": [],
   "source": [
    "test_sets = [\"the sky is blue\", \"  hello world  \", \"a good   example\"]\n",
    "expects = [\"blue is sky the\", \"world hello\", \"example good a\"]\n",
    "\n",
    "for i, test_set in enumerate(test_sets):\n",
    "    assert expects[i] == reverseWords(test_set)"
   ]
  },
  {
   "cell_type": "markdown",
   "id": "d4aaf894-a542-45fe-bcb8-adf45e79c88b",
   "metadata": {},
   "source": [
    "## 솔루션\n",
    "- 해답 유료여서 확인은 못했고 대부분의 공유된 정답은 위와 같은 방식으로 해결"
   ]
  }
 ],
 "metadata": {
  "kernelspec": {
   "display_name": "Python 3 (ipykernel)",
   "language": "python",
   "name": "python3"
  },
  "language_info": {
   "codemirror_mode": {
    "name": "ipython",
    "version": 3
   },
   "file_extension": ".py",
   "mimetype": "text/x-python",
   "name": "python",
   "nbconvert_exporter": "python",
   "pygments_lexer": "ipython3",
   "version": "3.10.9"
  }
 },
 "nbformat": 4,
 "nbformat_minor": 5
}

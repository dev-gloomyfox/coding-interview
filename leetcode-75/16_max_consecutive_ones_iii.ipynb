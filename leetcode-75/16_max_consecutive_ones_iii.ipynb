{
 "cells": [
  {
   "cell_type": "markdown",
   "id": "ec207e0c-dee4-40a4-8a8d-d12ad29d0e81",
   "metadata": {},
   "source": [
    "# Max Consecutive Ones III\n",
    "- 이진 배열 nums와 정수 k가 주어졌을 때, 최대 k개의 0을 뒤집을 수 있다면 배열에서 연속된 1의 최대 개수를 반환\n",
    "- 1 <= nums.length <= 10^5\n",
    "- nums[i]는 0 또는 1\n",
    "- 0 <= k <= nums.length"
   ]
  },
  {
   "cell_type": "code",
   "execution_count": 36,
   "id": "94aa0751-6de3-41ce-bb95-4ae2c91983b3",
   "metadata": {},
   "outputs": [],
   "source": [
    "def longestOnes(nums: list[int], k: int) -> int:\n",
    "    count = 0\n",
    "    flip_count = 0\n",
    "    start_index = 0\n",
    "    end_index = -1\n",
    "    zero_indices = []\n",
    "    \n",
    "    for i in range(len(nums)):\n",
    "        if nums[i] == 0:\n",
    "            zero_indices.append(i)\n",
    "    \n",
    "    if len(zero_indices) == 0:\n",
    "        return len(nums)\n",
    "\n",
    "    zero_index = 0\n",
    "    for i in range(len(nums)):\n",
    "        if flip_count < k and nums[i] == 0:\n",
    "            end_index = i\n",
    "            flip_count += 1\n",
    "        elif flip_count == k and nums[i] == 0:\n",
    "            count = max(count, end_index - start_index + 1)\n",
    "            start_index = zero_indices[zero_index] + 1\n",
    "            zero_index += 1\n",
    "        elif nums[i] == 1:\n",
    "            end_index = i\n",
    "\n",
    "    return max(count, end_index - start_index + 1)"
   ]
  },
  {
   "cell_type": "code",
   "execution_count": 39,
   "id": "96dd42c6-b1e1-4ec7-8cbb-90828eae42b6",
   "metadata": {},
   "outputs": [],
   "source": [
    "test_sets = [([1,1,1,0,0,0,1,1,1,1,0], 2), ([0,0,1,1,0,0,1,1,1,0,1,1,0,0,0,1,1,1,1], 3), ([0,0,0,0], 0), ([1,0,1,0], 0)]\n",
    "expects = [6, 10, 0, 1]\n",
    "\n",
    "for i, (nums, k) in enumerate(test_sets):\n",
    "    assert expects[i] == longestOnes(nums, k)"
   ]
  },
  {
   "cell_type": "markdown",
   "id": "3e9d58ed-09d1-41cd-8839-8356e356abd5",
   "metadata": {},
   "source": [
    "## 개선\n",
    "- 공간을 더 줄여보자\n",
    "- 0의 개수가 유지된 윈도우 크기를 만들고, 슬라이딩하면서 왼쪽 인덱스를 조정"
   ]
  },
  {
   "cell_type": "code",
   "execution_count": 41,
   "id": "d9fc8faa-d384-414f-9879-f8bfeb8e39e4",
   "metadata": {},
   "outputs": [],
   "source": [
    "def longestOnes_improve(nums: list[int], k: int) -> int:\n",
    "    count = 0\n",
    "    left = 0\n",
    "\n",
    "    for i in range(len(nums)):\n",
    "        if nums[i] == 0:\n",
    "            k -= 1\n",
    "        \n",
    "        while k < 0:\n",
    "            if nums[left] == 0:\n",
    "                k += 1\n",
    "            left += 1\n",
    "        count = max(count, i - left + 1)\n",
    "    \n",
    "    return count"
   ]
  },
  {
   "cell_type": "code",
   "execution_count": 42,
   "id": "8b0af3c5-7b99-4892-ba24-fcfbe9a29ba6",
   "metadata": {},
   "outputs": [],
   "source": [
    "test_sets = [([1,1,1,0,0,0,1,1,1,1,0], 2), ([0,0,1,1,0,0,1,1,1,0,1,1,0,0,0,1,1,1,1], 3), ([0,0,0,0], 0), ([1,0,1,0], 0)]\n",
    "expects = [6, 10, 0, 1]\n",
    "\n",
    "for i, (nums, k) in enumerate(test_sets):\n",
    "    assert expects[i] == longestOnes_improve(nums, k)"
   ]
  },
  {
   "cell_type": "markdown",
   "id": "a6bb855c-ac56-4a27-954f-37bbfed7ad14",
   "metadata": {},
   "source": [
    "## 개선 2\n",
    "- 최대 값을 알아내는 것이므로 최대 간격만 유지된다면 굳이 인덱스 위치를 항상 당겨올 필요 X"
   ]
  },
  {
   "cell_type": "code",
   "execution_count": 44,
   "id": "8e507015-c196-49e2-9377-4b3e24398ca5",
   "metadata": {},
   "outputs": [],
   "source": [
    "def longestOnes_improve_2(nums: list[int], k: int) -> int:\n",
    "    left = 0\n",
    "    for i in range(len(nums)):\n",
    "        if nums[i] == 0:\n",
    "            k -= 1\n",
    "        if k < 0:\n",
    "            if nums[left] == 0:\n",
    "                k += 1\n",
    "            left += 1\n",
    "    return i - left + 1"
   ]
  },
  {
   "cell_type": "code",
   "execution_count": 45,
   "id": "1b609185-a321-4bcb-ab19-09e07a1cfef4",
   "metadata": {},
   "outputs": [],
   "source": [
    "test_sets = [([1,1,1,0,0,0,1,1,1,1,0], 2), ([0,0,1,1,0,0,1,1,1,0,1,1,0,0,0,1,1,1,1], 3), ([0,0,0,0], 0), ([1,0,1,0], 0)]\n",
    "expects = [6, 10, 0, 1]\n",
    "\n",
    "for i, (nums, k) in enumerate(test_sets):\n",
    "    assert expects[i] == longestOnes_improve_2(nums, k)"
   ]
  },
  {
   "cell_type": "code",
   "execution_count": null,
   "id": "6411d7a5-41a0-4f95-82cd-9204a05bcfda",
   "metadata": {},
   "outputs": [],
   "source": []
  }
 ],
 "metadata": {
  "kernelspec": {
   "display_name": "Python 3 (ipykernel)",
   "language": "python",
   "name": "python3"
  },
  "language_info": {
   "codemirror_mode": {
    "name": "ipython",
    "version": 3
   },
   "file_extension": ".py",
   "mimetype": "text/x-python",
   "name": "python",
   "nbconvert_exporter": "python",
   "pygments_lexer": "ipython3",
   "version": "3.10.9"
  }
 },
 "nbformat": 4,
 "nbformat_minor": 5
}

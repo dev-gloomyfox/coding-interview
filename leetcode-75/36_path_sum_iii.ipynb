{
 "cells": [
  {
   "cell_type": "markdown",
   "id": "3f7b517e-1102-4c16-baa5-de5f05edba9c",
   "metadata": {},
   "source": [
    "# Path Sum III\n",
    "- 이진 트리의 root와 정수 targetSum이 주어졌을 때, 경로에 따른 값의 합이 targetSum과 같은 경로의 수를 반환합니다.\n",
    "- 경로는 루트나 리프에서 시작하거나 끝날 필요는 없지만 반드시 아래로 내려가야 합니다(즉, 부모 노드에서 자식 노드로만 이동해야 합니다).\n",
    "- The number of nodes in the tree is in the range [0, 1000].\n",
    "- -10^9 <= Node.val <= 10^9\n",
    "- -1000 <= targetSum <= 1000"
   ]
  },
  {
   "cell_type": "code",
   "execution_count": 2,
   "id": "fc6bb6e0-dda5-4e57-b9a0-f7c21b98f4ea",
   "metadata": {},
   "outputs": [],
   "source": [
    "from typing import Optional\n",
    "\n",
    "\n",
    "class TreeNode:\n",
    "    def __init__(self, val=0, left=None, right=None):\n",
    "        self.val = val\n",
    "        self.left = left\n",
    "        self.right = right\n",
    "\n",
    "\n",
    "def pathSum(root: Optional[TreeNode], targetSum: int) -> int:\n",
    "    if not root:\n",
    "        return 0\n",
    "\n",
    "    def dfs(node: Optional[TreeNode], target_sum: int, path_sum: list[int]):\n",
    "        if not node:\n",
    "            return 0\n",
    "\n",
    "        path_sum_copy = path_sum.copy()\n",
    "        \n",
    "        for i in range(len(path_sum)):\n",
    "            path_sum_copy[i] += node.val\n",
    "        \n",
    "        path_sum_copy.append(node.val)\n",
    "        \n",
    "        tmp = 0\n",
    "        for value in path_sum_copy:\n",
    "            if value == target_sum:\n",
    "                tmp += 1\n",
    "        left = dfs(node.left, target_sum, path_sum_copy)\n",
    "        right = dfs(node.right, target_sum, path_sum_copy)\n",
    "\n",
    "        return left + right + tmp\n",
    "\n",
    "    return dfs(root, targetSum, [])"
   ]
  },
  {
   "cell_type": "markdown",
   "id": "a0a91fff-b8f4-4f0c-98bb-4304cc7c657c",
   "metadata": {},
   "source": [
    "## 개선\n",
    "- 중간에 리스트를 계속 만드는 것이 공간 차지가 더 크다고 생각\n",
    "- dict 같은 자료 구조를 이용해서 공간을 좀 더 효율적으로 만들 수 있지 않을까?"
   ]
  },
  {
   "cell_type": "code",
   "execution_count": 3,
   "id": "e48851ac-03d0-49c4-9764-4ff54b383527",
   "metadata": {},
   "outputs": [],
   "source": [
    "def pathSum_improve(root: Optional[TreeNode], targetSum: int) -> int:\n",
    "    path_sum = defaultdict(int)\n",
    "    path_sum[0] = 1\n",
    "    \n",
    "    def dfs(node: Optional[TreeNode], total: int):\n",
    "        count = 0\n",
    "        \n",
    "        if root:\n",
    "            total += node.val  # 현재까지의 합\n",
    "            count = path_sum[total - targetSum]  # 현재까지의 합과 targetSum과의 차이, 기존 경로에 이 차이에 대한 값의 개수를 이 노드의 count로 사용\n",
    "            path_sum[total] += 1  # 현재까지 합의 개수를 하나 추가\n",
    "            count += dfs(node.left, total) + dfs(node.right, total)  # dfs 시행하여 다음 노드 진행\n",
    "            path_sum[total] -= 1  # 초기화\n",
    "        return count\n",
    "\n",
    "    return dfs(root, 0)"
   ]
  },
  {
   "cell_type": "markdown",
   "id": "dc853bf3-127e-40d2-bf5c-c1f6b1d493cb",
   "metadata": {},
   "source": [
    "## 솔루션\n",
    "- 개선 답과 동일"
   ]
  },
  {
   "cell_type": "code",
   "execution_count": null,
   "id": "9abe8aa0-31ce-4ff2-86c3-8034305a8861",
   "metadata": {},
   "outputs": [],
   "source": []
  }
 ],
 "metadata": {
  "kernelspec": {
   "display_name": "Python 3 (ipykernel)",
   "language": "python",
   "name": "python3"
  },
  "language_info": {
   "codemirror_mode": {
    "name": "ipython",
    "version": 3
   },
   "file_extension": ".py",
   "mimetype": "text/x-python",
   "name": "python",
   "nbconvert_exporter": "python",
   "pygments_lexer": "ipython3",
   "version": "3.10.9"
  }
 },
 "nbformat": 4,
 "nbformat_minor": 5
}

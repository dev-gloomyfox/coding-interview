{
 "cells": [
  {
   "cell_type": "markdown",
   "id": "cce66acb-7244-4baf-9892-2861ae7c054a",
   "metadata": {},
   "source": [
    "# Delete the Middle Node of a Linked List\n",
    "- 링크된 목록의 헤드가 주어짐, 중간 노드를 삭제하고 수정된 링크된 목록의 헤드를 반환\n",
    "- n 크기의 링크된 목록의 중간 노드는 0 기반 인덱싱을 사용하여 처음부터 ⌊n / 2⌋번째 노드이며, 여기서 ⌊x⌋는 x보다 작거나 같은 가장 큰 정수를 표현\n",
    "- n = 1, 2, 3, 4, 5의 경우 중간 노드는 각각 0, 1, 1, 1, 2, 2\n",
    "- The number of nodes in the list is in the range [1, 10^5].\n",
    "- 1 <= Node.val <= 105"
   ]
  },
  {
   "cell_type": "code",
   "execution_count": 22,
   "id": "233c54b6-3365-4090-b22d-b6c2ad75f181",
   "metadata": {},
   "outputs": [],
   "source": [
    "from typing import Optional\n",
    "\n",
    "\n",
    "class ListNode:\n",
    "    def __init__(self, val=0, next=None):\n",
    "        self.val = val\n",
    "        self.next = next\n",
    "\n",
    "\n",
    "def deleteMiddle(head: Optional[ListNode]) -> Optional[ListNode]:\n",
    "    \"\"\"\n",
    "    크기를 알려면: 노드의 끝까지 가면 가능\n",
    "    노드의 연결을 끊으려면: 중간 노드의 직전 노드를 알고있으면 가능\n",
    "    노드가 한 개면: None 반환\n",
    "    \"\"\"\n",
    "    if not head.next:\n",
    "        return None\n",
    "\n",
    "    current = head.next\n",
    "    pre_middle = head\n",
    "    index = 1\n",
    "    \n",
    "    while current.next:\n",
    "        current = current.next\n",
    "        if index % 2 == 0:\n",
    "            pre_middle = pre_middle.next\n",
    "        index += 1\n",
    "    \n",
    "    pre_middle.next = pre_middle.next.next\n",
    "\n",
    "    return head"
   ]
  },
  {
   "cell_type": "code",
   "execution_count": 23,
   "id": "3f80c0ae-5ead-43e5-90c1-70fd2130309a",
   "metadata": {},
   "outputs": [],
   "source": [
    "test_sets = [\n",
    "    ListNode(\n",
    "        val=2,\n",
    "        next=ListNode(\n",
    "            val=1\n",
    "        )\n",
    "    )\n",
    "]\n",
    "expects = [\n",
    "    ListNode(val=2)\n",
    "]\n",
    "\n",
    "for i, test_set in enumerate(test_sets):\n",
    "    deleted = deleteMiddle(test_set)\n",
    "    assert expects[i].val == deleted.val\n",
    "    assert expects[i].next == deleted.next"
   ]
  },
  {
   "cell_type": "markdown",
   "id": "cdebae65-1335-475d-a7d3-923e6d73ae12",
   "metadata": {},
   "source": [
    "## 솔루션\n",
    "- 정답과 비슷한 형태"
   ]
  },
  {
   "cell_type": "code",
   "execution_count": null,
   "id": "cbad426d-ddd8-4d6c-abed-4a01f82d7486",
   "metadata": {},
   "outputs": [],
   "source": []
  }
 ],
 "metadata": {
  "kernelspec": {
   "display_name": "Python 3 (ipykernel)",
   "language": "python",
   "name": "python3"
  },
  "language_info": {
   "codemirror_mode": {
    "name": "ipython",
    "version": 3
   },
   "file_extension": ".py",
   "mimetype": "text/x-python",
   "name": "python",
   "nbconvert_exporter": "python",
   "pygments_lexer": "ipython3",
   "version": "3.10.9"
  }
 },
 "nbformat": 4,
 "nbformat_minor": 5
}

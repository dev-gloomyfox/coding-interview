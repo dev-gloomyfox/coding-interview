{
 "cells": [
  {
   "cell_type": "markdown",
   "id": "702c9796-e98c-4284-b458-dd5b41d1b94e",
   "metadata": {},
   "source": [
    "# Increasing Triplet Subsequence\n",
    "- 정수 배열 nums가 주어졌을 때, i < j < k, nums[i] < nums[j] < nums[k]와 같은 인덱스의 삼중 배열이 존재하면 참을 반환 그러한 인덱스가 존재하지 않으면 거짓을 반환\n",
    "- 1 <= nums.length <= 5 * 10^5\n",
    "- -2^31 <= nums[i] <= 2^31 - 1\n",
    "- O(n) 타임, O(1) 스페이스 구현이 가능한가?"
   ]
  },
  {
   "cell_type": "code",
   "execution_count": 11,
   "id": "02d7b902-8bea-45a3-988e-f888f01537e9",
   "metadata": {},
   "outputs": [],
   "source": [
    "def increasingTriplet(nums: list[int]) -> bool:\n",
    "    if len(nums) < 3:\n",
    "        return False\n",
    "    \n",
    "    for i in range(len(nums)):\n",
    "        first = nums[i]\n",
    "        for j in range(i, len(nums)):\n",
    "            second = nums[j]\n",
    "            for k in range(j, len(nums)):\n",
    "                third = nums[k]\n",
    "                if first < second < third:\n",
    "                    return True\n",
    "\n",
    "    return False"
   ]
  },
  {
   "cell_type": "code",
   "execution_count": 49,
   "id": "c221d872-2848-48cb-af51-37613d0b7c03",
   "metadata": {},
   "outputs": [],
   "source": [
    "test_sets = [[1, 2, 3, 4, 5], [5, 4, 3, 2, 1], [2, 1, 5, 0, 4, 6], [20, 100, 10, 12, 5, 13]]\n",
    "expects = [True, False, True, True]\n",
    "\n",
    "for i, test_set in enumerate(test_sets):\n",
    "    assert expects[i] == increasingTriplet(test_set)"
   ]
  },
  {
   "cell_type": "markdown",
   "id": "d81dae4a-c8c3-4346-be67-89ed685add2d",
   "metadata": {},
   "source": [
    "## 개선 1\n",
    "- 정답 제출 시 타임오버나는 코드, O(n^3) 코드여서 개선 필요"
   ]
  },
  {
   "cell_type": "code",
   "execution_count": 50,
   "id": "79fa3fe3-1936-431c-8bb4-c21edc7b1a0d",
   "metadata": {},
   "outputs": [],
   "source": [
    "def increasingTriplet_improve(nums: list[int]) -> bool:\n",
    "    if len(nums) < 3:\n",
    "        return False\n",
    "    \n",
    "    for i in range(len(nums)):\n",
    "        first = nums[i]\n",
    "        for j in range(i, len(nums)):\n",
    "            second = nums[j]\n",
    "            if first >= second:\n",
    "                continue\n",
    "            for k in range(j, len(nums)):\n",
    "                third = nums[k]\n",
    "                if first < second < third:\n",
    "                    return True\n",
    "\n",
    "    return False"
   ]
  },
  {
   "cell_type": "code",
   "execution_count": 51,
   "id": "468614fd-6499-4433-b3be-bbac3e31d1b1",
   "metadata": {},
   "outputs": [],
   "source": [
    "for i, test_set in enumerate(test_sets):\n",
    "    assert expects[i] == increasingTriplet_improve(test_set)"
   ]
  },
  {
   "cell_type": "markdown",
   "id": "3a93671b-e070-4278-8344-6f2d89fbf0de",
   "metadata": {},
   "source": [
    "## 개선 2\n",
    "- 위 코드로 일부 상황에 대해서는 나아졌지만, 여전히 O(n^3)\n",
    "- 배열 내에서 크게 2번이 증가하는지보면 되는 부분\n",
    "- 무한대로 first, second를 설정해놓고 배열 순회\n",
    "- 현재 원소가 second보다 크면 연속적으로 2번 증가했다고 볼 수 있기에 참을 반환\n",
    "- 현재 원소가 first보다 크고 second보다 작다면 1번 증가한 상황\n",
    "- 현재 원소가 first보다 작다면 아직 증가하지 못한 상황\n",
    "- second가 무한대가 배열의 원소 중 하나가 배정된 상태라면 배열 원소가 second보다 큰 상황은 2번 증가를 보장"
   ]
  },
  {
   "cell_type": "code",
   "execution_count": 56,
   "id": "9d9f8481-e498-4dd2-8538-ed3df7422465",
   "metadata": {},
   "outputs": [],
   "source": [
    "def increasingTriplet_improve_2(nums: list[int]) -> bool:\n",
    "    if len(nums) < 3:\n",
    "        return False\n",
    "    \n",
    "    first = float(\"inf\")\n",
    "    second = float(\"inf\")\n",
    "\n",
    "    for num in nums:\n",
    "        if num > second:\n",
    "            return True\n",
    "        elif num > first and num < second:\n",
    "            second = num\n",
    "        elif num < first:\n",
    "            first = num\n",
    "\n",
    "    return False"
   ]
  },
  {
   "cell_type": "code",
   "execution_count": 57,
   "id": "b97460a6-706b-4d8a-85d7-2a154e683bac",
   "metadata": {},
   "outputs": [],
   "source": [
    "for i, test_set in enumerate(test_sets):\n",
    "    assert expects[i] == increasingTriplet_improve_2(test_set)"
   ]
  },
  {
   "cell_type": "markdown",
   "id": "162ea12b-0d2b-46a4-a7c1-9052e84b76b2",
   "metadata": {},
   "source": [
    "## 솔루션\n",
    "- 개선 2와 같은 풀이"
   ]
  },
  {
   "cell_type": "code",
   "execution_count": null,
   "id": "8bc5dbdd-dcbf-4cc8-8f7d-501da7643a8a",
   "metadata": {},
   "outputs": [],
   "source": []
  }
 ],
 "metadata": {
  "kernelspec": {
   "display_name": "Python 3 (ipykernel)",
   "language": "python",
   "name": "python3"
  },
  "language_info": {
   "codemirror_mode": {
    "name": "ipython",
    "version": 3
   },
   "file_extension": ".py",
   "mimetype": "text/x-python",
   "name": "python",
   "nbconvert_exporter": "python",
   "pygments_lexer": "ipython3",
   "version": "3.10.9"
  }
 },
 "nbformat": 4,
 "nbformat_minor": 5
}

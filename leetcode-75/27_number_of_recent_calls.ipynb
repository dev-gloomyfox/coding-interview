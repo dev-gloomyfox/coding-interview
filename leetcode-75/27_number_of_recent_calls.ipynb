{
 "cells": [
  {
   "cell_type": "markdown",
   "id": "2e7e69e6-a2f4-4868-a29e-0ad2d5cd7306",
   "metadata": {},
   "source": [
    "# Number of Recent Calls\n",
    "- 특정 시간 프레임 내의 최근 요청 수를 계산하는 RecentCounter 클래스\n",
    "- RecentCounter 클래스를 구현:\n",
    "  - RecentCounter() 최근 요청이 0인 카운터를 초기화\n",
    "  - int ping(int t) 시간 t에 새 요청을 추가하고, 여기서 t는 밀리초 단위의 시간을 나타내며, 지난 3000밀리초 동안 발생한 요청 수(새 요청 포함)를 반환\n",
    "  - 구체적으로는 [t - 3000, t]를 포함하는 범위에서 발생한 요청 수를 반환\n",
    "  - 핑에 대한 모든 호출은 이전 호출보다 엄격하게 더 큰 값의 t를 사용하도록 보장\n",
    "- 1 <= t <= 10^9\n",
    "- 각 테스트 케이스는 엄격하게 증가하는 t 값으로 ping을 호출\n",
    "- At most 10^4 calls will be made to ping."
   ]
  },
  {
   "cell_type": "code",
   "execution_count": 2,
   "id": "b4f06b46-d59a-4c89-855f-a1bb9271ec1a",
   "metadata": {},
   "outputs": [],
   "source": [
    "class RecentCounter:\n",
    "\n",
    "    def __init__(self):\n",
    "        self.\bcalls = []\n",
    "\n",
    "    def ping(self, t: int) -> int:\n",
    "        self.calls.append(t)\n",
    "        size = 0\n",
    "        min = t - 3000\n",
    "        for i in reversed(range(len(self.calls))):\n",
    "            if min <= self.calls[i]:\n",
    "                size += 1\n",
    "            else:\n",
    "                return size\n",
    "        return size"
   ]
  },
  {
   "cell_type": "markdown",
   "id": "affe4a43-3835-4adc-8a59-620d339214e8",
   "metadata": {},
   "source": [
    "## 개선\n",
    "Queue를 이용해서 공간을 더 최적화할 수 있고, 실제 수행 시간 개선 가능"
   ]
  },
  {
   "cell_type": "code",
   "execution_count": 10,
   "id": "3f9a190d-7c74-4ef9-8f71-87886a54dc38",
   "metadata": {},
   "outputs": [],
   "source": [
    "from collections import deque\n",
    "\n",
    "\n",
    "class RecentCounter:\n",
    "\n",
    "    def __init__(self):\n",
    "        self.calls = deque()\n",
    "\n",
    "    def ping(self, t: int) -> int:\n",
    "        self.calls.append(t)\n",
    "        while self.calls[0] < t - 3000:\n",
    "            self.calls.popleft()\n",
    "        return len(self.calls)"
   ]
  },
  {
   "cell_type": "markdown",
   "id": "84fe2483-3114-4a83-835e-7eb1fd1a7f2f",
   "metadata": {},
   "source": [
    "## 솔루션\n",
    "- 개선 답과 동일"
   ]
  },
  {
   "cell_type": "code",
   "execution_count": null,
   "id": "fc860cf0-c446-4f20-9a73-4a371e52902a",
   "metadata": {},
   "outputs": [],
   "source": []
  }
 ],
 "metadata": {
  "kernelspec": {
   "display_name": "Python 3 (ipykernel)",
   "language": "python",
   "name": "python3"
  },
  "language_info": {
   "codemirror_mode": {
    "name": "ipython",
    "version": 3
   },
   "file_extension": ".py",
   "mimetype": "text/x-python",
   "name": "python",
   "nbconvert_exporter": "python",
   "pygments_lexer": "ipython3",
   "version": "3.10.9"
  }
 },
 "nbformat": 4,
 "nbformat_minor": 5
}

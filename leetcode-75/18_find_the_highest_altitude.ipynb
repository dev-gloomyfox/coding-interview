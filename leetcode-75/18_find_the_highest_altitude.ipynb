{
 "cells": [
  {
   "cell_type": "markdown",
   "id": "72dec077-35b9-4d4e-9eca-981c41e70582",
   "metadata": {},
   "source": [
    "# Find the Highest Altitude\n",
    "- 도로 여행은 서로 다른 고도에 있는 n + 1개의 점으로 구성, 자전거 운전자는 고도가 0인 점 0에서 여행 시작\n",
    "- 길이 n의 정수 배열 gain이 주어지고 gain[i]는 점 i와 i + 1 사이의 고도의 순 이득을 모두 합한 값\n",
    "- 한 점의 가장 높은 고도를 반환\n",
    "- n == gain.length\n",
    "- 1 <= n <= 100\n",
    "- -100 <= gain[i] <= 100"
   ]
  },
  {
   "cell_type": "code",
   "execution_count": 7,
   "id": "37ae2510-8bd2-4d2c-98be-26cf5fce5f2f",
   "metadata": {},
   "outputs": [],
   "source": [
    "def largestAltitude(gain: list[int]) -> int:\n",
    "    current = 0\n",
    "    answer = current\n",
    "    \n",
    "    for element in gain:\n",
    "        current += element\n",
    "        answer = max(current, answer)\n",
    "\n",
    "    return answer"
   ]
  },
  {
   "cell_type": "code",
   "execution_count": 8,
   "id": "e6ec396d-56e0-40a8-b8ee-67215b5fec78",
   "metadata": {},
   "outputs": [],
   "source": [
    "test_sets = [[-5,1,5,0,-7], [-4,-3,-2,-1,4,3,2]]\n",
    "expects = [1, 0]\n",
    "\n",
    "for i, test_set in enumerate(test_sets):\n",
    "    assert expects[i] == largestAltitude(test_set)"
   ]
  },
  {
   "cell_type": "markdown",
   "id": "e6d0103b-ffd8-4ef1-8b82-a4525034909d",
   "metadata": {},
   "source": [
    "## 솔루션\n",
    "- 정답과 동일"
   ]
  },
  {
   "cell_type": "code",
   "execution_count": null,
   "id": "2df2e101-bdde-44ba-9442-592782c0e1ce",
   "metadata": {},
   "outputs": [],
   "source": []
  }
 ],
 "metadata": {
  "kernelspec": {
   "display_name": "Python 3 (ipykernel)",
   "language": "python",
   "name": "python3"
  },
  "language_info": {
   "codemirror_mode": {
    "name": "ipython",
    "version": 3
   },
   "file_extension": ".py",
   "mimetype": "text/x-python",
   "name": "python",
   "nbconvert_exporter": "python",
   "pygments_lexer": "ipython3",
   "version": "3.10.9"
  }
 },
 "nbformat": 4,
 "nbformat_minor": 5
}

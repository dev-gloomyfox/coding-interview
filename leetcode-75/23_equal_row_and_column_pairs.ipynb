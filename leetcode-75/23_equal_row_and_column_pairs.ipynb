{
 "cells": [
  {
   "cell_type": "markdown",
   "id": "dd48f748-ee7b-4a9b-b94d-20fac0d74e3e",
   "metadata": {},
   "source": [
    "# Equal Row and Column Pairs\n",
    "- 인덱스가 0인 n x n 정수 행렬 grid가 주어졌을 때 행 ri와 열 cj가 같은 쌍의 수를 반환\n",
    "- 행과 열 쌍이 같은 순서로 같은 요소를 포함하는 경우(즉, 같은 배열) 같은 것으로 간주\n",
    "- n = grid.length == grid[i].length\n",
    "- 1 <= n <= 200\n",
    "- 1 <= grid[i][j] <= 10^5"
   ]
  },
  {
   "cell_type": "code",
   "execution_count": 50,
   "id": "7eb4a61d-409f-4fcd-b2fe-d70c50dcd5dc",
   "metadata": {},
   "outputs": [],
   "source": [
    "def equalPairs(grid: list[list[int]]) -> int:\n",
    "    columns = [[0] * len(grid) for _ in range(len(grid))]\n",
    "    \n",
    "    for i, row in enumerate(grid):\n",
    "        for j, element in enumerate(row):\n",
    "            columns[j][i] = element\n",
    "\n",
    "    count = 0\n",
    "    for row in grid:\n",
    "        for column in columns:\n",
    "            if row == column:\n",
    "                count += 1\n",
    "    \n",
    "    return count"
   ]
  },
  {
   "cell_type": "code",
   "execution_count": 51,
   "id": "40492952-2c90-446a-a732-a7f686114d50",
   "metadata": {},
   "outputs": [],
   "source": [
    "test_sets = [[[3,2,1],[1,7,6],[2,7,7]], [[3,1,2,2],[1,4,4,5],[2,4,2,2],[2,4,2,2]]]\n",
    "expects = [1, 3]\n",
    "\n",
    "for i, test_set in enumerate(test_sets):\n",
    "    assert expects[i] == equalPairs(test_set)"
   ]
  },
  {
   "cell_type": "markdown",
   "id": "97622004-1012-4747-b01b-b2a130221ac2",
   "metadata": {},
   "source": [
    "## 개선\n",
    "- 리스트의 값 비교는 n만큼의 시간을 필요로 하기에 문제\n",
    "- 행과 열의 요소들을 키로 등장 횟수를 값으로 하는 dict를 활용한다면 이 부분의 시간을 O(1)으로 줄일 수 있어 최적화 가능"
   ]
  },
  {
   "cell_type": "code",
   "execution_count": 58,
   "id": "ae1cbd2d-f5fe-4025-a068-529ab928f503",
   "metadata": {},
   "outputs": [],
   "source": [
    "def equalPairs_improve(grid: list[list[int]]) -> int:\n",
    "    columns = [[0] * len(grid) for _ in range(len(grid))]\n",
    "    \n",
    "    for i, row in enumerate(grid):\n",
    "        for j, element in enumerate(row):\n",
    "            columns[j][i] = element\n",
    "\n",
    "    row_counts = {}\n",
    "    for row in grid:\n",
    "        key = str(row)\n",
    "        row_counts[str(row)] = row_counts.setdefault(key, 0) + 1\n",
    "\n",
    "    col_counts = {}\n",
    "    for col in columns:\n",
    "        key = str(col)\n",
    "        col_counts[str(col)] = col_counts.setdefault(key, 0) + 1\n",
    "\n",
    "    count = 0\n",
    "    for k, v in row_counts.items():\n",
    "        count += v * col_counts.get(k, 0)\n",
    "\n",
    "    return count"
   ]
  },
  {
   "cell_type": "code",
   "execution_count": 59,
   "id": "f90804c4-8957-427d-a8ae-518a3b38953b",
   "metadata": {},
   "outputs": [],
   "source": [
    "test_sets = [[[3,2,1],[1,7,6],[2,7,7]], [[3,1,2,2],[1,4,4,5],[2,4,2,2],[2,4,2,2]]]\n",
    "expects = [1, 3]\n",
    "\n",
    "for i, test_set in enumerate(test_sets):\n",
    "    assert expects[i] == equalPairs_improve(test_set)"
   ]
  },
  {
   "cell_type": "code",
   "execution_count": null,
   "id": "37c2cd15-4ff8-44cb-9fa0-947e1d30d1f8",
   "metadata": {},
   "outputs": [],
   "source": []
  }
 ],
 "metadata": {
  "kernelspec": {
   "display_name": "Python 3 (ipykernel)",
   "language": "python",
   "name": "python3"
  },
  "language_info": {
   "codemirror_mode": {
    "name": "ipython",
    "version": 3
   },
   "file_extension": ".py",
   "mimetype": "text/x-python",
   "name": "python",
   "nbconvert_exporter": "python",
   "pygments_lexer": "ipython3",
   "version": "3.10.9"
  }
 },
 "nbformat": 4,
 "nbformat_minor": 5
}

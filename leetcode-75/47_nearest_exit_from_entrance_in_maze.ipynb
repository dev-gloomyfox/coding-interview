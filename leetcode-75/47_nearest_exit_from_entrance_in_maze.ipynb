{
 "cells": [
  {
   "cell_type": "markdown",
   "id": "b6ab423f-d248-4b80-bebd-eb5b560abcd8",
   "metadata": {},
   "source": [
    "# Nearest Exit from Entrance in Maze\n",
    "- 빈 칸('.'로 표시)과 벽('+'로 표시)이 있는 m x n 행렬 미로(0-indexed)가 주어짐\n",
    "- 미로의 입구가 주어지며, 입구 = [entrance row, entrance col]은 처음에 서 있는 셀의 행과 열을 표현\n",
    "- 한 단계에서 하나의 셀을 상하좌우로 이동 가능\n",
    "- 벽이 있는 셀로 들어갈 수 없으며, 미로 밖으로 나갈 수도 없음\n",
    "- 목표는 입구에서 가장 가까운 출구를 찾는 것, 출구는 미로의 경계에 있는 빈 칸으로 정의됩니다. 입구는 출구로 간주되지 않음\n",
    "- 입구에서 가장 가까운 출구까지 최단 경로의 걸음 수를 반환하거나, 경로가 존재하지 않으면 -1을 반환\n",
    "- maze.length == m\n",
    "- maze[i].length == n\n",
    "- 1 <= m, n <= 100\n",
    "- maze[i][j] is either '.' or '+'.\n",
    "- entrance.length == 2\n",
    "- 0 <= entrancerow < m\n",
    "- 0 <= entrancecol < n\n",
    "- entrance will always be an empty cell."
   ]
  },
  {
   "cell_type": "code",
   "execution_count": 48,
   "id": "4f07c726-c964-486e-b4e8-7d834c5c882c",
   "metadata": {},
   "outputs": [],
   "source": [
    "def nearestExit(maze: list[list[str]], entrance: list[int]) -> int:\n",
    "    path = 0\n",
    "\n",
    "    is_visits = []\n",
    "    queue = [entrance]\n",
    "    \n",
    "    while(queue):\n",
    "        path += 1\n",
    "        \n",
    "        for i in range(len(queue)):\n",
    "            x, y = queue.pop(0)\n",
    "            is_visits.append([x, y])\n",
    "\n",
    "            if x != 0:\n",
    "                up = [x - 1, y]\n",
    "                if up not in is_visits and maze[up[0]][up[1]] == \".\":\n",
    "                    if up[0] == 0 or up[0] == len(maze) - 1 or up[1] == 0 or up[1] == len(maze[0]) - 1:\n",
    "                        return path\n",
    "                    queue.append(up)\n",
    "            if x != len(maze) - 1:\n",
    "                down = [x + 1, y]\n",
    "                if down not in is_visits and maze[down[0]][down[1]] == \".\":\n",
    "                    if down[0] == 0 or down[0] == len(maze) - 1 or down[1] == 0 or down[1] == len(maze[0]) - 1:\n",
    "                        return path\n",
    "                    queue.append(down)\n",
    "            if y != 0:\n",
    "                left = [x, y - 1]\n",
    "                if left not in is_visits and maze[left[0]][left[1]] == \".\":\n",
    "                    if left[0] == 0 or left[0] == len(maze) - 1 or left[1] == 0 or left[1] == len(maze[0]) - 1:\n",
    "                        return path\n",
    "                    queue.append(left)\n",
    "            if y != len(maze[0]) - 1:\n",
    "                right = [x, y + 1]\n",
    "                if right not in is_visits and maze[right[0]][right[1]] == \".\":\n",
    "                    if right[0] == 0 or right[0] == len(maze) - 1 or right[1] == 0 or right[1] == len(maze[0]) - 1:\n",
    "                        return path\n",
    "                    queue.append(right)\n",
    "    return -1"
   ]
  },
  {
   "cell_type": "code",
   "execution_count": 49,
   "id": "8ba58b3a-7612-4392-8f8a-3ef29374f7c5",
   "metadata": {},
   "outputs": [],
   "source": [
    "test_sets = [\n",
    "    ([[\"+\",\"+\",\"+\"],[\".\",\".\",\".\"],[\"+\",\"+\",\"+\"]], [1,0]),\n",
    "    (\n",
    "        [\n",
    "            [\"+\",\".\",\"+\",\"+\",\"+\",\"+\",\"+\"],\n",
    "            [\"+\",\".\",\"+\",\".\",\".\",\".\",\"+\"],\n",
    "            [\"+\",\".\",\"+\",\".\",\"+\",\".\",\"+\"],\n",
    "            [\"+\",\".\",\".\",\".\",\"+\",\".\",\"+\"],\n",
    "            [\"+\",\"+\",\"+\",\"+\",\"+\",\".\",\"+\"]\n",
    "        ],\n",
    "        [0, 1]\n",
    "    )\n",
    "]\n",
    "expects = [2, 12]\n",
    "\n",
    "for i, (maze, entrance) in enumerate(test_sets):\n",
    "    assert expects[i] == nearestExit(maze, entrance)"
   ]
  },
  {
   "cell_type": "markdown",
   "id": "a8564835-3bbf-42d2-b4e1-41782da0e942",
   "metadata": {},
   "source": [
    "## 개선\n",
    "- 답은 맞췄으나, Time Limit Exceeded 발\u001c",
    "생\n",
    "- 속도 개선할 수 있는 방법 탐색 필요\n",
    "- big O 시간은 변화가 없으나 비교 횟수를 줄일 수는 있음"
   ]
  },
  {
   "cell_type": "code",
   "execution_count": 50,
   "id": "74086b46-faa2-4e9f-bee4-f6b352515519",
   "metadata": {},
   "outputs": [],
   "source": [
    "def nearestExit_improve(maze: list[list[str]], entrance: list[int]) -> int:\n",
    "    m, n = len(maze), len(maze[0])\n",
    "    directions = [[-1, 0], [1, 0], [0, -1], [0, 1]]\n",
    "    path = 0\n",
    "    queue = [entrance]\n",
    "    \n",
    "    while(queue):\n",
    "        for i in range(len(queue)):\n",
    "            x, y = queue.pop(0)\n",
    "\n",
    "            if (x == 0 or x == m - 1 or y == 0 or y == n - 1) and [x, y] != entrance:\n",
    "                return path\n",
    "            \n",
    "            maze[x][y] = \"+\"\n",
    "\n",
    "            for i in range(4):\n",
    "                dx, dy = directions[i]\n",
    "                cx, cy = x - dx, y - dy\n",
    "                if 0 <= cx < m and 0 <= cy < n and maze[cx][cy] == \".\":\n",
    "                    maze[cx][cy] = \"+\"\n",
    "                    queue.append([cx, cy])    \n",
    "        path += 1\n",
    "        \n",
    "    return -1"
   ]
  },
  {
   "cell_type": "code",
   "execution_count": 51,
   "id": "324fbc4b-5fb6-4fba-95ec-296a806bf948",
   "metadata": {},
   "outputs": [],
   "source": [
    "test_sets = [\n",
    "    ([[\"+\",\"+\",\"+\"],[\".\",\".\",\".\"],[\"+\",\"+\",\"+\"]], [1,0]),\n",
    "    (\n",
    "        [\n",
    "            [\"+\",\".\",\"+\",\"+\",\"+\",\"+\",\"+\"],\n",
    "            [\"+\",\".\",\"+\",\".\",\".\",\".\",\"+\"],\n",
    "            [\"+\",\".\",\"+\",\".\",\"+\",\".\",\"+\"],\n",
    "            [\"+\",\".\",\".\",\".\",\"+\",\".\",\"+\"],\n",
    "            [\"+\",\"+\",\"+\",\"+\",\"+\",\".\",\"+\"]\n",
    "        ],\n",
    "        [0, 1]\n",
    "    )\n",
    "]\n",
    "expects = [2, 12]\n",
    "\n",
    "for i, (maze, entrance) in enumerate(test_sets):\n",
    "    assert expects[i] == nearestExit_improve(maze, entrance)"
   ]
  },
  {
   "cell_type": "markdown",
   "id": "ee2a0765-2725-452f-ae3f-461806b06c27",
   "metadata": {},
   "source": [
    "## 솔루션\n",
    "- 개선 답과 동일"
   ]
  },
  {
   "cell_type": "code",
   "execution_count": null,
   "id": "bc0df030-0d55-4cd6-b714-0350a4852ee1",
   "metadata": {},
   "outputs": [],
   "source": []
  }
 ],
 "metadata": {
  "kernelspec": {
   "display_name": "Python 3 (ipykernel)",
   "language": "python",
   "name": "python3"
  },
  "language_info": {
   "codemirror_mode": {
    "name": "ipython",
    "version": 3
   },
   "file_extension": ".py",
   "mimetype": "text/x-python",
   "name": "python",
   "nbconvert_exporter": "python",
   "pygments_lexer": "ipython3",
   "version": "3.10.9"
  }
 },
 "nbformat": 4,
 "nbformat_minor": 5
}

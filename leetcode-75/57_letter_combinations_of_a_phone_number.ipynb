{
 "cells": [
  {
   "cell_type": "markdown",
   "id": "fa078c09-1248-4bd6-a862-2d3b4816db45",
   "metadata": {},
   "source": [
    "# Letter Combinations of a Phone Number\n",
    "- 2부터 9까지의 숫자가 포함된 문자열이 주어지면, 그 숫자가 나타낼 수 있는 모든 가능한 문자 조합을 반환\n",
    "- 순서 관계 없이 답을 반환\n",
    "- 전화 버튼과 마찬가지로 숫자와 문자의 매핑은 아래와 같음\n",
    "`1: {}, 2: {a, b, c} 3: {d, e, f}, 4: {g, h, i}, 5: {j, k, l}, 6: {m, n, o}, 7: {p, q, r, s}, 8: {t, u, v}, 9: {w, x, y, z}`\n",
    "- 0 <= digits.length <= 4\n",
    "- digits[i] range ['2', '9']."
   ]
  },
  {
   "cell_type": "code",
   "execution_count": 20,
   "id": "8ffe34a5-dafb-4944-991a-59ba0690fd12",
   "metadata": {},
   "outputs": [],
   "source": [
    "def letterCombinations(digits: str) -> list[str]:\n",
    "    mapper = {\n",
    "        \"2\": [\"a\", \"b\", \"c\"],\n",
    "        \"3\": [\"d\", \"e\", \"f\"],\n",
    "        \"4\": [\"g\", \"h\", \"i\"],\n",
    "        \"5\": [\"j\", \"k\", \"l\"],\n",
    "        \"6\": [\"m\", \"n\", \"o\"],\n",
    "        \"7\": [\"p\", \"q\", \"r\", \"s\"],\n",
    "        \"8\": [\"t\", \"u\", \"v\"],\n",
    "        \"9\": [\"w\", \"x\", \"y\", \"z\"]\n",
    "    }\n",
    "    length = len(digits)\n",
    "    answer = []\n",
    "    def dfs(element: str, i: int):\n",
    "        if i >= length:\n",
    "            if element:\n",
    "                answer.append(element)\n",
    "            return\n",
    "\n",
    "        for character in mapper[digits[i]]:\n",
    "            dfs(element + character, i + 1)\n",
    "    \n",
    "    dfs(\"\", 0)\n",
    "    \n",
    "    return answer"
   ]
  },
  {
   "cell_type": "code",
   "execution_count": 22,
   "id": "d1fad0d9-dd1e-400e-b7a7-e95e3c88854f",
   "metadata": {},
   "outputs": [],
   "source": [
    "test_sets = [\"23\", \"\", \"2\"]\n",
    "expects = [\n",
    "    [\"ad\",\"ae\",\"af\",\"bd\",\"be\",\"bf\",\"cd\",\"ce\",\"cf\"],\n",
    "    [],\n",
    "    [\"a\",\"b\",\"c\"]\n",
    "]\n",
    "\n",
    "for i, test_set in enumerate(test_sets):\n",
    "    assert expects[i] == letterCombinations(test_set)"
   ]
  },
  {
   "cell_type": "markdown",
   "id": "53f4c8ae-37b9-47e3-af40-27f34fd6dcde",
   "metadata": {},
   "source": [
    "## 솔루션\n",
    "- 정답과 동일"
   ]
  },
  {
   "cell_type": "code",
   "execution_count": null,
   "id": "a7a51419-a81d-4dc6-bfb5-8c623404f01a",
   "metadata": {},
   "outputs": [],
   "source": []
  }
 ],
 "metadata": {
  "kernelspec": {
   "display_name": "Python 3 (ipykernel)",
   "language": "python",
   "name": "python3"
  },
  "language_info": {
   "codemirror_mode": {
    "name": "ipython",
    "version": 3
   },
   "file_extension": ".py",
   "mimetype": "text/x-python",
   "name": "python",
   "nbconvert_exporter": "python",
   "pygments_lexer": "ipython3",
   "version": "3.10.9"
  }
 },
 "nbformat": 4,
 "nbformat_minor": 5
}

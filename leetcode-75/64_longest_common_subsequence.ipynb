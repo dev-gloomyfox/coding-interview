{
 "cells": [
  {
   "cell_type": "markdown",
   "id": "7aa6942f-bdbe-4b60-bb12-efb231555acd",
   "metadata": {},
   "source": [
    "# Longest Common Subsequence\n",
    "- text1과 text2라는 두 문자열이 주어졌을 때, 두 문자열의 가장 긴 공통 수열의 길이를 반환, 공통 수열이 없으면 0을 반환\n",
    "- 문자열의 시퀀스는 원래 문자열에서 나머지 문자의 상대적 순서를 변경하지 않고 일부 문자(없을 수도 있음)를 삭제하여 생성된 새 문자열\n",
    "- 예를 들어, \"ace\"는 \"abcde\"의 시퀀스\n",
    "- 두 문자열의 공통 시퀀스는 두 문자열에 공통되는 시퀀스\n",
    "- 1 <= text1.length, text2.length <= 1000\n",
    "- text1, text2는 영문 소문자"
   ]
  },
  {
   "cell_type": "code",
   "execution_count": 113,
   "id": "60729080-ee7c-46d4-a8e6-11c5b5045c4f",
   "metadata": {},
   "outputs": [],
   "source": [
    "def longestCommonSubsequence(text1: str, text2: str) -> int:\n",
    "    dp = [[0] * (len(text2) + 1) for _ in range(len(text1) + 1)]\n",
    "    for i in range(1, len(text1) + 1):\n",
    "        for j in range(1, len(text2) + 1):\n",
    "            if text1[i - 1] == text2[j - 1]:\n",
    "                dp[i][j] = dp[i - 1][j - 1] + 1\n",
    "            else:\n",
    "                dp[i][j] = max(dp[i - 1][j], dp[i][j - 1])\n",
    "    return dp[-1][-1]"
   ]
  },
  {
   "cell_type": "code",
   "execution_count": 114,
   "id": "50804e98-325e-4a0b-88a5-c183d60fa895",
   "metadata": {},
   "outputs": [],
   "source": [
    "test_sets = [(\"abcde\", \"ace\"), (\"abc\", \"abc\"), (\"abc\", \"def\"), (\"bl\", \"yby\"), (\"abb\", \"b\"), (\"oxcpqrsvwf\", \"shmtulqrypy\"), (\"pmjghexybyrgzczy\", \"hafcdqbgncrcbihkd\")]\n",
    "expects = [3, 3, 0, 1, 1, 2, 4]\n",
    "\n",
    "for i, (text1, text2) in enumerate(test_sets):\n",
    "    assert expects[i] == longestCommonSubsequence(text1, text2)"
   ]
  },
  {
   "cell_type": "markdown",
   "id": "a73503d9-fed9-4ad0-9342-6ef78a7e7167",
   "metadata": {},
   "source": [
    "## 솔루션\n",
    "- 정답과 동일"
   ]
  },
  {
   "cell_type": "code",
   "execution_count": null,
   "id": "cd1bc03d-dc0a-41bd-b553-a19b53383ede",
   "metadata": {},
   "outputs": [],
   "source": []
  }
 ],
 "metadata": {
  "kernelspec": {
   "display_name": "Python 3 (ipykernel)",
   "language": "python",
   "name": "python3"
  },
  "language_info": {
   "codemirror_mode": {
    "name": "ipython",
    "version": 3
   },
   "file_extension": ".py",
   "mimetype": "text/x-python",
   "name": "python",
   "nbconvert_exporter": "python",
   "pygments_lexer": "ipython3",
   "version": "3.10.9"
  }
 },
 "nbformat": 4,
 "nbformat_minor": 5
}

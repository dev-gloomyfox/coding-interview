{
 "cells": [
  {
   "cell_type": "markdown",
   "id": "c08bb585-f656-4cd5-b29d-d28fe8a31f21",
   "metadata": {},
   "source": [
    "# Determine if Two Strings Are Close\n",
    "- 두 문자열은 다음 연산을 이용해 다른 문자열에서 하나를 얻을 수 있는 경우 가까운 것으로 간주\n",
    "- 연산 1: 기존 문자 두개를 변환\n",
    "- 연산 2: 한 기존 문자의 모든 항목을 다른 기존 문자로 변환하고 다른 문자에 대해서도 동일한 작업을 수행\n",
    "- 두 문자열에 대해 필요한 만큼 연산 사용 가능\n",
    "- 두 개의 문자열이 주어지고 두 문자열이 가까우면 참을 반환, 그렇지 않으면 거짓을 반환\n",
    "- 1 <= word1.length, word2.length <= 10^5\n",
    "- word1, word2는 영어 소문자만을 가짐"
   ]
  },
  {
   "cell_type": "code",
   "execution_count": 19,
   "id": "3b7b8e2b-35f8-437a-8317-76a367bbfe58",
   "metadata": {},
   "outputs": [],
   "source": [
    "def closeStrings(word1: str, word2: str) -> bool:\n",
    "    word1_occurs = {}\n",
    "    word2_occurs = {}\n",
    "\n",
    "    for element in word1:\n",
    "        word1_occurs[element] = word1_occurs.setdefault(element, 0) + 1\n",
    "    for element in word2:\n",
    "        word2_occurs[element] = word2_occurs.setdefault(element, 0) + 1\n",
    "\n",
    "    word1_counts = {}\n",
    "    word2_counts = {}\n",
    "    \n",
    "    for v in word1_occurs.values():\n",
    "        word1_counts[v] = word1_counts.setdefault(v, 0) + 1\n",
    "\n",
    "    for v in word2_occurs.values():\n",
    "        word2_counts[v] = word2_counts.setdefault(v, 0) + 1\n",
    "    \n",
    "    if set(word1_occurs.keys()) == set(word2_occurs.keys()) and word1_counts == word2_counts:\n",
    "        return True\n",
    "\n",
    "    return False"
   ]
  },
  {
   "cell_type": "code",
   "execution_count": 20,
   "id": "fcc3047c-5d8e-4049-8f92-3a777b95ef4e",
   "metadata": {},
   "outputs": [],
   "source": [
    "test_sets = [(\"abc\", \"bca\"), (\"a\", \"aa\"), (\"cabbba\", \"abbccc\"), (\"aaabbbbccddeeeeefffff\", \"aaaaabbcccdddeeeeffff\")]\n",
    "expects = [True, False, True, False]\n",
    "\n",
    "for i, (word1, word2) in enumerate(test_sets):\n",
    "    assert expects[i] == closeStrings(word1, word2)"
   ]
  },
  {
   "cell_type": "markdown",
   "id": "74ef7fbf-d0bd-4141-b47b-ee739ac8347d",
   "metadata": {},
   "source": [
    "## 솔루션\n",
    "- 정답과 동일"
   ]
  }
 ],
 "metadata": {
  "kernelspec": {
   "display_name": "Python 3 (ipykernel)",
   "language": "python",
   "name": "python3"
  },
  "language_info": {
   "codemirror_mode": {
    "name": "ipython",
    "version": 3
   },
   "file_extension": ".py",
   "mimetype": "text/x-python",
   "name": "python",
   "nbconvert_exporter": "python",
   "pygments_lexer": "ipython3",
   "version": "3.10.9"
  }
 },
 "nbformat": 4,
 "nbformat_minor": 5
}

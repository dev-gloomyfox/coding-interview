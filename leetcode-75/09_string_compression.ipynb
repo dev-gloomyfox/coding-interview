{
 "cells": [
  {
   "cell_type": "markdown",
   "id": "d23b59fc-e4ac-49e1-b692-593abcdd7d3d",
   "metadata": {},
   "source": [
    "# String Compression\n",
    "- 빈 문자열 s로 시작해서 연속적으로 반복되는 각 문자 그룹에 대해 문자 배열을 압축\n",
    "- 그룹의 길이가 1이면 해당 문자를 s에 추가, 그렇지 않으면 문자 뒤에 그룹의 길이를 추가\n",
    "- 압축 문자열 s는 별도로 반환하지 않음\n",
    "- 입력 배열 수정을 완료한 후 배열의 새 길이를 반환, 입력 배열은 배열 내에서 조정\n",
    "- 상수 공간만을 사용해야 함\n",
    "- 1 <= chars.length <= 2000\n",
    "- chars[i]는 영어 대소문자, 숫자, 기호"
   ]
  },
  {
   "cell_type": "code",
   "execution_count": 51,
   "id": "f9977af5-dad5-46de-9a1f-07db1171c7f6",
   "metadata": {},
   "outputs": [],
   "source": [
    "def compress(chars: list[str]) -> int:\n",
    "    current = chars[0]\n",
    "    count = 1\n",
    "    sum = 0\n",
    "    start = 0\n",
    "    for i in range(1, len(chars)):\n",
    "        if chars[i] == current:\n",
    "            count += 1\n",
    "        else:\n",
    "            compressed = current + (str(count) if count > 1 else \"\")\n",
    "            start = sum\n",
    "            end = start+len(compressed)\n",
    "            chars[start:end] = compressed\n",
    "            sum += len(compressed)\n",
    "            current = chars[i]\n",
    "            count = 1\n",
    "\n",
    "    compressed = current + (str(count) if count > 1 else \"\")\n",
    "    start = sum\n",
    "    end = start+len(compressed)\n",
    "    chars[start:end] = compressed\n",
    "    sum += len(compressed)\n",
    "\n",
    "    for i in range(sum, len(chars)):\n",
    "        chars.pop()\n",
    "    \n",
    "    return sum"
   ]
  },
  {
   "cell_type": "code",
   "execution_count": 57,
   "id": "81f9b985-2bc8-44d6-a632-8f2c61453ece",
   "metadata": {},
   "outputs": [],
   "source": [
    "test_sets = [[\"a\",\"a\",\"b\",\"b\",\"c\",\"c\",\"c\"], [\"a\"], [\"a\",\"b\",\"b\",\"b\",\"b\",\"b\",\"b\",\"b\",\"b\",\"b\",\"b\",\"b\",\"b\"], [\"a\",\"b\",\"b\",\"b\",\"b\",\"b\",\"b\",\"b\",\"b\",\"b\",\"b\",\"b\",\"b\", \"c\", \"c\"]]\n",
    "expects = [(6, [\"a\", \"2\", \"b\", \"2\", \"c\", \"3\"]), (1, [\"a\"]), (4, [\"a\", \"b\", \"1\", \"2\"]), (6, [\"a\", \"b\", \"1\", \"2\", \"c\", \"2\"])]\n",
    "\n",
    "for i, test_set in enumerate(test_sets):\n",
    "    assert expects[i][0] == compress(test_set)\n",
    "    assert expects[i][1] == test_set"
   ]
  },
  {
   "cell_type": "markdown",
   "id": "ef631fb7-408b-4690-82fd-2f093d463177",
   "metadata": {},
   "source": [
    "## 개선\n",
    "- 코드를 좀 더 간략하게 개선"
   ]
  },
  {
   "cell_type": "code",
   "execution_count": 70,
   "id": "dd4a468c-e908-420b-b390-4ac219381388",
   "metadata": {},
   "outputs": [],
   "source": [
    "def compress_improve(chars: list[str]) -> int:\n",
    "    def compress_each(cs: list[str], w: str, cnt: int, s: int) -> int:\n",
    "        compressed = w + (str(cnt) if cnt > 1 else \"\")\n",
    "        cs[s:s+len(compressed)] = compressed\n",
    "        return s + len(compressed)\n",
    "    \n",
    "    current = chars[0]\n",
    "    count = 1\n",
    "    sum = 0\n",
    "    \n",
    "    for i in range(1, len(chars)):\n",
    "        if chars[i] == current:\n",
    "            count += 1\n",
    "        else:\n",
    "            sum = compress_each(chars, current, count, sum)\n",
    "            current = chars[i]\n",
    "            count = 1\n",
    "\n",
    "    sum = compress_each(chars, current, count, sum)\n",
    "\n",
    "    return sum"
   ]
  },
  {
   "cell_type": "code",
   "execution_count": 73,
   "id": "8d67d4cb-76bf-4973-8c34-f89a259b6bb9",
   "metadata": {},
   "outputs": [],
   "source": [
    "test_sets = [[\"a\",\"a\",\"b\",\"b\",\"c\",\"c\",\"c\"], [\"a\"], [\"a\",\"b\",\"b\",\"b\",\"b\",\"b\",\"b\",\"b\",\"b\",\"b\",\"b\",\"b\",\"b\"], [\"a\",\"b\",\"b\",\"b\",\"b\",\"b\",\"b\",\"b\",\"b\",\"b\",\"b\",\"b\",\"b\", \"c\", \"c\"]]\n",
    "expects = [(6, [\"a\", \"2\", \"b\", \"2\", \"c\", \"3\"]), (1, [\"a\"]), (4, [\"a\", \"b\", \"1\", \"2\"]), (6, [\"a\", \"b\", \"1\", \"2\", \"c\", \"2\"])]\n",
    "\n",
    "for i, test_set in enumerate(test_sets):\n",
    "    length = compress_improve(test_set)\n",
    "    assert expects[i][0] == length\n",
    "    assert expects[i][1] == test_set[:length]"
   ]
  },
  {
   "cell_type": "markdown",
   "id": "6c9d9544-2b7e-409f-a6f7-6a50ea8a36b5",
   "metadata": {},
   "source": [
    "## 솔루션\n",
    "- for문과 while문 정도의 차이가 존재하고 전반적으로 비슷한 코드\n",
    "```\n",
    "class Solution:\n",
    "    def compress(self, chars: List[str]) -> int:\n",
    "        i = 0\n",
    "        res = 0\n",
    "        while i < len(chars):\n",
    "            group_length = 1\n",
    "            while (i + group_length < len(chars)\n",
    "                   and chars[i + group_length] == chars[i]):\n",
    "                group_length += 1\n",
    "            chars[res] = chars[i]\n",
    "            res += 1\n",
    "            if group_length > 1:\n",
    "                str_repr = str(group_length)\n",
    "                chars[res:res+len(str_repr)] = list(str_repr)\n",
    "                res += len(str_repr)\n",
    "            i += group_length\n",
    "        return res\n",
    "```"
   ]
  }
 ],
 "metadata": {
  "kernelspec": {
   "display_name": "Python 3 (ipykernel)",
   "language": "python",
   "name": "python3"
  },
  "language_info": {
   "codemirror_mode": {
    "name": "ipython",
    "version": 3
   },
   "file_extension": ".py",
   "mimetype": "text/x-python",
   "name": "python",
   "nbconvert_exporter": "python",
   "pygments_lexer": "ipython3",
   "version": "3.10.9"
  }
 },
 "nbformat": 4,
 "nbformat_minor": 5
}

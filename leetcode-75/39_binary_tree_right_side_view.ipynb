{
 "cells": [
  {
   "cell_type": "markdown",
   "id": "3a0a0cf1-c820-4154-aad5-c10e6372385d",
   "metadata": {},
   "source": [
    "# Binary Tree Right Side View\n",
    "- 이진 트리의 루트가 주어졌을 때, 자신이 그 오른쪽에 서 있다고 상상하고 위에서 아래로 순서대로 보이는 노드의 값을 반환\n",
    "- 노드의 수의 범위는 0 ~ 10\n",
    "- 100 <= Node.val <= 100"
   ]
  },
  {
   "cell_type": "code",
   "execution_count": 15,
   "id": "fc79846e-a0f5-4f30-9634-8e7b3c088405",
   "metadata": {},
   "outputs": [],
   "source": [
    "from typing import Optional\n",
    "\n",
    "class TreeNode:\n",
    "    def __init__(self, val=0, left=None, right=None):\n",
    "        self.val = val\n",
    "        self.left = left\n",
    "        self.right = right\n",
    "\n",
    "\n",
    "def rightSideView(root: Optional[TreeNode]) -> list[int]:\n",
    "    if root is None:\n",
    "        return []\n",
    "\n",
    "    queue = []\n",
    "    queue.append(root)\n",
    "\n",
    "    view = []\n",
    "\n",
    "    while(queue):\n",
    "        view.append(queue[-1].val)\n",
    "\n",
    "        for _ in range(len(queue)):            \n",
    "            node = queue.pop(0)\n",
    "            if node.left is not None:\n",
    "                queue.append(node.left)\n",
    "            if node.right is not None:\n",
    "                queue.append(node.right)\n",
    "\n",
    "    return view"
   ]
  },
  {
   "cell_type": "code",
   "execution_count": 18,
   "id": "f00105de-e250-4f2d-83f4-16a093346495",
   "metadata": {},
   "outputs": [],
   "source": [
    "test_sets = [\n",
    "    TreeNode(\n",
    "        val=1,\n",
    "        left=TreeNode(\n",
    "            val=2,\n",
    "            right=TreeNode(\n",
    "                val=5\n",
    "            )\n",
    "        ),\n",
    "        right=TreeNode(\n",
    "            val=3,\n",
    "            right=TreeNode(\n",
    "                val=4\n",
    "            )\n",
    "        )\n",
    "    ),\n",
    "    TreeNode(\n",
    "        val=1,\n",
    "        right=TreeNode(\n",
    "            val=3\n",
    "        )\n",
    "    ),\n",
    "    None\n",
    "]\n",
    "expects = [[1, 3, 4], [1, 3], []]\n",
    "\n",
    "for i, test_set in enumerate(test_sets):\n",
    "    assert expects[i] == rightSideView(test_set)"
   ]
  },
  {
   "cell_type": "markdown",
   "id": "17a6a5a1-6265-4419-9109-260940c2fe69",
   "metadata": {},
   "source": [
    "## 솔루션\n",
    "- 정답과 동일"
   ]
  },
  {
   "cell_type": "code",
   "execution_count": null,
   "id": "90a8bb26-b732-422b-8f43-dcd56f056971",
   "metadata": {},
   "outputs": [],
   "source": []
  }
 ],
 "metadata": {
  "kernelspec": {
   "display_name": "Python 3 (ipykernel)",
   "language": "python",
   "name": "python3"
  },
  "language_info": {
   "codemirror_mode": {
    "name": "ipython",
    "version": 3
   },
   "file_extension": ".py",
   "mimetype": "text/x-python",
   "name": "python",
   "nbconvert_exporter": "python",
   "pygments_lexer": "ipython3",
   "version": "3.10.9"
  }
 },
 "nbformat": 4,
 "nbformat_minor": 5
}

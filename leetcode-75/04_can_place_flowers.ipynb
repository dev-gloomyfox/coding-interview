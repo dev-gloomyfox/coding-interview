{
 "cells": [
  {
   "cell_type": "markdown",
   "metadata": {
    "collapsed": true,
    "jupyter": {
     "outputs_hidden": true
    }
   },
   "source": [
    "# Can Place Flowers\n",
    "- 일부분엔 꽃이 심어져있고, 아닌 부분이 있는 화단이 있음\n",
    "- 인접한 부분엔 꽃을 심을 수 없음\n",
    "- 0과 1이 포함된 정수 배열 화단이 주어질 대, 0은 비어있고 1은 비어있지 않음을 의미\n",
    "- 정수 n이 주어질 때, 규칙을 위반하지 않고 화단에 새로운 꽃을 심을 수 있으면 참을 반환, 그렇지 않으면 거짓을 반환\n",
    "- 1 <= flowerbed.length <= 2*10^4\n",
    "- flowerbed[i]는 0 또는 1\n",
    "- flowerbed 내부에는 인접한 꽃이 없음\n",
    "- 0 <= n <= flowerbed.length"
   ]
  },
  {
   "cell_type": "code",
   "execution_count": 40,
   "metadata": {},
   "outputs": [],
   "source": [
    "# 한 번만 돌면서 꽃을 심을 수 있는 횟수를 셈, 특정 부분에 심어져있다면 그 다음 것은 기존 것에 영향을 받음\n",
    "\n",
    "def canPlaceFlowers(flowerbed: list[int], n: int) -> bool:\n",
    "    count = 0\n",
    "    for i, flower in enumerate(flowerbed):\n",
    "        if flower == 0:\n",
    "            if i == 0 and i != len(flowerbed) - 1 and flowerbed[i + 1] != 1:\n",
    "                count = count + 1\n",
    "                flowerbed[i] = 1\n",
    "            elif i == len(flowerbed) - 1 and i != 0 and flowerbed[i - 1] != 1:\n",
    "                count = count + 1\n",
    "                flowerbed[i] = 1\n",
    "            elif i != len(flowerbed) - 1 and i != 0 and flowerbed[i - 1] != 1 and flowerbed[i + 1] != 1:\n",
    "                count = count + 1\n",
    "                flowerbed[i] = 1\n",
    "            elif i == len(flowerbed) - 1 and i == 0:\n",
    "                count = count + 1\n",
    "                flowerbed[i] = 1\n",
    "    return n <= count"
   ]
  },
  {
   "cell_type": "code",
   "execution_count": 41,
   "metadata": {},
   "outputs": [],
   "source": [
    "test_tuples = [([1, 0, 0, 0, 1], 1), ([1, 0, 0, 0, 1], 2), ([1, 0, 0, 0, 0, 0, 1], 2), ([0], 1)]\n",
    "answers = [True, False, True, True]\n",
    "\n",
    "for i, (flowerbed, n) in enumerate(test_tuples):\n",
    "    assert answers[i] == canPlaceFlowers(flowerbed, n)"
   ]
  },
  {
   "cell_type": "markdown",
   "metadata": {},
   "source": [
    "## 개선\n",
    "- 인덱스에 따른 중첩 if 동작이 너무 많아 코드가 간결하지 않음\n",
    "- 반복 횟수를 더 줄일 수는 없을까?\n",
    "  - 메모리를 사용? 심어나감에 따라 그 값이 달라지므로 문제가 있지 않을까?\n",
    "  - 중간에 횟수를 만족하면 탈출이 가능해서 속도를 향상시킬 수는 있을텐데 big - O 개선은 없음"
   ]
  },
  {
   "cell_type": "code",
   "execution_count": 53,
   "metadata": {},
   "outputs": [],
   "source": [
    "def canPlaceFlowers_improvement(flowerbed: list[int], n: int) -> bool:\n",
    "    count = 0\n",
    "\n",
    "    for i, flower in enumerate(flowerbed):\n",
    "        prev_availability = True if i == 0 else flowerbed[i - 1] != 1\n",
    "        after_availability = True if i == len(flowerbed) - 1 else flowerbed[i + 1] != 1\n",
    "\n",
    "        if flower == 0 and prev_availability and after_availability:\n",
    "            count += 1\n",
    "            flowerbed[i] = 1\n",
    "\n",
    "        if count >= n:\n",
    "            return True\n",
    "    \n",
    "    return n <= count"
   ]
  },
  {
   "cell_type": "code",
   "execution_count": 54,
   "metadata": {},
   "outputs": [],
   "source": [
    "test_tuples = [([1, 0, 0, 0, 1], 1), ([1, 0, 0, 0, 1], 2), ([1, 0, 0, 0, 0, 0, 1], 2), ([0], 1)]\n",
    "answers = [True, False, True, True]\n",
    "\n",
    "for i, (flowerbed, n) in enumerate(test_tuples):\n",
    "    assert answers[i] == canPlaceFlowers_improvement(flowerbed, n)"
   ]
  },
  {
   "cell_type": "markdown",
   "source": [
    "## 솔루션\n",
    "- 초기 접근 / 최적화 모두 풀이와 다른 부분이 없음\n",
    "\n",
    "Single Scan\n",
    "```\n",
    "class Solution:\n",
    "    def canPlaceFlowers(self, flowerbed: List[int], n: int) -> bool:\n",
    "        count = 0\n",
    "        for i in range(len(flowerbed)):\n",
    "            # Check if the current plot is empty.\n",
    "            if flowerbed[i] == 0:\n",
    "                # Check if the left and right plots are empty.\n",
    "                empty_left_plot = (i == 0) or (flowerbed[i - 1] == 0)\n",
    "                empty_right_lot = (i == len(flowerbed) - 1) or (flowerbed[i + 1] == 0)\n",
    "\n",
    "                # If both plots are empty, we can plant a flower here.\n",
    "                if empty_left_plot and empty_right_lot:\n",
    "                    flowerbed[i] = 1\n",
    "                    count += 1\n",
    "\n",
    "        return count >= n\n",
    "```\n",
    "\n",
    "Optimized\n",
    "```\n",
    "class Solution:\n",
    "    def canPlaceFlowers(self, flowerbed: List[int], n: int) -> bool:\n",
    "        count = 0\n",
    "        for i in range(len(flowerbed)):\n",
    "            # Check if the current plot is empty.\n",
    "            if flowerbed[i] == 0:\n",
    "                # Check if the left and right plots are empty.\n",
    "                empty_left_plot = (i == 0) or (flowerbed[i - 1] == 0)\n",
    "                empty_right_lot = (i == len(flowerbed) - 1) or (flowerbed[i + 1] == 0)\n",
    "\n",
    "                # If both plots are empty, we can plant a flower here.\n",
    "                if empty_left_plot and empty_right_lot:\n",
    "                    flowerbed[i] = 1\n",
    "                    count += 1\n",
    "                    if count >= n:\n",
    "                        return True\n",
    "\n",
    "        return count >= n\n",
    "```"
   ],
   "metadata": {
    "collapsed": false
   }
  }
 ],
 "metadata": {
  "kernelspec": {
   "display_name": "Python 3 (ipykernel)",
   "language": "python",
   "name": "python3"
  },
  "language_info": {
   "codemirror_mode": {
    "name": "ipython",
    "version": 3
   },
   "file_extension": ".py",
   "mimetype": "text/x-python",
   "name": "python",
   "nbconvert_exporter": "python",
   "pygments_lexer": "ipython3",
   "version": "3.10.9"
  }
 },
 "nbformat": 4,
 "nbformat_minor": 4
}

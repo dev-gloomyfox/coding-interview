{
 "cells": [
  {
   "cell_type": "markdown",
   "id": "1585f100-68e8-4fbc-bd81-dfde5011edb7",
   "metadata": {},
   "source": [
    "# Keys and Rooms\n",
    "- 0부터 n - 1까지 번호가 붙은 방이 n개 있고, 0번 방을 제외한 모든 방이 잠겨 있음, 목표는 모든 방을 방문하는 것, 단, 잠긴 방에는 열쇠가 없으면 들어갈 수 없음\n",
    "- 어떤 방을 방문하면 그 방에서 고유한 열쇠 세트를 발견할 수 있습니다. 각 열쇠에는 잠금 해제되는 방을 나타내는 번호가 적혀 있으며, 열쇠를 가지고 다른 방의 잠금을 해제 가능\n",
    "- rooms[i]가 방 i를 방문했을 때 얻을 수 있는 키 집합인 배열이 주어졌을 때 모든 방을 방문할 수 있으면 참을 반환하고, 그렇지 않으면 거짓을 반환\n",
    "- n == rooms.length\n",
    "- 2 <= n <= 1000\n",
    "- 0 <= rooms[i].length <= 1000\n",
    "- 1 <= sum(rooms[i].length) <= 3000\n",
    "- 0 <= rooms[i][j] < n\n",
    "- 모든 rooms[i] 값은 유니크"
   ]
  },
  {
   "cell_type": "code",
   "execution_count": 28,
   "id": "bcb2ebe8-01e1-4e90-a152-2d9bb366a75b",
   "metadata": {},
   "outputs": [],
   "source": [
    "def canVisitAllRooms(rooms: list[list[int]]) -> bool:\n",
    "    def dfs(i: int, is_visits: list[bool]):\n",
    "        if is_visits[i]:\n",
    "            return\n",
    "\n",
    "        is_visits[i] = True\n",
    "        for key in rooms[i]:\n",
    "            dfs(key, is_visits)\n",
    "\n",
    "    is_visits = [False] * len(rooms)\n",
    "    dfs(0, is_visits)\n",
    "\n",
    "    result = True\n",
    "    for is_visit in is_visits:\n",
    "        result *= is_visit\n",
    "\n",
    "    return result"
   ]
  },
  {
   "cell_type": "code",
   "execution_count": 29,
   "id": "c5ed0a18-1f93-49fa-972b-e7c0f583bb50",
   "metadata": {},
   "outputs": [],
   "source": [
    "test_sets = [\n",
    "    [[1],[2],[3],[]],\n",
    "    [[1,3],[3,0,1],[2],[0]],\n",
    "]\n",
    "expects = [True, False]\n",
    "\n",
    "for i, test_set in enumerate(test_sets):\n",
    "    assert expects[i] == canVisitAllRooms(test_set)"
   ]
  },
  {
   "cell_type": "markdown",
   "id": "7cfd5161-67e0-4093-80ad-4f16751c78f0",
   "metadata": {},
   "source": [
    "## 솔루션\n",
    "- 정답과 동일"
   ]
  },
  {
   "cell_type": "code",
   "execution_count": null,
   "id": "e42a7a75-51db-4dc0-aa7f-1a791a38d4e9",
   "metadata": {},
   "outputs": [],
   "source": []
  }
 ],
 "metadata": {
  "kernelspec": {
   "display_name": "Python 3 (ipykernel)",
   "language": "python",
   "name": "python3"
  },
  "language_info": {
   "codemirror_mode": {
    "name": "ipython",
    "version": 3
   },
   "file_extension": ".py",
   "mimetype": "text/x-python",
   "name": "python",
   "nbconvert_exporter": "python",
   "pygments_lexer": "ipython3",
   "version": "3.10.9"
  }
 },
 "nbformat": 4,
 "nbformat_minor": 5
}

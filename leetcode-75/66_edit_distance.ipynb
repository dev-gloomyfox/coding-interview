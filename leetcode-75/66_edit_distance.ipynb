{
 "cells": [
  {
   "cell_type": "markdown",
   "id": "91aa9833-d133-45b8-9dca-13d31af80c68",
   "metadata": {},
   "source": [
    "# Edit Distance\n",
    "- 두 개의 문자열 word1과 word2가 주어졌을 때, word1을 word2로 변환하는 데 필요한 최소 연산 수를 반환합니다.\n",
    "- 한 단어에 허용되는 연산은 다음 세 가지입니다:\n",
    "  - 문자 삽입\n",
    "  - 문자 삭제\n",
    "  - 문자 바꾸기\n",
    "- 0 <= word1.length, word2.length <= 500\n",
    "- word1 and word2 consist of lowercase English letters."
   ]
  },
  {
   "cell_type": "code",
   "execution_count": 11,
   "id": "dd706aa9-81e6-4317-a966-3e212877a8f0",
   "metadata": {},
   "outputs": [],
   "source": [
    "def minDistance(word1: str, word2: str) -> int:\n",
    "    \"\"\"\n",
    "    초기화:\n",
    "    dp라는 2차원 배열을 만듭니다. dp[i][j]는 word1의 첫 i 글자와 word2의 첫 j 글자 사이의 최소 편집 거리를 나타냅니다.\n",
    "    dp 배열의 첫 행과 첫 열을 초기화합니다. dp[i][0]는 i (모두 삭제), dp[0][j]는 j (모두 삽입)로 설정합니다.\n",
    "    \n",
    "    행렬 채우기:\n",
    "    word1과 word2의 각 문자를 반복하여 검토합니다.\n",
    "    각 인덱스 쌍 (i, j)에 대해 삽입, 삭제, 교체 중에서 최소값을 선택합니다:\n",
    "    삽입: dp[i][j-1]의 값에 1을 더합니다 (word2의 문자를 word1에 삽입).\n",
    "    삭제: dp[i-1][j]의 값에 1을 더합니다 (word1의 문자를 삭제).\n",
    "    교체 또는 작업 없음: 만약 두 문자가 같다면 dp[i-1][j-1] 값을 그대로 사용하고, 다르다면 dp[i-1][j-1]에 1을 더합니다 (문자 교체).\n",
    "    \n",
    "    결과 반환: \n",
    "    dp[len(word1)][len(word2)]의 값이 word1을 word2로 변환하는데 필요한 최소 편집 횟수입니다.\n",
    "    \"\"\"\n",
    "    m, n = len(word1), len(word2)\n",
    "    dp = [[0] * (n + 1) for _ in range(m + 1)]\n",
    "\n",
    "    for i in range(1, m + 1):\n",
    "        dp[i][0] = i\n",
    "    for j in range(1, n + 1):\n",
    "        dp[0][j] = j\n",
    "\n",
    "    for i in range(1, m + 1):\n",
    "        for j in range(1, n + 1):\n",
    "            if word1[i - 1] == word2[j - 1]:\n",
    "                dp[i][j] = dp[i - 1][j - 1]\n",
    "            else:\n",
    "                dp[i][j] = min(dp[i - 1][j] + 1, dp[i][j - 1] + 1, dp[i - 1][j - 1] + 1)\n",
    "\n",
    "    return dp[m][n]"
   ]
  },
  {
   "cell_type": "code",
   "execution_count": 12,
   "id": "2e1238d8-ee3f-44de-a5f2-812e75c8d797",
   "metadata": {},
   "outputs": [],
   "source": [
    "test_sets = [(\"horse\", \"ros\"), (\"intention\", \"execution\")]\n",
    "expects = [3, 5]\n",
    "\n",
    "for i, (word1, word2) in enumerate(test_sets):\n",
    "    assert expects[i] == minDistance(word1, word2)"
   ]
  },
  {
   "cell_type": "markdown",
   "id": "c04463ab-abb2-4b1a-a33e-fae5642e59b7",
   "metadata": {},
   "source": [
    "## 솔루션\n",
    "- 정답과 동일"
   ]
  },
  {
   "cell_type": "code",
   "execution_count": null,
   "id": "213cc655-079b-491f-b422-19b10c96ec05",
   "metadata": {},
   "outputs": [],
   "source": []
  }
 ],
 "metadata": {
  "kernelspec": {
   "display_name": "Python 3 (ipykernel)",
   "language": "python",
   "name": "python3"
  },
  "language_info": {
   "codemirror_mode": {
    "name": "ipython",
    "version": 3
   },
   "file_extension": ".py",
   "mimetype": "text/x-python",
   "name": "python",
   "nbconvert_exporter": "python",
   "pygments_lexer": "ipython3",
   "version": "3.10.9"
  }
 },
 "nbformat": 4,
 "nbformat_minor": 5
}

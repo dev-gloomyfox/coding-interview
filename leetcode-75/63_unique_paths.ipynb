{
 "cells": [
  {
   "cell_type": "markdown",
   "id": "b414894b-d17d-4423-9877-89993bf322f6",
   "metadata": {},
   "source": [
    "# Unique Paths\n",
    "- m x n 그리드에 로봇이 있음\n",
    "- 로봇은 처음에 왼쪽 상단 모서리(즉, grid[0][0])에 위치\n",
    "- 로봇은 오른쪽 아래 모서리(즉, grid[m - 1][n - 1])로 이동하려고 시도\n",
    "- 로봇은 어느 시점에서든 아래 또는 오른쪽으로만 이동 가능\n",
    "- 두 개의 정수 m과 n이 주어졌을 때, 로봇이 오른쪽 아래 모서리에 도달하기 위해 취할 수 있는 가능한 고유 경로의 수를 반환\n",
    "- 테스트 케이스는 답이 2 * 10^9보다 작거나 같도록 생성\n",
    "- 1 <= m, n <= 100"
   ]
  },
  {
   "cell_type": "code",
   "execution_count": 51,
   "id": "e4da8ba2-7dc5-4770-ba75-828b29a9f2e5",
   "metadata": {},
   "outputs": [],
   "source": [
    "def uniquePaths(m: int, n: int) -> int:\n",
    "    dst_x, dst_y = m - 1, n - 1\n",
    "    \n",
    "    def solve(x: int, y: int) -> int:\n",
    "        right = 0\n",
    "        bottom = 0\n",
    "        if x + 1 < m:\n",
    "            bottom = solve(x + 1, y)\n",
    "        if y + 1 < n:\n",
    "            right = solve(x, y + 1)\n",
    "        if x == dst_x and y == dst_y:\n",
    "            return 1 + bottom + right\n",
    "        else:\n",
    "            return 0 + bottom + right\n",
    "    \n",
    "    answer = solve(0, 0)\n",
    "    return answer"
   ]
  },
  {
   "cell_type": "code",
   "execution_count": 53,
   "id": "ac4e72bd-97ff-468a-83e4-866fa933f741",
   "metadata": {},
   "outputs": [],
   "source": [
    "test_sets = [(3, 7), (3, 2)]\n",
    "expects = [28, 3]\n",
    "\n",
    "for i, (m, n) in enumerate(test_sets):\n",
    "    assert expects[i] == uniquePaths(m, n)"
   ]
  },
  {
   "cell_type": "markdown",
   "id": "c2afe768-59b4-4026-9c06-303fc92bf779",
   "metadata": {},
   "source": [
    "## 개선\n",
    "- 재귀로 풀게되면 시간 제한에 걸림\n",
    "- 겹치는 경로 계산을 미리 계산하여 해소 가능\n",
    "- 여기서는 `functools.cache` 이용해서 해결, 이를 이용하지 않을 땐 별도 배열만들어서 이용하면 될 듯"
   ]
  },
  {
   "cell_type": "code",
   "execution_count": 55,
   "id": "a3890b85-1216-4e21-9ed1-2f06f8bcbc9e",
   "metadata": {},
   "outputs": [],
   "source": [
    "from functools import cache\n",
    "\n",
    "\n",
    "def uniquePaths_improve(m: int, n: int) -> int:\n",
    "    dst_x, dst_y = m - 1, n - 1\n",
    "\n",
    "    @cache\n",
    "    def solve(x: int, y: int) -> int:\n",
    "        right = 0\n",
    "        bottom = 0\n",
    "        if x + 1 < m:\n",
    "            bottom = solve(x + 1, y)\n",
    "        if y + 1 < n:\n",
    "            right = solve(x, y + 1)\n",
    "        if x == dst_x and y == dst_y:\n",
    "            return 1 + bottom + right\n",
    "        else:\n",
    "            return 0 + bottom + right\n",
    "    \n",
    "    answer = solve(0, 0)\n",
    "    return answer    "
   ]
  },
  {
   "cell_type": "code",
   "execution_count": 56,
   "id": "78e5179f-a72a-4b65-aaff-e8e82e7634d1",
   "metadata": {},
   "outputs": [],
   "source": [
    "test_sets = [(3, 7), (3, 2)]\n",
    "expects = [28, 3]\n",
    "\n",
    "for i, (m, n) in enumerate(test_sets):\n",
    "    assert expects[i] == uniquePaths_improve(m, n)"
   ]
  },
  {
   "cell_type": "markdown",
   "id": "67034ad6-552e-4a24-a94e-56721a93d7ee",
   "metadata": {},
   "source": [
    "## 개선 2\n",
    "- 작은 영역부터 생각하면서 바로 좌측, 바로 위측까지 온 경로를 더하면 목적지까지 온 경우의 수가 될 수 있음"
   ]
  },
  {
   "cell_type": "code",
   "execution_count": 65,
   "id": "fceef907-2d36-4f0b-9369-c5f8f4160502",
   "metadata": {},
   "outputs": [],
   "source": [
    "def uniquePaths_improve2(m: int, n: int) -> int:\n",
    "    dp = [[1] * n for _ in range(m)]\n",
    "\n",
    "    for i in range(1, m):\n",
    "        for j in range(1, n):\n",
    "            dp[i][j] = dp[i - 1][j] + dp[i][j - 1]\n",
    "            \n",
    "    return dp[m - 1][n - 1]"
   ]
  },
  {
   "cell_type": "code",
   "execution_count": 66,
   "id": "e4827a53-fd8b-4e8c-9837-4c024b2e7008",
   "metadata": {},
   "outputs": [],
   "source": [
    "test_sets = [(3, 7), (3, 2)]\n",
    "expects = [28, 3]\n",
    "\n",
    "for i, (m, n) in enumerate(test_sets):\n",
    "    assert expects[i] == uniquePaths_improve2(m, n)"
   ]
  },
  {
   "cell_type": "markdown",
   "id": "2619e379-6999-4b6b-abb2-610468bccc07",
   "metadata": {},
   "source": [
    "## 솔루션\n",
    "- 개선 2와 동일"
   ]
  },
  {
   "cell_type": "code",
   "execution_count": null,
   "id": "e4ab324c-03dc-4c38-a823-a6d6bb7b60d2",
   "metadata": {},
   "outputs": [],
   "source": []
  }
 ],
 "metadata": {
  "kernelspec": {
   "display_name": "Python 3 (ipykernel)",
   "language": "python",
   "name": "python3"
  },
  "language_info": {
   "codemirror_mode": {
    "name": "ipython",
    "version": 3
   },
   "file_extension": ".py",
   "mimetype": "text/x-python",
   "name": "python",
   "nbconvert_exporter": "python",
   "pygments_lexer": "ipython3",
   "version": "3.10.9"
  }
 },
 "nbformat": 4,
 "nbformat_minor": 5
}

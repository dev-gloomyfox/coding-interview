{
 "cells": [
  {
   "cell_type": "markdown",
   "id": "020c4c3c-1b92-4329-bf99-f7e5bf027cab",
   "metadata": {},
   "source": [
    "# Removing Stars From a String\n",
    "- *이 포함된 문자열 s가 주어짐\n",
    "- 한 번의 연산으로 아래가 가능\n",
    "  - s에서 *을 선택\n",
    "  - 왼쪽에서 가장 가까운 별이 아닌 문자를 제거하고 별 자체도 제거\n",
    "  - 모든 별이 제거된 후 문자열을 반환\n",
    "- 입력은 항상 연산이 가능하도록 생성\n",
    "- 결과 문자열은 항상 고유\n",
    "- 1 <= s.length <= 10^5\n",
    "- s는 영문 소문자 또는 *로 구성"
   ]
  },
  {
   "cell_type": "code",
   "execution_count": 5,
   "id": "df5b531f-8494-469f-a7c8-43ae060d0799",
   "metadata": {},
   "outputs": [],
   "source": [
    "def removeStars(s: str) -> str:\n",
    "    stack = []\n",
    "    for element in s:\n",
    "        if element == \"*\":\n",
    "            stack.pop()\n",
    "        else:\n",
    "            stack.append(element)\n",
    "    return \"\".join(stack)"
   ]
  },
  {
   "cell_type": "code",
   "execution_count": 6,
   "id": "d9e3039b-6037-4fd0-9c58-a30e81be10c0",
   "metadata": {},
   "outputs": [
    {
     "name": "stdout",
     "output_type": "stream",
     "text": [
      "lecoe\n",
      "\n"
     ]
    }
   ],
   "source": [
    "test_sets = [\"leet**cod*e\", \"erase*****\"]\n",
    "expects = [\"lecoe\", \"\"]\n",
    "\n",
    "for i, test_set in enumerate(test_sets):\n",
    "    print(removeStars(test_set))"
   ]
  },
  {
   "cell_type": "code",
   "execution_count": null,
   "id": "9f2108eb-f7e5-4c1b-9474-5f0d1fc0bf38",
   "metadata": {},
   "outputs": [],
   "source": []
  }
 ],
 "metadata": {
  "kernelspec": {
   "display_name": "Python 3 (ipykernel)",
   "language": "python",
   "name": "python3"
  },
  "language_info": {
   "codemirror_mode": {
    "name": "ipython",
    "version": 3
   },
   "file_extension": ".py",
   "mimetype": "text/x-python",
   "name": "python",
   "nbconvert_exporter": "python",
   "pygments_lexer": "ipython3",
   "version": "3.10.9"
  }
 },
 "nbformat": 4,
 "nbformat_minor": 5
}

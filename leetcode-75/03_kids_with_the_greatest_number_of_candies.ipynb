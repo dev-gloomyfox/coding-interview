{
 "cells": [
  {
   "cell_type": "markdown",
   "id": "59ee88f1-9c92-47d4-a610-b817bd971ff8",
   "metadata": {},
   "source": [
    "# Kids With the Greatest Number of Candies\n",
    "- n명의 어린이랑 사탕이 있음\n",
    "- 각 candies[i]가 i번째 아이가 가지고 있는 캔디 수를 나타내는 candies라는 정수 배열을 받는다.\n",
    "- extraCandies는 가지고 있는 별도의 캔디 수(정수)\n",
    "- n 길이의 bool 배열 반환, result[i]가 true면 i번째 어린이에게 여분의 캔디를 모두 준 후 모든 어린이 중에서 가장 많은 수의 캔디를 가지면 참이고 그렇지 않으면 거짓\n",
    "- 여러 어린이가 가장 많은 사탕을 가질 수 있음에 유의\n",
    "- n == candies.length\n",
    "- n은 2보다 크고 100보다 작음\n",
    "- candies[i]는 1보다 크고 100보다 작음\n",
    "- extraCandies는 50보다 작음"
   ]
  },
  {
   "cell_type": "code",
   "execution_count": 5,
   "id": "ddd5e775-c6e6-4c47-84ee-84ab3f6baae3",
   "metadata": {},
   "outputs": [],
   "source": [
    "# 가장 단순하게 풀어보면 배열을 돌면서 extraCandies를 더해본 후 비교하면 됨 -> O(n^2)\n",
    "# 아니면 일단 현재 배열에서 가장 큰 수를 고른 후에 배열의 모든 원소에 extraCandies를 더하고 그 수가 가장 큰 수보다 같은지만 구하면 됨 -> O(n)\n",
    "def kidsWithCandies(candies: list[int], extraCandies: int) -> list[bool]:\n",
    "    max = candies[0]\n",
    "\n",
    "    for candy in candies:\n",
    "        if candy > max:\n",
    "            max = candy\n",
    "\n",
    "    add_extra = []\n",
    "    for candy in candies:\n",
    "        add_extra.append(candy + extraCandies)\n",
    "\n",
    "    answer = []\n",
    "    for element in add_extra:\n",
    "        answer.append(element >= max)\n",
    "\n",
    "    return answer"
   ]
  },
  {
   "cell_type": "code",
   "execution_count": 7,
   "id": "5698063a-cb33-4a6d-b805-0c755b3284cf",
   "metadata": {},
   "outputs": [],
   "source": [
    "test_tuples = [([2, 3, 5, 1, 3], 3), ([4, 2, 1, 1, 2], 1), ([12, 1, 12], 10)]\n",
    "answers = [[True, True, True, False, True], [True, False, False, False, False], [True, False, True]]\n",
    "\n",
    "for i, (candies, extraCandies) in enumerate(test_tuples):\n",
    "    assert answers[i] == kidsWithCandies(candies, extraCandies)"
   ]
  },
  {
   "cell_type": "markdown",
   "id": "58cfee5c-636a-4f97-8e24-e0a93b281187",
   "metadata": {},
   "source": [
    "## 개선하기\n",
    "- 좀 더 개선할 부분은?: 내장 함수 사용해서 간결하게 작성, 공간을 n만큼 차지하는 중간 계산 저장 부분도 필요없음\n",
    "- `concise_kidsWithCandies`에 작성"
   ]
  },
  {
   "cell_type": "code",
   "execution_count": 13,
   "id": "7a9d07de-1e4f-420f-81c0-096a3003cedb",
   "metadata": {},
   "outputs": [],
   "source": [
    "def concise_kidsWithCandies(candies: list[int], extraCandies: int) -> list[bool]:\n",
    "    return [candy + extraCandies >= max(candies) for candy in candies] "
   ]
  },
  {
   "cell_type": "code",
   "execution_count": 14,
   "id": "dac17192-3377-4b3b-b794-b3ece5be4eb2",
   "metadata": {},
   "outputs": [],
   "source": [
    "for i, (candies, extraCandies) in enumerate(test_tuples):\n",
    "    assert answers[i] == concise_kidsWithCandies(candies, extraCandies)"
   ]
  },
  {
   "cell_type": "markdown",
   "id": "24548973-dd9a-46ff-a923-004f9a7fd284",
   "metadata": {},
   "source": [
    "## 솔루션\n",
    "- 같은 풀이 사용\n",
    "```\n",
    "class Solution(object):\n",
    "    def kidsWithCandies(self, candies, extraCandies):\n",
    "        # Find out the greatest number of candies among all the kids.\n",
    "        maxCandies = max(candies)\n",
    "        # For each kid, check if they will have greatest number of candies\n",
    "        # among all the kids.\n",
    "        result = []\n",
    "        for i in range(len(candies)):            \n",
    "            result.append(candies[i] + extraCandies >= maxCandies)\n",
    "        return result\n",
    "```"
   ]
  },
  {
   "cell_type": "code",
   "execution_count": null,
   "id": "f30a999f-3a31-435f-8f49-134e6a8db2ef",
   "metadata": {},
   "outputs": [],
   "source": []
  }
 ],
 "metadata": {
  "kernelspec": {
   "display_name": "Python 3 (ipykernel)",
   "language": "python",
   "name": "python3"
  },
  "language_info": {
   "codemirror_mode": {
    "name": "ipython",
    "version": 3
   },
   "file_extension": ".py",
   "mimetype": "text/x-python",
   "name": "python",
   "nbconvert_exporter": "python",
   "pygments_lexer": "ipython3",
   "version": "3.10.9"
  }
 },
 "nbformat": 4,
 "nbformat_minor": 5
}

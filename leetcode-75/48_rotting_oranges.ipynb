{
 "cells": [
  {
   "cell_type": "markdown",
   "id": "c6d8202d-a21b-4618-ace2-f8b12dc906c4",
   "metadata": {},
   "source": [
    "# Rotting Oranges\n",
    "- 각 셀이 세 가지 값 중 하나를 가질 수 있는 m x n 그리드\n",
    "- 0은 빈 셀을 표현, 1은 신선한 오렌지, 또는 2는 썩은 오렌지를 표현\n",
    "- 매분마다 썩은 오렌지와 4방향으로 인접한 신선한 오렌지는 모두 썩은 오렌지로 변화\n",
    "- 어떤 칸에도 신선한 오렌지가 없을 때까지 경과해야 하는 최소 시간을 반환, 이것이 불가능하면 -1"
   ]
  },
  {
   "cell_type": "code",
   "execution_count": 13,
   "id": "aa06ba4e-95d8-4a11-9872-28ac1db9a4ba",
   "metadata": {},
   "outputs": [],
   "source": [
    "def orangesRotting(grid: list[list[int]]) -> int:\n",
    "    m, n = len(grid), len(grid[0])\n",
    "    directions = [[-1, 0], [1, 0], [0, -1], [0, 1]]\n",
    "    queue = []\n",
    "    \n",
    "    # 일단 썩은 것들을 찾아서 해당 인덱스를 queue에 삽입\n",
    "    for i in range(m):\n",
    "        for j in range(n):\n",
    "            if grid[i][j] == 2:\n",
    "                queue.append([i, j])\n",
    "    minutes = 0\n",
    "    \n",
    "    while(queue):\n",
    "        # BFS로 진행\n",
    "        for _ in range(len(queue)):\n",
    "            x, y = queue.pop(0)\n",
    "            for i in range(4):\n",
    "                dx, dy = directions[i]\n",
    "                cx, cy = x - dx, y - dy\n",
    "                if 0 <= cx < m and 0 <= cy < n and grid[cx][cy] == 1:\n",
    "                    grid[cx][cy] = 2\n",
    "                    queue.append([cx, cy])\n",
    "        \n",
    "        # 이미 모두 썩어있는 상태면 시간을 증가시킬 필요가 없어짐\n",
    "        if queue:\n",
    "            minutes += 1\n",
    "\n",
    "    # 모든 노드 방문했으면 minutes 반환, 그렇지 않으면 -1 반환\n",
    "    for i in range(m):\n",
    "        for j in range(n):\n",
    "            if grid[i][j] == 1:\n",
    "                return -1\n",
    "    \n",
    "    return minutes"
   ]
  },
  {
   "cell_type": "code",
   "execution_count": 15,
   "id": "402758fd-0ede-428f-a5e6-c125c7627d11",
   "metadata": {},
   "outputs": [],
   "source": [
    "test_sets = [\n",
    "    [[2,1,1],[1,1,0],[0,1,1]],\n",
    "    [[2,1,1],[0,1,1],[1,0,1]],\n",
    "    [[0,2]]\n",
    "]\n",
    "expects = [4, -1, 0]\n",
    "\n",
    "for i, test_set in enumerate(test_sets):\n",
    "    assert expects[i] == orangesRotting(test_set)"
   ]
  },
  {
   "cell_type": "markdown",
   "id": "37f33177-7059-42b2-a29b-cf99c356ca9c",
   "metadata": {},
   "source": [
    "# 개선\n",
    "- 마지막에 m x n만큼 연산을 해서 신선한 과일 체크를 하는데 이 부분을 개선 가능할 듯\n",
    "- big-O는 개선이 없으나 연산수 자체는 개선이 가능"
   ]
  },
  {
   "cell_type": "code",
   "execution_count": 16,
   "id": "5a1e2bae-5a0d-4ad9-8344-346ac7e16a3c",
   "metadata": {},
   "outputs": [],
   "source": [
    "def orangesRotting_improve(grid: list[list[int]]) -> int:\n",
    "    m, n = len(grid), len(grid[0])\n",
    "    directions = [[-1, 0], [1, 0], [0, -1], [0, 1]]\n",
    "    queue = []\n",
    "    fresh_count = 0\n",
    "    \n",
    "    # 일단 썩은 것들을 찾아서 해당 인덱스를 queue에 삽입\n",
    "    for i in range(m):\n",
    "        for j in range(n):\n",
    "            if grid[i][j] == 2:\n",
    "                queue.append([i, j])\n",
    "            elif grid[i][j] == 1:\n",
    "                fresh_count += 1\n",
    "    minutes = 0\n",
    "    \n",
    "    while(queue):\n",
    "        # BFS로 진행\n",
    "        for _ in range(len(queue)):\n",
    "            x, y = queue.pop(0)\n",
    "            for i in range(4):\n",
    "                dx, dy = directions[i]\n",
    "                cx, cy = x - dx, y - dy\n",
    "                if 0 <= cx < m and 0 <= cy < n and grid[cx][cy] == 1:\n",
    "                    grid[cx][cy] = 2\n",
    "                    fresh_count -= 1\n",
    "                    queue.append([cx, cy])\n",
    "        \n",
    "        # 이미 모두 썩어있는 상태면 시간을 증가시킬 필요가 없어짐\n",
    "        if queue:\n",
    "            minutes += 1\n",
    "\n",
    "    if fresh_count == 0:\n",
    "        return minutes\n",
    "    \n",
    "    return -1"
   ]
  },
  {
   "cell_type": "code",
   "execution_count": 17,
   "id": "a5933002-1d3e-4061-ad70-348f7de892cb",
   "metadata": {},
   "outputs": [],
   "source": [
    "test_sets = [\n",
    "    [[2,1,1],[1,1,0],[0,1,1]],\n",
    "    [[2,1,1],[0,1,1],[1,0,1]],\n",
    "    [[0,2]]\n",
    "]\n",
    "expects = [4, -1, 0]\n",
    "\n",
    "for i, test_set in enumerate(test_sets):\n",
    "    assert expects[i] == orangesRotting_improve(test_set)"
   ]
  },
  {
   "cell_type": "markdown",
   "id": "174c0e05-a949-41d9-b656-e22266c6d28e",
   "metadata": {},
   "source": [
    "## 솔루션\n",
    "- 개선 답과 동일"
   ]
  },
  {
   "cell_type": "code",
   "execution_count": null,
   "id": "bd5540e2-f986-4c15-9eb9-89de022a200e",
   "metadata": {},
   "outputs": [],
   "source": []
  }
 ],
 "metadata": {
  "kernelspec": {
   "display_name": "Python 3 (ipykernel)",
   "language": "python",
   "name": "python3"
  },
  "language_info": {
   "codemirror_mode": {
    "name": "ipython",
    "version": 3
   },
   "file_extension": ".py",
   "mimetype": "text/x-python",
   "name": "python",
   "nbconvert_exporter": "python",
   "pygments_lexer": "ipython3",
   "version": "3.10.9"
  }
 },
 "nbformat": 4,
 "nbformat_minor": 5
}

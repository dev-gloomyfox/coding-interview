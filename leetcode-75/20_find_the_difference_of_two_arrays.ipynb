{
 "cells": [
  {
   "cell_type": "markdown",
   "id": "088d8dd6-f092-4b78-8d02-3ff1a8027077",
   "metadata": {},
   "source": [
    "# Find the Difference of Two Arrays\n",
    "- 두 개의 0 인덱스 정수 배열 num1과 nums2가 주어졌을 때, 여기서 크기가 2인 리스트를 반환\n",
    "- answer[0]은 nums1에 있는 모든 고유 정수의 리스트로 nums2에 존재하지 않음\n",
    "- answer[1]은 nums1에 존재하지 않는 nums2의 모든 고유 정수의 리스트\n",
    "- 리스트의 정수는 어떤 순서로든 반환 가능\n",
    "- 1 <= nums1.length, nums2.length <= 1000\n",
    "- -1000 <= nums1[i], nums2[i] <= 1000"
   ]
  },
  {
   "cell_type": "code",
   "execution_count": 6,
   "id": "b482896e-bffc-4448-a946-295ffd6eacff",
   "metadata": {},
   "outputs": [],
   "source": [
    "def findDifference(nums1: list[int], nums2: list[int]) -> list[list[int]]:\n",
    "    nums1_set = set(nums1)\n",
    "    nums2_set = set(nums2)\n",
    "\n",
    "    nums1_only = nums1_set - nums2_set\n",
    "    nums2_only = nums2_set - nums1_set\n",
    "\n",
    "    return [list(nums1_only), list(nums2_only)]"
   ]
  },
  {
   "cell_type": "code",
   "execution_count": 9,
   "id": "3bb8fdf6-dc7e-4ea0-8954-c1ab7e62bd13",
   "metadata": {},
   "outputs": [],
   "source": [
    "test_sets = [([1,2,3], [2,4,6]), ([1,2,3,3], [1,1,2,2])]\n",
    "expects = [[[1,3], [4,6]], [[3], []]]\n",
    "\n",
    "for i, (nums1, nums2) in enumerate(test_sets):\n",
    "    assert expects[i] == findDifference(nums1, nums2)"
   ]
  }
 ],
 "metadata": {
  "kernelspec": {
   "display_name": "Python 3 (ipykernel)",
   "language": "python",
   "name": "python3"
  },
  "language_info": {
   "codemirror_mode": {
    "name": "ipython",
    "version": 3
   },
   "file_extension": ".py",
   "mimetype": "text/x-python",
   "name": "python",
   "nbconvert_exporter": "python",
   "pygments_lexer": "ipython3",
   "version": "3.10.9"
  }
 },
 "nbformat": 4,
 "nbformat_minor": 5
}

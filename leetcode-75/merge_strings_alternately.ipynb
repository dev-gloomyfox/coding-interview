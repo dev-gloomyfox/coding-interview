{
 "cells": [
  {
   "cell_type": "markdown",
   "id": "c951c9e5-4439-497f-9d21-e0ae3947172f",
   "metadata": {},
   "source": [
    "# Merge Strings Alternately\n",
    "- 두 문자열을 교차해서 합치는 문제\n",
    "- 첫 번째 인자의 문자열의 첫번째 문자, 두 번째 인자의 첫번째 문자 같은 순으로 합치고 어느 한 쪽의 문자열이 더 길다면 남는 부분은 그 뒤에 붙이는 형식\n",
    "- 문자열 길이는 1~100\n",
    "- 소문자 영문으로 제한"
   ]
  },
  {
   "cell_type": "code",
   "execution_count": 42,
   "id": "fa4f8feb-e1f8-43ed-a265-0550558ed521",
   "metadata": {},
   "outputs": [],
   "source": [
    "def mergeAlternately(word1: str, word2: str) -> str:\n",
    "    \"\"\"\n",
    "    :type word1: str\n",
    "    :type word2: str\n",
    "    :rtype: str\n",
    "    \"\"\"\n",
    "    short_length, long_word = (len(word1), word2) if len(word1) < len(word2) else (len(word2), word1)\n",
    "    answer = \"\"\n",
    "    \n",
    "    for i in range(short_length):\n",
    "        answer = answer + word1[i] + word2[i]\n",
    "\n",
    "    return answer + long_word[short_length:len(long_word)]"
   ]
  },
  {
   "cell_type": "code",
   "execution_count": 44,
   "id": "f024e9d6-066d-42d4-bc2b-ee93df01c398",
   "metadata": {},
   "outputs": [],
   "source": [
    "test_tuples = [(\"abc\", \"pqr\"), (\"ab\", \"pqrs\"), (\"abcd\", \"pq\")]\n",
    "gts = [\"apbqcr\", \"apbqrs\", \"apbqcd\"]\n",
    "\n",
    "for i, test_tuple in enumerate(test_tuples):\n",
    "    assert gts[i] == mergeAlternately(test_tuple[0], test_tuple[1])"
   ]
  },
  {
   "cell_type": "markdown",
   "id": "94b0b036-e7c2-46d4-b89f-42c0a94e519e",
   "metadata": {},
   "source": [
    "# 더 좋은 방식?\n",
    "- 문자열을 더하는 방법은 계속해서 문자열을 생성할 수 있을 듯\n",
    "- 최종 결과물의 크기를 알고 있으니까 배열을 미리 생성해두고 그곳에 넣는 방식은 어떨까?"
   ]
  },
  {
   "cell_type": "code",
   "execution_count": 60,
   "id": "6ae97c81-ae88-4198-82f0-b623779f38e0",
   "metadata": {},
   "outputs": [],
   "source": [
    "def mergeAlternately_effective(word1: str, word2: str) -> str:\n",
    "    \"\"\"\n",
    "    :type word1: str\n",
    "    :type word2: str\n",
    "    :rtype: str\n",
    "    \"\"\"\n",
    "    short_length, long_word = (len(word1), word2) if len(word1) < len(word2) else (len(word2), word1)\n",
    "    answer = [None] * (len(word1) + len(word2))\n",
    "    \n",
    "    for i in range(short_length):\n",
    "        answer[2*i] = word1[i]\n",
    "        answer[2*i+1] = word2[i]\n",
    "\n",
    "    for i in range(len(long_word) - short_length):\n",
    "        answer[short_length*2+i] = long_word[short_length + i]\n",
    "    \n",
    "    return \"\".join(answer)"
   ]
  },
  {
   "cell_type": "code",
   "execution_count": 61,
   "id": "2ce476f5-4573-4578-a2fe-8bd189f067c5",
   "metadata": {},
   "outputs": [],
   "source": [
    "test_tuples = [(\"abc\", \"pqr\"), (\"ab\", \"pqrs\"), (\"abcd\", \"pq\")]\n",
    "gts = [\"apbqcr\", \"apbqrs\", \"apbqcd\"]\n",
    "\n",
    "for i, test_tuple in enumerate(test_tuples):\n",
    "    assert gts[i] == mergeAlternately_effective(test_tuple[0], test_tuple[1])"
   ]
  },
  {
   "cell_type": "markdown",
   "id": "e39a0a2c-924c-4912-aaae-d78bfba42971",
   "metadata": {},
   "source": [
    "## 결론\n",
    "- 더 좋은 방식은 아닌 듯, join을 활용하면 결국 문자열을 지속 생성하는 형태\n",
    "- 문자열 크기가 100개 이내로 정해져있으니, 코드만 더 복잡해지는 것으로 생각됨"
   ]
  },
  {
   "cell_type": "markdown",
   "id": "bd11a3f3-87f0-47ae-9c36-25206e5feb50",
   "metadata": {},
   "source": [
    "# 솔루션\n",
    "- Two Pointer\n",
    "```\n",
    "def mergeAlternately(self, word1, word2):\n",
    "    m = len(word1)\n",
    "    n = len(word2)\n",
    "    i = 0\n",
    "    j = 0\n",
    "    result = []\n",
    "\n",
    "    while i < m or j < n:\n",
    "        if i < m:\n",
    "            result += word1[i]\n",
    "            i += 1\n",
    "        if j < n:\n",
    "            result += word2[j]\n",
    "            j += 1\n",
    "\n",
    "    return \"\".join(result)\n",
    "```\n",
    "- One Pointer\n",
    "```\n",
    "def mergeAlternately(self, word1, word2):\n",
    "    result = []\n",
    "    n = max(len(word1), len(word2))\n",
    "    for i in range(n):\n",
    "        if i < len(word1):\n",
    "            result += word1[i]\n",
    "        if i < len(word2):\n",
    "            result += word2[i]\n",
    "\n",
    "    return \"\".join(result)\n",
    "```\n",
    "\n",
    "- 두 방식 모두 복잡도는 동일\n",
    "  - Time: O(n+m)\n",
    "  - Space: O(1)"
   ]
  },
  {
   "cell_type": "code",
   "execution_count": null,
   "id": "85ff52ed-aae3-4bed-b54e-362ea8ac4a53",
   "metadata": {},
   "outputs": [],
   "source": []
  }
 ],
 "metadata": {
  "kernelspec": {
   "display_name": "Python 3 (ipykernel)",
   "language": "python",
   "name": "python3"
  },
  "language_info": {
   "codemirror_mode": {
    "name": "ipython",
    "version": 3
   },
   "file_extension": ".py",
   "mimetype": "text/x-python",
   "name": "python",
   "nbconvert_exporter": "python",
   "pygments_lexer": "ipython3",
   "version": "3.10.9"
  }
 },
 "nbformat": 4,
 "nbformat_minor": 5
}

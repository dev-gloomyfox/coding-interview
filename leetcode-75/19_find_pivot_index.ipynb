{
 "cells": [
  {
   "cell_type": "markdown",
   "id": "3cf61242-1463-4d70-a23c-bd749064611b",
   "metadata": {},
   "source": [
    "# Find Pivot Index\n",
    "- 정수 배열이 주어지면 배열의 피봇 인덱스를 계산\n",
    "- 피봇 인덱스는 인덱스의 왼쪽에 있는 모든 숫자의 합이 인덱스의 오른쪽에 있는 모든 숫자의 합과 같아지는 인덱스\n",
    "- 인덱스가 배열의 왼쪽 가장자리에 있으면 왼쪽에 요소가 없으므로 왼쪽 합계는 0\n",
    "- 이는 배열의 오른쪽 가장자리에도 적용\n",
    "- 가장 왼쪽 피봇 인덱스를 반환, 그러한 인덱스가 존재하지 않으면 -1을 반환"
   ]
  },
  {
   "cell_type": "code",
   "execution_count": 16,
   "id": "5f1a9aeb-fdf9-4db1-937a-d71da847700b",
   "metadata": {},
   "outputs": [],
   "source": [
    "def pivotIndex(nums: list[int]) -> int:\n",
    "    lefts = [0] * len(nums)\n",
    "    rights = [0] * len(nums)\n",
    "\n",
    "    current = 0\n",
    "    for i in range(len(nums)):\n",
    "        if i == 0:\n",
    "            continue\n",
    "        else:\n",
    "            current += nums[i - 1]\n",
    "            lefts[i] = (current)\n",
    "\n",
    "    current = 0\n",
    "    for i in reversed(range(len(nums))):\n",
    "        if i == len(nums) - 1:\n",
    "            continue\n",
    "        else:\n",
    "            current += nums[i + 1]\n",
    "            rights[i] = current\n",
    "\n",
    "    for i in range(len(nums)):\n",
    "        if lefts[i] == rights[i]:\n",
    "            return i\n",
    "\n",
    "    return -1"
   ]
  },
  {
   "cell_type": "code",
   "execution_count": 18,
   "id": "9478e7a7-fdb9-4e88-bfea-9edba763df51",
   "metadata": {},
   "outputs": [],
   "source": [
    "test_sets = [[1,7,3,6,5,6], [1,2,3], [2,1,-1]]\n",
    "expects = [3, -1, 0]\n",
    "\n",
    "for i, test_set in enumerate(test_sets):\n",
    "    assert expects[i] == pivotIndex(test_set)"
   ]
  },
  {
   "cell_type": "markdown",
   "id": "b2a8dbec-6b47-4006-8279-c51208b2812d",
   "metadata": {},
   "source": [
    "## 개선\n",
    "- 복잡도 개선이 가능할까?\n",
    "- 두 번 순회하지 않고 한 번에 계산이 가능할 듯"
   ]
  },
  {
   "cell_type": "code",
   "execution_count": 22,
   "id": "c6e8e8bf-6714-402a-96d5-84e473a0117f",
   "metadata": {},
   "outputs": [],
   "source": [
    "def pivotIndex_improve(nums: list[int]) -> int:\n",
    "    lefts = [0] * len(nums)\n",
    "    rights = [0] * len(nums)\n",
    "\n",
    "    left = 0\n",
    "    right = 0\n",
    "    \n",
    "    for i in range(len(nums)):\n",
    "        if i == 0:\n",
    "            continue\n",
    "        else:\n",
    "            left += nums[i - 1]\n",
    "            right += nums[len(nums) - i]\n",
    "            lefts[i] = left\n",
    "            rights[len(nums) - 1 - i] = right\n",
    "    \n",
    "    for i in range(len(nums)):\n",
    "        if lefts[i] == rights[i]:\n",
    "            return i\n",
    "\n",
    "    return -1"
   ]
  },
  {
   "cell_type": "code",
   "execution_count": 23,
   "id": "3134e6d8-7270-44cb-bd75-8fe77bbb3870",
   "metadata": {},
   "outputs": [],
   "source": [
    "test_sets = [[1,7,3,6,5,6], [1,2,3], [2,1,-1]]\n",
    "expects = [3, -1, 0]\n",
    "\n",
    "for i, test_set in enumerate(test_sets):\n",
    "    assert expects[i] == pivotIndex_improve(test_set)"
   ]
  },
  {
   "cell_type": "markdown",
   "id": "e7b59592-38cb-4cdb-89a7-f6cdb2ba6621",
   "metadata": {},
   "source": [
    "## 개선 2\n",
    "- 공간을 더 줄일 수는 없을까?\n",
    "- 더하기 성질을 이용한다면?"
   ]
  },
  {
   "cell_type": "code",
   "execution_count": 28,
   "id": "016554bc-c066-4f49-a1a7-823e2a550af0",
   "metadata": {},
   "outputs": [],
   "source": [
    "def pivotIndex_improve_2(nums: list[int]) -> int:\n",
    "    total = sum(nums)\n",
    "    left = 0\n",
    "    \n",
    "    for i, num in enumerate(nums):\n",
    "        right = total - left - num\n",
    "        if left == right:\n",
    "            return i\n",
    "        left += num\n",
    "\n",
    "    return -1"
   ]
  },
  {
   "cell_type": "code",
   "execution_count": 30,
   "id": "a44d5ca3-d5eb-4a33-b5d2-7683e3277d0e",
   "metadata": {},
   "outputs": [],
   "source": [
    "test_sets = [[1,7,3,6,5,6], [1,2,3], [2,1,-1]]\n",
    "expects = [3, -1, 0]\n",
    "\n",
    "for i, test_set in enumerate(test_sets):\n",
    "    assert expects[i] == pivotIndex_improve_2(test_set)"
   ]
  },
  {
   "cell_type": "markdown",
   "id": "ef3de4c1-4e3c-4fd0-9dee-124580b95dab",
   "metadata": {},
   "source": [
    "## 솔루션\n",
    "- 정답과 동일"
   ]
  }
 ],
 "metadata": {
  "kernelspec": {
   "display_name": "Python 3 (ipykernel)",
   "language": "python",
   "name": "python3"
  },
  "language_info": {
   "codemirror_mode": {
    "name": "ipython",
    "version": 3
   },
   "file_extension": ".py",
   "mimetype": "text/x-python",
   "name": "python",
   "nbconvert_exporter": "python",
   "pygments_lexer": "ipython3",
   "version": "3.10.9"
  }
 },
 "nbformat": 4,
 "nbformat_minor": 5
}

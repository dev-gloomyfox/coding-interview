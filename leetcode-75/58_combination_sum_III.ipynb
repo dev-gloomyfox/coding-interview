{
 "cells": [
  {
   "cell_type": "markdown",
   "id": "1d432e46-ebce-4673-8479-9ba24102eddd",
   "metadata": {},
   "source": [
    "# Combination Sum III\n",
    "- 다음 조건이 참이 되도록 합이 n이 되는 모든 유효한 숫자 조합 찾기\n",
    "- 숫자 1부터 9까지만 사용\n",
    "- 각 숫자는 최대 한 번만 사용\n",
    "- 가능한 모든 유효한 조합의 목록을 반환\n",
    "- 목록에는 같은 조합이 두 번 포함되지 않아야 하며, 조합은 어떤 순서로든 반환 가능\n",
    "- 2 <= k <= 9\n",
    "- 1 <= n <= 60"
   ]
  },
  {
   "cell_type": "code",
   "execution_count": 22,
   "id": "2c43d0b2-de94-474b-80a9-fb07b98eef91",
   "metadata": {},
   "outputs": [],
   "source": [
    "def choose_candidates(selected: int, remain: int, candidates: list[int]) -> list[int]:\n",
    "    choosed = []\n",
    "    for candidate in candidates:\n",
    "        if candidate <= remain and candidate != selected:\n",
    "            choosed.append(candidate)\n",
    "    return choosed\n",
    "\n",
    "\n",
    "def track(candidates: list[int], target: int, answer: list[list[int]], current: int, k: int, partial_answer: list[int]):\n",
    "    if current == k:\n",
    "        if target == 0:\n",
    "            answer.append(partial_answer)\n",
    "        return\n",
    "\n",
    "    if not candidates:\n",
    "        return\n",
    "\n",
    "    while(candidates):\n",
    "        candidate = candidates.pop(0)\n",
    "        next_target = target - candidate\n",
    "        next_candidates = choose_candidates(candidate, next_target, candidates)\n",
    "        next_partial_answer = partial_answer.copy()\n",
    "        next_partial_answer.append(candidate)\n",
    "        track(next_candidates, next_target, answer, current + 1, k, next_partial_answer)\n",
    "\n",
    "\n",
    "def combinationSum3(k: int, n: int) -> list[list[int]]:\n",
    "    answer = []\n",
    "    candidates = [1, 2, 3, 4, 5, 6, 7, 8, 9]\n",
    "\n",
    "    track(candidates, n, answer, 0, k, [])\n",
    "    return answer"
   ]
  },
  {
   "cell_type": "code",
   "execution_count": 24,
   "id": "dad790af-9c61-474b-9cf4-62f195a4e4c1",
   "metadata": {},
   "outputs": [],
   "source": [
    "test_sets = [(3, 7), (3, 9), (4, 1)]\n",
    "expects = [\n",
    "    [[1,2,4]],\n",
    "    [[1,2,6],[1,3,5],[2,3,4]],\n",
    "    []\n",
    "]\n",
    "\n",
    "for i, (k, n) in enumerate(test_sets):\n",
    "    assert expects[i] == combinationSum3(k, n)"
   ]
  },
  {
   "cell_type": "markdown",
   "id": "c93ad67e-9a9e-4340-a747-237925a602d5",
   "metadata": {},
   "source": [
    "## 개선\n",
    "- 코드가 다소 난잡한 부분이 있어서 조정이 필요"
   ]
  },
  {
   "cell_type": "code",
   "execution_count": 28,
   "id": "e3844088-d9c6-4e9d-81eb-61d2eb56f9ad",
   "metadata": {},
   "outputs": [],
   "source": [
    "def combinationSum3_improve(k: int, n: int) -> list[list[int]]:\n",
    "    answer = []\n",
    "\n",
    "    def backtrack(current: int, result: list[int], sum: int):\n",
    "        if len(result) == k:\n",
    "            if sum == n:\n",
    "                answer.append(result)\n",
    "            return\n",
    "        if n - sum < current:\n",
    "            return\n",
    "        for i in range(current, 10):\n",
    "            backtrack(i + 1, result + [i], sum + i)\n",
    "\n",
    "    backtrack(1, [], 0)\n",
    "    \n",
    "    return answer"
   ]
  },
  {
   "cell_type": "code",
   "execution_count": 30,
   "id": "bc154696-a583-476a-9939-7ed3206a483a",
   "metadata": {},
   "outputs": [],
   "source": [
    "test_sets = [(3, 7), (3, 9), (4, 1)]\n",
    "expects = [\n",
    "    [[1,2,4]],\n",
    "    [[1,2,6],[1,3,5],[2,3,4]],\n",
    "    []\n",
    "]\n",
    "\n",
    "for i, (k, n) in enumerate(test_sets):\n",
    "    assert expects[i] == combinationSum3_improve(k, n)"
   ]
  },
  {
   "cell_type": "markdown",
   "id": "d5bf3c78-44ac-4195-ab25-e17895bde9ca",
   "metadata": {},
   "source": [
    "## 솔루션\n",
    "- 개선 답과 동일"
   ]
  },
  {
   "cell_type": "code",
   "execution_count": null,
   "id": "7fb12b59-a84b-4d7b-931f-94749ddd6981",
   "metadata": {},
   "outputs": [],
   "source": []
  }
 ],
 "metadata": {
  "kernelspec": {
   "display_name": "Python 3 (ipykernel)",
   "language": "python",
   "name": "python3"
  },
  "language_info": {
   "codemirror_mode": {
    "name": "ipython",
    "version": 3
   },
   "file_extension": ".py",
   "mimetype": "text/x-python",
   "name": "python",
   "nbconvert_exporter": "python",
   "pygments_lexer": "ipython3",
   "version": "3.10.9"
  }
 },
 "nbformat": 4,
 "nbformat_minor": 5
}

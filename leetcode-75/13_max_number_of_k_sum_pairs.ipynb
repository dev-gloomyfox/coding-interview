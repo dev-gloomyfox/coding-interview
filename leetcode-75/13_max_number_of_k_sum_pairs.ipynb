{
 "cells": [
  {
   "cell_type": "markdown",
   "id": "261134af-dcf3-40cc-a993-243ada1ba953",
   "metadata": {},
   "source": [
    "# Max Number of K-Sum Pairs\n",
    "- 정수 배열 nums와 정수 k가 주어졌을 때, 한 번의 연산으로 배열에서 합이 k와 같은 두 개의 숫자를 선택하여 배열에서 제거 가능\n",
    "- 배열에서 수행 가능한 최대 연산 수를 반환\n",
    "- 1 <= nums.length <= 10^5\n",
    "- 1 <= nums[i] <= 10^9\n",
    "- 1 <= k <= 10^9"
   ]
  },
  {
   "cell_type": "code",
   "execution_count": 15,
   "id": "70c7b568-bdb4-47f8-adc8-c10fd3aedfad",
   "metadata": {},
   "outputs": [],
   "source": [
    "def maxOperation(nums: list[int], k: int) -> int:\n",
    "    count = 0\n",
    "    for i in range(len(nums)):\n",
    "        if nums[i] is None:\n",
    "            continue\n",
    "        remain = k - nums[i]\n",
    "        for j in range(i + 1, len(nums)):\n",
    "            if nums[j] is None:\n",
    "                continue\n",
    "            if remain == nums[j]:\n",
    "                count += 1\n",
    "                nums[i] = None\n",
    "                nums[j] = None\n",
    "                break\n",
    "    return count"
   ]
  },
  {
   "cell_type": "code",
   "execution_count": 17,
   "id": "8bc05c96-dae1-42b8-9e3c-984f6126e4fc",
   "metadata": {},
   "outputs": [],
   "source": [
    "test_sets = [([1, 2, 3, 4], 5), ([3, 1, 3, 4, 3], 6)]\n",
    "expects = [2, 1]\n",
    "\n",
    "for i, (nums, k) in enumerate(test_sets):\n",
    "    assert expects[i] == maxOperation(nums, k)"
   ]
  },
  {
   "cell_type": "markdown",
   "id": "646568d1-2cf1-43d1-89a3-eb96ef411912",
   "metadata": {},
   "source": [
    "## 개선\n",
    "- 위 코드는 O(n^2)으로 시간 제한을 초과\n",
    "- 속도를 개선해야 함\n",
    "- 각 숫자들이 몇 개인지를 세기, dict 형식\n",
    "- 각 숫자 별로 k 값과의 차를 구하고 차 값이 있는지를 확인한 후, 있다면 min 값을 카운터에 추가하기, 확인한 값은 해당 min 값을 각각의 값에서 빼주기\n",
    "- 이러면 한 번의 순회로 구할 수 있음"
   ]
  },
  {
   "cell_type": "code",
   "execution_count": 64,
   "id": "bd574aa3-7107-429d-b13b-e6cb44b269c1",
   "metadata": {},
   "outputs": [],
   "source": [
    "def maxOperation_improve(nums: list[int], k: int) -> int:\n",
    "    count = 0\n",
    "    count_dict = {}\n",
    "    \n",
    "    for num in nums:\n",
    "        remain = k - num\n",
    "        if count_dict.get(remain, None) is not None:\n",
    "            count += 1\n",
    "            if count_dict[remain] == 1:\n",
    "                count_dict.pop(remain)\n",
    "            else:\n",
    "                count_dict[remain] -= 1\n",
    "        else:\n",
    "            count_dict[num] = count_dict.get(num, 0) + 1\n",
    "    \n",
    "    return count"
   ]
  },
  {
   "cell_type": "code",
   "execution_count": 65,
   "id": "df6335b4-e9ee-4035-bca3-b1a81585071f",
   "metadata": {},
   "outputs": [],
   "source": [
    "test_sets = [([1, 2, 3, 4], 5), ([3, 1, 3, 4, 3], 6)]\n",
    "expects = [2, 1]\n",
    "\n",
    "for i, (nums, k) in enumerate(test_sets):\n",
    "    assert expects[i] == maxOperation_improve(nums, k)"
   ]
  },
  {
   "cell_type": "markdown",
   "id": "1aa6fa05-79c6-4b2e-92f8-11ee3dba3e1c",
   "metadata": {},
   "source": [
    "## 개선 2\n",
    "- 위 코드는 공간이 O(n)이 추가적으로 필요\n",
    "- 공간 부분을 더 개선할 수 있을까?\n",
    "- 정렬을 활용하면 양 끝 점을 잡고 셀 수 있음: 다만 공간을 활용하지 않는 대신 속도가 O(nlogn)으로 느려지게 됨\n",
    "- 양 끝 점을 잡고 시작, 양 끝 점의 합을 구함\n",
    "- 합과 k가 같다면 count를 추가하고 양쪽 포인터를 이동하고, 합이 더 큰 경우 작아져야 하기 때문에 오른쪽 끝 점을 왼쪽으로 이동/작은 경우 커져야 하기 때문에 왼쪽 끝 점을 오른쪽으로 이동"
   ]
  },
  {
   "cell_type": "code",
   "execution_count": 56,
   "id": "e4bc7751-3913-413a-8a38-4084948ece07",
   "metadata": {},
   "outputs": [],
   "source": [
    "def maxOperation_improve_2(nums: list[int], k: int) -> int:\n",
    "    nums.sort()\n",
    "\n",
    "    start = 0\n",
    "    end = len(nums) - 1\n",
    "    count = 0\n",
    "    \n",
    "    while start < end:\n",
    "        sum = nums[start] + nums[end]\n",
    "        if sum == k:\n",
    "            count += 1\n",
    "            start += 1\n",
    "            end -= 1\n",
    "        elif sum < k:\n",
    "            start += 1\n",
    "        else:\n",
    "            end -= 1\n",
    "    \n",
    "    return count"
   ]
  },
  {
   "cell_type": "code",
   "execution_count": 57,
   "id": "6a84c0b4-a084-4ac6-99b7-4066e69b3d02",
   "metadata": {},
   "outputs": [],
   "source": [
    "test_sets = [([1, 2, 3, 4], 5), ([3, 1, 3, 4, 3], 6)]\n",
    "expects = [2, 1]\n",
    "\n",
    "for i, (nums, k) in enumerate(test_sets):\n",
    "    maxOperation_improve_2(nums, k)"
   ]
  },
  {
   "cell_type": "markdown",
   "id": "7ff5cc43-2afa-401a-b3f1-c1321cc1ba19",
   "metadata": {},
   "source": [
    "## 솔루션\n",
    "- 정답과 동일"
   ]
  }
 ],
 "metadata": {
  "kernelspec": {
   "display_name": "Python 3 (ipykernel)",
   "language": "python",
   "name": "python3"
  },
  "language_info": {
   "codemirror_mode": {
    "name": "ipython",
    "version": 3
   },
   "file_extension": ".py",
   "mimetype": "text/x-python",
   "name": "python",
   "nbconvert_exporter": "python",
   "pygments_lexer": "ipython3",
   "version": "3.10.9"
  }
 },
 "nbformat": 4,
 "nbformat_minor": 5
}

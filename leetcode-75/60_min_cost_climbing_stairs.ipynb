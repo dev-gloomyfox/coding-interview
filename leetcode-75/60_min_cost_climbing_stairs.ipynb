{
 "cells": [
  {
   "cell_type": "markdown",
   "id": "5d0e49ae-abaf-4fee-9f0d-daa9d8cfdd3b",
   "metadata": {},
   "source": [
    "# Min Cost Climbing Stairs\n",
    "- 정수 배열 cost가 주어지는데, \bcost[i]는 계단에서 ith 단계의 비용\n",
    "- 비용을 지불하면 한 계단 또는 두 계단을 올라갈 수 있음\n",
    "- 인덱스가 0인 계단부터 시작하거나 인덱스가 1인 계단부터 시작 가능\n",
    "- 층의 꼭대기에 도달하는 데 드는 최소 비용을 반환\n",
    "- 2 <= cost.length <= 1000\n",
    "- 0 <= cost[i] <= 999"
   ]
  },
  {
   "cell_type": "code",
   "execution_count": 9,
   "id": "a9416c30-4301-4975-a591-7180530aecaa",
   "metadata": {},
   "outputs": [],
   "source": [
    "def minCostClimbingStairs(cost: list[int]) -> int:\n",
    "    for i in range(2, len(cost)):\n",
    "        cost[i] += min(cost[i - 1], cost[i - 2])\n",
    "    return min(cost[len(cost) - 1], cost[len(cost) - 2])"
   ]
  },
  {
   "cell_type": "code",
   "execution_count": 11,
   "id": "ca376104-ed09-49f1-ba4f-f6acc6fa8247",
   "metadata": {},
   "outputs": [],
   "source": [
    "test_sets = [[10,15,20], [1,100,1,1,1,100,1,1,100,1]]\n",
    "expects = [15, 6]\n",
    "\n",
    "for i, test_set in enumerate(test_sets):\n",
    "    assert expects[i] == minCostClimbingStairs(test_set)"
   ]
  },
  {
   "cell_type": "markdown",
   "id": "0c5c9697-04f5-479e-b8a2-9c22571155d2",
   "metadata": {},
   "source": [
    "## 솔루션\n",
    "- 정답과 동일"
   ]
  },
  {
   "cell_type": "code",
   "execution_count": null,
   "id": "68e13926-255a-47f1-88eb-dec8b81009c3",
   "metadata": {},
   "outputs": [],
   "source": []
  }
 ],
 "metadata": {
  "kernelspec": {
   "display_name": "Python 3 (ipykernel)",
   "language": "python",
   "name": "python3"
  },
  "language_info": {
   "codemirror_mode": {
    "name": "ipython",
    "version": 3
   },
   "file_extension": ".py",
   "mimetype": "text/x-python",
   "name": "python",
   "nbconvert_exporter": "python",
   "pygments_lexer": "ipython3",
   "version": "3.10.9"
  }
 },
 "nbformat": 4,
 "nbformat_minor": 5
}

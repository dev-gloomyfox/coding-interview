{
 "cells": [
  {
   "cell_type": "markdown",
   "id": "8612be73-7615-4086-ad39-7581bf6fbc46",
   "metadata": {},
   "source": [
    "# Unique Number of Occurrences\n",
    "- 정수 배열이 주어지고 배열에 있는 각 값의 발생 횟수가 고유하면 참을 반환하고, 그렇지 않으면 거짓을 반환\n",
    "- 1 <= arr.length <= 1000\n",
    "- -1000 <= arr[i] <= 1000"
   ]
  },
  {
   "cell_type": "code",
   "execution_count": 7,
   "id": "b92d4950-6376-46e3-aa6a-6dc88b9bef6c",
   "metadata": {},
   "outputs": [],
   "source": [
    "def uniqueOccurences(arr: list[int]) -> bool:\n",
    "    occurs = {}\n",
    "    \n",
    "    for element in arr:\n",
    "        if occurs.get(element, None) is None:\n",
    "            occurs[element] = 1\n",
    "        else:\n",
    "            occurs[element] += 1\n",
    "\n",
    "    counts = {}\n",
    "    \n",
    "    for k, v in occurs.items():\n",
    "        counts[v] = None\n",
    "\n",
    "    if len(occurs) == len(counts):\n",
    "        return True\n",
    "    else:\n",
    "        return False"
   ]
  },
  {
   "cell_type": "code",
   "execution_count": 9,
   "id": "29d57e92-bf5e-4bab-b2d0-52c503a81d3f",
   "metadata": {},
   "outputs": [],
   "source": [
    "test_sets = [[1,2,2,1,1,3], [1,2], [-3,0,1,-3,1,1,1,-3,10,0]]\n",
    "expects = [True, False, True]\n",
    "\n",
    "for i, test_set in enumerate(test_sets):\n",
    "    assert expects[i] == uniqueOccurences(test_set)"
   ]
  },
  {
   "cell_type": "markdown",
   "id": "d50cd899-083e-4130-840d-cd3fc545d0aa",
   "metadata": {},
   "source": [
    "## 개선\n",
    "- 좀 더 단순하게 만들어보기"
   ]
  },
  {
   "cell_type": "code",
   "execution_count": 11,
   "id": "ce73b7cc-3a08-456f-9158-ea0ab09c4991",
   "metadata": {},
   "outputs": [],
   "source": [
    "def uniqueOccurences_improve(arr: list[int]) -> bool:\n",
    "    occurs = {}\n",
    "    for element in arr:\n",
    "        occurs[element] = occurs.setdefault(element, 0) + 1\n",
    "    return len(occurs.values()) == len(set(occurs.values()))"
   ]
  },
  {
   "cell_type": "code",
   "execution_count": 12,
   "id": "daad387e-3bef-495c-a551-a02f9de58931",
   "metadata": {},
   "outputs": [],
   "source": [
    "test_sets = [[1,2,2,1,1,3], [1,2], [-3,0,1,-3,1,1,1,-3,10,0]]\n",
    "expects = [True, False, True]\n",
    "\n",
    "for i, test_set in enumerate(test_sets):\n",
    "    assert expects[i] == uniqueOccurences_improve(test_set)"
   ]
  },
  {
   "cell_type": "markdown",
   "id": "a5827e23-b265-4d69-b89b-b3557cc51fb7",
   "metadata": {},
   "source": [
    "## 솔루션\n",
    "- 정답과 동일"
   ]
  }
 ],
 "metadata": {
  "kernelspec": {
   "display_name": "Python 3 (ipykernel)",
   "language": "python",
   "name": "python3"
  },
  "language_info": {
   "codemirror_mode": {
    "name": "ipython",
    "version": 3
   },
   "file_extension": ".py",
   "mimetype": "text/x-python",
   "name": "python",
   "nbconvert_exporter": "python",
   "pygments_lexer": "ipython3",
   "version": "3.10.9"
  }
 },
 "nbformat": 4,
 "nbformat_minor": 5
}

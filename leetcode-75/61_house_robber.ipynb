{
 "cells": [
  {
   "cell_type": "markdown",
   "id": "880b3e2d-5af3-44ce-a9d8-5c43b5657222",
   "metadata": {},
   "source": [
    "# House Robber\n",
    "- 당신은 거리를 따라 집을 털 계획인 전문 강도\n",
    "- 각 집에는 일정 금액의 돈이 숨겨져 있으며, 각 집을 털지 못하게 하는 유일한 제약 조건은 인접한 집에 보안 시스템이 연결되어 있고 같은 날 밤에 인접한 두 집에 침입하면 자동으로 경찰에 연락된다는 것\n",
    "- 각 집의 금액을 나타내는 정수 배열의 숫자가 주어졌을 때, 경찰에 알리지 않고 오늘 밤에 털 수 있는 최대 금액을 반환\n",
    "- 1 <= nums.length <= 100\n",
    "- 0 <= nums[i] <= 400"
   ]
  },
  {
   "cell_type": "code",
   "execution_count": 7,
   "id": "c527360e-4264-4abf-b34d-1a18ccbac28b",
   "metadata": {},
   "outputs": [],
   "source": [
    "def rob(nums: list[int]) -> int:\n",
    "    dp = [0] * len(nums)\n",
    "    dp[0] = nums[0]\n",
    "\n",
    "    if len(nums) > 1:\n",
    "        dp[1] = max(nums[0], nums[1])\n",
    "    \n",
    "    for i in range(2, len(nums)):\n",
    "        dp[i] = max(dp[i - 2] + nums[i], dp[i - 1])\n",
    "    return dp[-1]"
   ]
  },
  {
   "cell_type": "code",
   "execution_count": 11,
   "id": "eab18307-82f2-4674-add6-b7a4301afe50",
   "metadata": {},
   "outputs": [],
   "source": [
    "test_sets = [[1,2,3,1], [2,7,9,3,1], [1, 1000, 2, 3, 5000, 10000]]\n",
    "expects = [4, 12, 11003]\n",
    "\n",
    "for i, test_set in enumerate(test_sets):\n",
    "    assert expects[i] == rob(test_set)"
   ]
  },
  {
   "cell_type": "markdown",
   "id": "530d34bd-4e4a-4fa0-b091-bb80dc3f6a10",
   "metadata": {},
   "source": [
    "## 개선\n",
    "- 별도의 배열을 안써도 구현 가능할 것으로 보임"
   ]
  },
  {
   "cell_type": "code",
   "execution_count": 16,
   "id": "efc7aa04-e00f-4853-a81e-e1c5a6db4904",
   "metadata": {},
   "outputs": [],
   "source": [
    "def rob_improve(nums: list[int]) -> int:\n",
    "    if len(nums) > 1:\n",
    "        nums[1] = max(nums[0], nums[1])\n",
    "    for i in range(2, len(nums)):\n",
    "        nums[i] = max(nums[i - 2] + nums[i], nums[i - 1])\n",
    "    return nums[-1]"
   ]
  },
  {
   "cell_type": "code",
   "execution_count": 17,
   "id": "004de883-edf7-4ae9-8f75-04ae9d5de1dd",
   "metadata": {},
   "outputs": [],
   "source": [
    "test_sets = [[1,2,3,1], [2,7,9,3,1], [1, 1000, 2, 3, 5000, 10000]]\n",
    "expects = [4, 12, 11003]\n",
    "\n",
    "for i, test_set in enumerate(test_sets):\n",
    "    assert expects[i] == rob_improve(test_set)"
   ]
  },
  {
   "cell_type": "markdown",
   "id": "7ce0dfc0-7c61-4f9d-bcdf-5a7fde9b687c",
   "metadata": {},
   "source": [
    "## 개선2\n",
    "- 좀 더 단순화가 가능할 듯"
   ]
  },
  {
   "cell_type": "code",
   "execution_count": 18,
   "id": "0f2c3e6c-8e03-4b4d-a7d2-6b92d3e6c34d",
   "metadata": {},
   "outputs": [],
   "source": [
    "def rob_improve2(nums: list[int]) -> int:\n",
    "    prev, current = 0, 0\n",
    "    for num in nums:\n",
    "        prev, current = current, max(current, prev + num)\n",
    "    return current"
   ]
  },
  {
   "cell_type": "code",
   "execution_count": 19,
   "id": "888ee89f-b7d4-4b4f-9f22-5988a44b6dde",
   "metadata": {},
   "outputs": [],
   "source": [
    "test_sets = [[1,2,3,1], [2,7,9,3,1], [1, 1000, 2, 3, 5000, 10000]]\n",
    "expects = [4, 12, 11003]\n",
    "\n",
    "for i, test_set in enumerate(test_sets):\n",
    "    assert expects[i] == rob_improve2(test_set)"
   ]
  },
  {
   "cell_type": "markdown",
   "id": "4b2a0bf5-93c9-4f5c-bf37-19f6fa72ead6",
   "metadata": {},
   "source": [
    "## 솔루션\n",
    "- 개선2와 동일"
   ]
  },
  {
   "cell_type": "code",
   "execution_count": null,
   "id": "964edde9-02ff-46e3-a379-794ca9f17616",
   "metadata": {},
   "outputs": [],
   "source": []
  }
 ],
 "metadata": {
  "kernelspec": {
   "display_name": "Python 3 (ipykernel)",
   "language": "python",
   "name": "python3"
  },
  "language_info": {
   "codemirror_mode": {
    "name": "ipython",
    "version": 3
   },
   "file_extension": ".py",
   "mimetype": "text/x-python",
   "name": "python",
   "nbconvert_exporter": "python",
   "pygments_lexer": "ipython3",
   "version": "3.10.9"
  }
 },
 "nbformat": 4,
 "nbformat_minor": 5
}

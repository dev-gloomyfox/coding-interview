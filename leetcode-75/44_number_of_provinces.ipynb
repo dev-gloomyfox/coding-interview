{
 "cells": [
  {
   "cell_type": "markdown",
   "id": "03721262-539c-4583-8e87-cd9a2b672bf9",
   "metadata": {},
   "source": [
    "# Number of Provinces\n",
    "- n개의 도시, 그 중 일부는 연결되어 있음 \n",
    "- 도시 A가 도시 B와 직접 연결되어 있고, 도시 B가 도시 C와 직접 연결되어 있다면 도시 A는 도시 C와 간접적으로 연결\n",
    "- 한 도시는 직간접적으로 연결된 도시들의 그룹이며 그룹 외부에 다른 도시는 없음\n",
    "- 첫 번째 도시와 두 번째 도시가 직접 연결되어 있으면 isConnected[i][j] = 1이고, 그렇지 않으면 isConnected[i][j] = 0이 되는 n x n 행렬 isConnected가 주어짐\n",
    "- 총 주의 수를 반환합니다.\n",
    "- 1 <= n <= 200\n",
    "- n == isConnected.length\n",
    "- n == isConnected[i].length\n",
    "- isConnected[i][j] is 1 or 0.\n",
    "- isConnected[i][i] == 1\n",
    "- isConnected[i][j] == isConnected[j][i]"
   ]
  },
  {
   "cell_type": "code",
   "execution_count": 5,
   "id": "7c69632c-30bd-4b88-b324-315c4c22b60a",
   "metadata": {},
   "outputs": [],
   "source": [
    "def findCircleNum(isConnected: list[list[int]]) -> int:\n",
    "    def dfs(i: int, is_visits: list[bool]):\n",
    "        if is_visits[i]:\n",
    "            return\n",
    "\n",
    "        is_visits[i] = True\n",
    "        for j in range(len(isConnected[i])):\n",
    "            if isConnected[i][j] == 1:\n",
    "                dfs(j, is_visits)\n",
    "    \n",
    "    circle = 0\n",
    "    is_visits = [False] * len(isConnected)\n",
    "    \n",
    "    for i in range(len(is_visits)):\n",
    "        if not is_visits[i]:\n",
    "            dfs(i, is_visits)\n",
    "            circle += 1\n",
    "\n",
    "    return circle"
   ]
  },
  {
   "cell_type": "code",
   "execution_count": 7,
   "id": "2990c93c-12b9-4bea-b4b1-50d7cda577c6",
   "metadata": {},
   "outputs": [],
   "source": [
    "test_sets = [[[1,1,0],[1,1,0],[0,0,1]], [[1,0,0],[0,1,0],[0,0,1]]]\n",
    "expects = [2, 3]\n",
    "\n",
    "for i, test_set in enumerate(test_sets):\n",
    "    assert expects[i] == findCircleNum(test_set)"
   ]
  },
  {
   "cell_type": "markdown",
   "id": "d7dc1871-2eb3-4666-b8e8-a8e38e2a479d",
   "metadata": {},
   "source": [
    "## 솔루션\n",
    "- 정답과 동일"
   ]
  },
  {
   "cell_type": "code",
   "execution_count": null,
   "id": "0234e43e-a5f2-4395-bac1-d58b1df85210",
   "metadata": {},
   "outputs": [],
   "source": []
  }
 ],
 "metadata": {
  "kernelspec": {
   "display_name": "Python 3 (ipykernel)",
   "language": "python",
   "name": "python3"
  },
  "language_info": {
   "codemirror_mode": {
    "name": "ipython",
    "version": 3
   },
   "file_extension": ".py",
   "mimetype": "text/x-python",
   "name": "python",
   "nbconvert_exporter": "python",
   "pygments_lexer": "ipython3",
   "version": "3.10.9"
  }
 },
 "nbformat": 4,
 "nbformat_minor": 5
}
